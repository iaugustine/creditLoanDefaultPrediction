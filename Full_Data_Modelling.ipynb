{
  "nbformat": 4,
  "nbformat_minor": 0,
  "metadata": {
    "colab": {
      "name": "Full Data Modelling.ipynb",
      "provenance": []
    },
    "kernelspec": {
      "name": "python3",
      "display_name": "Python 3"
    },
    "language_info": {
      "name": "python"
    },
    "accelerator": "GPU"
  },
  "cells": [
    {
      "cell_type": "code",
      "metadata": {
        "id": "lmS7EBNv0sYI"
      },
      "source": [
        ""
      ],
      "execution_count": 6,
      "outputs": []
    },
    {
      "cell_type": "code",
      "metadata": {
        "id": "7AaQqDvLv0v_"
      },
      "source": [
        ""
      ],
      "execution_count": 6,
      "outputs": []
    },
    {
      "cell_type": "code",
      "metadata": {
        "id": "9BJX4kLZmyI1"
      },
      "source": [
        "from google.colab import drive\n",
        "import pandas as pd\n",
        "pd.set_option('display.max_rows', 500)\n",
        "pd.set_option('display.max_columns', 500)\n",
        "pd.set_option('display.width', 1000)\n",
        "import seaborn as sns"
      ],
      "execution_count": 7,
      "outputs": []
    },
    {
      "cell_type": "code",
      "metadata": {
        "colab": {
          "base_uri": "https://localhost:8080/"
        },
        "id": "Ldsa5fxinTcQ",
        "outputId": "4f782626-30d3-4a70-d7e7-162a9b116396"
      },
      "source": [
        "drive.mount('/content/gdrive')"
      ],
      "execution_count": 8,
      "outputs": [
        {
          "output_type": "stream",
          "text": [
            "Drive already mounted at /content/gdrive; to attempt to forcibly remount, call drive.mount(\"/content/gdrive\", force_remount=True).\n"
          ],
          "name": "stdout"
        }
      ]
    },
    {
      "cell_type": "code",
      "metadata": {
        "colab": {
          "base_uri": "https://localhost:8080/"
        },
        "id": "jAe20yIfncyy",
        "outputId": "1353fefa-36df-4b47-c507-64234ed05945"
      },
      "source": [
        "!ls '/content/gdrive/MyDrive/datasets'"
      ],
      "execution_count": 9,
      "outputs": [
        {
          "output_type": "stream",
          "text": [
            "current_app.csv\n"
          ],
          "name": "stdout"
        }
      ]
    },
    {
      "cell_type": "code",
      "metadata": {
        "id": "B60q5Tdznt8f"
      },
      "source": [
        "df = pd.read_csv('/content/gdrive/MyDrive/datasets/current_app.csv')"
      ],
      "execution_count": 10,
      "outputs": []
    },
    {
      "cell_type": "code",
      "metadata": {
        "id": "_ESziaYkwhtw"
      },
      "source": [
        "import pandas as pd\n",
        "import numpy as np\n",
        "import seaborn as sns \n",
        "import matplotlib.pyplot as plt\n",
        "from pandas.plotting import scatter_matrix\n",
        "\n",
        "\n",
        "import xgboost as xgb\n",
        "from sklearn.model_selection import train_test_split, RandomizedSearchCV\n",
        "from sklearn.model_selection import cross_val_score\n",
        "from sklearn.model_selection import GridSearchCV\n",
        "from sklearn.metrics import confusion_matrix, classification_report\n",
        "from sklearn.preprocessing import LabelEncoder \n",
        "from sklearn.neighbors import KNeighborsClassifier\n",
        "from sklearn.impute import KNNImputer \n",
        "from sklearn.ensemble import RandomForestClassifier\n",
        "from sklearn import metrics \n",
        "\n",
        "from sklearn.metrics import precision_recall_curve, average_precision_score\n",
        "from sklearn.metrics import roc_curve, auc, roc_auc_score, silhouette_score\n",
        "from sklearn.decomposition import FastICA, PCA \n",
        "\n",
        "from sklearn.cluster import KMeans \n",
        "\n",
        "from sklearn.linear_model import LogisticRegression\n",
        "from sklearn.tree import DecisionTreeClassifier, plot_tree\n",
        "\n",
        "\n",
        "import warnings\n",
        "warnings.filterwarnings('ignore')\n",
        "\n",
        "from tqdm import tqdm\n",
        "import time"
      ],
      "execution_count": 11,
      "outputs": []
    },
    {
      "cell_type": "code",
      "metadata": {
        "id": "hAYGJG44wupj"
      },
      "source": [
        "df = pd.read_csv('/content/gdrive/MyDrive/datasets/current_app.csv')\n",
        "#df = pd.read_csv(\"current_app.csv\")\n",
        "df = df.drop('SK_ID_CURR', axis = 1)\n"
      ],
      "execution_count": 12,
      "outputs": []
    },
    {
      "cell_type": "code",
      "metadata": {
        "id": "wfgsyALdw-5_"
      },
      "source": [
        ""
      ],
      "execution_count": 12,
      "outputs": []
    },
    {
      "cell_type": "code",
      "metadata": {
        "id": "P0AhtgEswI9X"
      },
      "source": [
        ""
      ],
      "execution_count": 12,
      "outputs": []
    },
    {
      "cell_type": "code",
      "metadata": {
        "id": "cUBTeW5LwI9Y",
        "colab": {
          "base_uri": "https://localhost:8080/",
          "height": 287
        },
        "outputId": "1879ad27-805a-4eac-90e5-83597a8c4058"
      },
      "source": [
        "df.head()"
      ],
      "execution_count": 13,
      "outputs": [
        {
          "output_type": "execute_result",
          "data": {
            "text/html": [
              "<div>\n",
              "<style scoped>\n",
              "    .dataframe tbody tr th:only-of-type {\n",
              "        vertical-align: middle;\n",
              "    }\n",
              "\n",
              "    .dataframe tbody tr th {\n",
              "        vertical-align: top;\n",
              "    }\n",
              "\n",
              "    .dataframe thead th {\n",
              "        text-align: right;\n",
              "    }\n",
              "</style>\n",
              "<table border=\"1\" class=\"dataframe\">\n",
              "  <thead>\n",
              "    <tr style=\"text-align: right;\">\n",
              "      <th></th>\n",
              "      <th>TARGET</th>\n",
              "      <th>NAME_CONTRACT_TYPE</th>\n",
              "      <th>CODE_GENDER</th>\n",
              "      <th>FLAG_OWN_CAR</th>\n",
              "      <th>FLAG_OWN_REALTY</th>\n",
              "      <th>CNT_CHILDREN</th>\n",
              "      <th>AMT_INCOME_TOTAL</th>\n",
              "      <th>AMT_CREDIT</th>\n",
              "      <th>AMT_ANNUITY</th>\n",
              "      <th>AMT_GOODS_PRICE</th>\n",
              "      <th>NAME_TYPE_SUITE</th>\n",
              "      <th>NAME_INCOME_TYPE</th>\n",
              "      <th>NAME_EDUCATION_TYPE</th>\n",
              "      <th>NAME_FAMILY_STATUS</th>\n",
              "      <th>NAME_HOUSING_TYPE</th>\n",
              "      <th>REGION_POPULATION_RELATIVE</th>\n",
              "      <th>DAYS_BIRTH</th>\n",
              "      <th>DAYS_EMPLOYED</th>\n",
              "      <th>DAYS_REGISTRATION</th>\n",
              "      <th>DAYS_ID_PUBLISH</th>\n",
              "      <th>OWN_CAR_AGE</th>\n",
              "      <th>FLAG_MOBIL</th>\n",
              "      <th>FLAG_EMP_PHONE</th>\n",
              "      <th>FLAG_WORK_PHONE</th>\n",
              "      <th>FLAG_CONT_MOBILE</th>\n",
              "      <th>FLAG_PHONE</th>\n",
              "      <th>FLAG_EMAIL</th>\n",
              "      <th>OCCUPATION_TYPE</th>\n",
              "      <th>CNT_FAM_MEMBERS</th>\n",
              "      <th>REGION_RATING_CLIENT</th>\n",
              "      <th>REGION_RATING_CLIENT_W_CITY</th>\n",
              "      <th>WEEKDAY_APPR_PROCESS_START</th>\n",
              "      <th>HOUR_APPR_PROCESS_START</th>\n",
              "      <th>REG_REGION_NOT_LIVE_REGION</th>\n",
              "      <th>REG_REGION_NOT_WORK_REGION</th>\n",
              "      <th>LIVE_REGION_NOT_WORK_REGION</th>\n",
              "      <th>REG_CITY_NOT_LIVE_CITY</th>\n",
              "      <th>REG_CITY_NOT_WORK_CITY</th>\n",
              "      <th>LIVE_CITY_NOT_WORK_CITY</th>\n",
              "      <th>ORGANIZATION_TYPE</th>\n",
              "      <th>EXT_SOURCE_1</th>\n",
              "      <th>EXT_SOURCE_2</th>\n",
              "      <th>EXT_SOURCE_3</th>\n",
              "      <th>APARTMENTS_AVG</th>\n",
              "      <th>BASEMENTAREA_AVG</th>\n",
              "      <th>YEARS_BEGINEXPLUATATION_AVG</th>\n",
              "      <th>YEARS_BUILD_AVG</th>\n",
              "      <th>COMMONAREA_AVG</th>\n",
              "      <th>ELEVATORS_AVG</th>\n",
              "      <th>ENTRANCES_AVG</th>\n",
              "      <th>FLOORSMAX_AVG</th>\n",
              "      <th>FLOORSMIN_AVG</th>\n",
              "      <th>LANDAREA_AVG</th>\n",
              "      <th>LIVINGAPARTMENTS_AVG</th>\n",
              "      <th>LIVINGAREA_AVG</th>\n",
              "      <th>NONLIVINGAPARTMENTS_AVG</th>\n",
              "      <th>NONLIVINGAREA_AVG</th>\n",
              "      <th>APARTMENTS_MODE</th>\n",
              "      <th>BASEMENTAREA_MODE</th>\n",
              "      <th>YEARS_BEGINEXPLUATATION_MODE</th>\n",
              "      <th>YEARS_BUILD_MODE</th>\n",
              "      <th>COMMONAREA_MODE</th>\n",
              "      <th>ELEVATORS_MODE</th>\n",
              "      <th>ENTRANCES_MODE</th>\n",
              "      <th>FLOORSMAX_MODE</th>\n",
              "      <th>FLOORSMIN_MODE</th>\n",
              "      <th>LANDAREA_MODE</th>\n",
              "      <th>LIVINGAPARTMENTS_MODE</th>\n",
              "      <th>LIVINGAREA_MODE</th>\n",
              "      <th>NONLIVINGAPARTMENTS_MODE</th>\n",
              "      <th>NONLIVINGAREA_MODE</th>\n",
              "      <th>APARTMENTS_MEDI</th>\n",
              "      <th>BASEMENTAREA_MEDI</th>\n",
              "      <th>YEARS_BEGINEXPLUATATION_MEDI</th>\n",
              "      <th>YEARS_BUILD_MEDI</th>\n",
              "      <th>COMMONAREA_MEDI</th>\n",
              "      <th>ELEVATORS_MEDI</th>\n",
              "      <th>ENTRANCES_MEDI</th>\n",
              "      <th>FLOORSMAX_MEDI</th>\n",
              "      <th>FLOORSMIN_MEDI</th>\n",
              "      <th>LANDAREA_MEDI</th>\n",
              "      <th>LIVINGAPARTMENTS_MEDI</th>\n",
              "      <th>LIVINGAREA_MEDI</th>\n",
              "      <th>NONLIVINGAPARTMENTS_MEDI</th>\n",
              "      <th>NONLIVINGAREA_MEDI</th>\n",
              "      <th>FONDKAPREMONT_MODE</th>\n",
              "      <th>HOUSETYPE_MODE</th>\n",
              "      <th>TOTALAREA_MODE</th>\n",
              "      <th>WALLSMATERIAL_MODE</th>\n",
              "      <th>EMERGENCYSTATE_MODE</th>\n",
              "      <th>OBS_30_CNT_SOCIAL_CIRCLE</th>\n",
              "      <th>DEF_30_CNT_SOCIAL_CIRCLE</th>\n",
              "      <th>OBS_60_CNT_SOCIAL_CIRCLE</th>\n",
              "      <th>DEF_60_CNT_SOCIAL_CIRCLE</th>\n",
              "      <th>DAYS_LAST_PHONE_CHANGE</th>\n",
              "      <th>FLAG_DOCUMENT_2</th>\n",
              "      <th>FLAG_DOCUMENT_3</th>\n",
              "      <th>FLAG_DOCUMENT_4</th>\n",
              "      <th>FLAG_DOCUMENT_5</th>\n",
              "      <th>FLAG_DOCUMENT_6</th>\n",
              "      <th>FLAG_DOCUMENT_7</th>\n",
              "      <th>FLAG_DOCUMENT_8</th>\n",
              "      <th>FLAG_DOCUMENT_9</th>\n",
              "      <th>FLAG_DOCUMENT_10</th>\n",
              "      <th>FLAG_DOCUMENT_11</th>\n",
              "      <th>FLAG_DOCUMENT_12</th>\n",
              "      <th>FLAG_DOCUMENT_13</th>\n",
              "      <th>FLAG_DOCUMENT_14</th>\n",
              "      <th>FLAG_DOCUMENT_15</th>\n",
              "      <th>FLAG_DOCUMENT_16</th>\n",
              "      <th>FLAG_DOCUMENT_17</th>\n",
              "      <th>FLAG_DOCUMENT_18</th>\n",
              "      <th>FLAG_DOCUMENT_19</th>\n",
              "      <th>FLAG_DOCUMENT_20</th>\n",
              "      <th>FLAG_DOCUMENT_21</th>\n",
              "      <th>AMT_REQ_CREDIT_BUREAU_HOUR</th>\n",
              "      <th>AMT_REQ_CREDIT_BUREAU_DAY</th>\n",
              "      <th>AMT_REQ_CREDIT_BUREAU_WEEK</th>\n",
              "      <th>AMT_REQ_CREDIT_BUREAU_MON</th>\n",
              "      <th>AMT_REQ_CREDIT_BUREAU_QRT</th>\n",
              "      <th>AMT_REQ_CREDIT_BUREAU_YEAR</th>\n",
              "    </tr>\n",
              "  </thead>\n",
              "  <tbody>\n",
              "    <tr>\n",
              "      <th>0</th>\n",
              "      <td>1</td>\n",
              "      <td>Cash loans</td>\n",
              "      <td>M</td>\n",
              "      <td>N</td>\n",
              "      <td>Y</td>\n",
              "      <td>0</td>\n",
              "      <td>202500.0</td>\n",
              "      <td>406597.5</td>\n",
              "      <td>24700.5</td>\n",
              "      <td>351000.0</td>\n",
              "      <td>Unaccompanied</td>\n",
              "      <td>Working</td>\n",
              "      <td>Secondary / secondary special</td>\n",
              "      <td>Single / not married</td>\n",
              "      <td>House / apartment</td>\n",
              "      <td>0.018801</td>\n",
              "      <td>-9461</td>\n",
              "      <td>-637</td>\n",
              "      <td>-3648.0</td>\n",
              "      <td>-2120</td>\n",
              "      <td>NaN</td>\n",
              "      <td>1</td>\n",
              "      <td>1</td>\n",
              "      <td>0</td>\n",
              "      <td>1</td>\n",
              "      <td>1</td>\n",
              "      <td>0</td>\n",
              "      <td>Laborers</td>\n",
              "      <td>1.0</td>\n",
              "      <td>2</td>\n",
              "      <td>2</td>\n",
              "      <td>WEDNESDAY</td>\n",
              "      <td>10</td>\n",
              "      <td>0</td>\n",
              "      <td>0</td>\n",
              "      <td>0</td>\n",
              "      <td>0</td>\n",
              "      <td>0</td>\n",
              "      <td>0</td>\n",
              "      <td>Business Entity Type 3</td>\n",
              "      <td>0.083037</td>\n",
              "      <td>0.262949</td>\n",
              "      <td>0.139376</td>\n",
              "      <td>0.0247</td>\n",
              "      <td>0.0369</td>\n",
              "      <td>0.9722</td>\n",
              "      <td>0.6192</td>\n",
              "      <td>0.0143</td>\n",
              "      <td>0.00</td>\n",
              "      <td>0.0690</td>\n",
              "      <td>0.0833</td>\n",
              "      <td>0.1250</td>\n",
              "      <td>0.0369</td>\n",
              "      <td>0.0202</td>\n",
              "      <td>0.0190</td>\n",
              "      <td>0.0000</td>\n",
              "      <td>0.0000</td>\n",
              "      <td>0.0252</td>\n",
              "      <td>0.0383</td>\n",
              "      <td>0.9722</td>\n",
              "      <td>0.6341</td>\n",
              "      <td>0.0144</td>\n",
              "      <td>0.0000</td>\n",
              "      <td>0.0690</td>\n",
              "      <td>0.0833</td>\n",
              "      <td>0.1250</td>\n",
              "      <td>0.0377</td>\n",
              "      <td>0.022</td>\n",
              "      <td>0.0198</td>\n",
              "      <td>0.0</td>\n",
              "      <td>0.0</td>\n",
              "      <td>0.0250</td>\n",
              "      <td>0.0369</td>\n",
              "      <td>0.9722</td>\n",
              "      <td>0.6243</td>\n",
              "      <td>0.0144</td>\n",
              "      <td>0.00</td>\n",
              "      <td>0.0690</td>\n",
              "      <td>0.0833</td>\n",
              "      <td>0.1250</td>\n",
              "      <td>0.0375</td>\n",
              "      <td>0.0205</td>\n",
              "      <td>0.0193</td>\n",
              "      <td>0.0000</td>\n",
              "      <td>0.00</td>\n",
              "      <td>reg oper account</td>\n",
              "      <td>block of flats</td>\n",
              "      <td>0.0149</td>\n",
              "      <td>Stone, brick</td>\n",
              "      <td>No</td>\n",
              "      <td>2.0</td>\n",
              "      <td>2.0</td>\n",
              "      <td>2.0</td>\n",
              "      <td>2.0</td>\n",
              "      <td>-1134.0</td>\n",
              "      <td>0</td>\n",
              "      <td>1</td>\n",
              "      <td>0</td>\n",
              "      <td>0</td>\n",
              "      <td>0</td>\n",
              "      <td>0</td>\n",
              "      <td>0</td>\n",
              "      <td>0</td>\n",
              "      <td>0</td>\n",
              "      <td>0</td>\n",
              "      <td>0</td>\n",
              "      <td>0</td>\n",
              "      <td>0</td>\n",
              "      <td>0</td>\n",
              "      <td>0</td>\n",
              "      <td>0</td>\n",
              "      <td>0</td>\n",
              "      <td>0</td>\n",
              "      <td>0</td>\n",
              "      <td>0</td>\n",
              "      <td>0.0</td>\n",
              "      <td>0.0</td>\n",
              "      <td>0.0</td>\n",
              "      <td>0.0</td>\n",
              "      <td>0.0</td>\n",
              "      <td>1.0</td>\n",
              "    </tr>\n",
              "    <tr>\n",
              "      <th>1</th>\n",
              "      <td>0</td>\n",
              "      <td>Cash loans</td>\n",
              "      <td>F</td>\n",
              "      <td>N</td>\n",
              "      <td>N</td>\n",
              "      <td>0</td>\n",
              "      <td>270000.0</td>\n",
              "      <td>1293502.5</td>\n",
              "      <td>35698.5</td>\n",
              "      <td>1129500.0</td>\n",
              "      <td>Family</td>\n",
              "      <td>State servant</td>\n",
              "      <td>Higher education</td>\n",
              "      <td>Married</td>\n",
              "      <td>House / apartment</td>\n",
              "      <td>0.003541</td>\n",
              "      <td>-16765</td>\n",
              "      <td>-1188</td>\n",
              "      <td>-1186.0</td>\n",
              "      <td>-291</td>\n",
              "      <td>NaN</td>\n",
              "      <td>1</td>\n",
              "      <td>1</td>\n",
              "      <td>0</td>\n",
              "      <td>1</td>\n",
              "      <td>1</td>\n",
              "      <td>0</td>\n",
              "      <td>Core staff</td>\n",
              "      <td>2.0</td>\n",
              "      <td>1</td>\n",
              "      <td>1</td>\n",
              "      <td>MONDAY</td>\n",
              "      <td>11</td>\n",
              "      <td>0</td>\n",
              "      <td>0</td>\n",
              "      <td>0</td>\n",
              "      <td>0</td>\n",
              "      <td>0</td>\n",
              "      <td>0</td>\n",
              "      <td>School</td>\n",
              "      <td>0.311267</td>\n",
              "      <td>0.622246</td>\n",
              "      <td>NaN</td>\n",
              "      <td>0.0959</td>\n",
              "      <td>0.0529</td>\n",
              "      <td>0.9851</td>\n",
              "      <td>0.7960</td>\n",
              "      <td>0.0605</td>\n",
              "      <td>0.08</td>\n",
              "      <td>0.0345</td>\n",
              "      <td>0.2917</td>\n",
              "      <td>0.3333</td>\n",
              "      <td>0.0130</td>\n",
              "      <td>0.0773</td>\n",
              "      <td>0.0549</td>\n",
              "      <td>0.0039</td>\n",
              "      <td>0.0098</td>\n",
              "      <td>0.0924</td>\n",
              "      <td>0.0538</td>\n",
              "      <td>0.9851</td>\n",
              "      <td>0.8040</td>\n",
              "      <td>0.0497</td>\n",
              "      <td>0.0806</td>\n",
              "      <td>0.0345</td>\n",
              "      <td>0.2917</td>\n",
              "      <td>0.3333</td>\n",
              "      <td>0.0128</td>\n",
              "      <td>0.079</td>\n",
              "      <td>0.0554</td>\n",
              "      <td>0.0</td>\n",
              "      <td>0.0</td>\n",
              "      <td>0.0968</td>\n",
              "      <td>0.0529</td>\n",
              "      <td>0.9851</td>\n",
              "      <td>0.7987</td>\n",
              "      <td>0.0608</td>\n",
              "      <td>0.08</td>\n",
              "      <td>0.0345</td>\n",
              "      <td>0.2917</td>\n",
              "      <td>0.3333</td>\n",
              "      <td>0.0132</td>\n",
              "      <td>0.0787</td>\n",
              "      <td>0.0558</td>\n",
              "      <td>0.0039</td>\n",
              "      <td>0.01</td>\n",
              "      <td>reg oper account</td>\n",
              "      <td>block of flats</td>\n",
              "      <td>0.0714</td>\n",
              "      <td>Block</td>\n",
              "      <td>No</td>\n",
              "      <td>1.0</td>\n",
              "      <td>0.0</td>\n",
              "      <td>1.0</td>\n",
              "      <td>0.0</td>\n",
              "      <td>-828.0</td>\n",
              "      <td>0</td>\n",
              "      <td>1</td>\n",
              "      <td>0</td>\n",
              "      <td>0</td>\n",
              "      <td>0</td>\n",
              "      <td>0</td>\n",
              "      <td>0</td>\n",
              "      <td>0</td>\n",
              "      <td>0</td>\n",
              "      <td>0</td>\n",
              "      <td>0</td>\n",
              "      <td>0</td>\n",
              "      <td>0</td>\n",
              "      <td>0</td>\n",
              "      <td>0</td>\n",
              "      <td>0</td>\n",
              "      <td>0</td>\n",
              "      <td>0</td>\n",
              "      <td>0</td>\n",
              "      <td>0</td>\n",
              "      <td>0.0</td>\n",
              "      <td>0.0</td>\n",
              "      <td>0.0</td>\n",
              "      <td>0.0</td>\n",
              "      <td>0.0</td>\n",
              "      <td>0.0</td>\n",
              "    </tr>\n",
              "    <tr>\n",
              "      <th>2</th>\n",
              "      <td>0</td>\n",
              "      <td>Revolving loans</td>\n",
              "      <td>M</td>\n",
              "      <td>Y</td>\n",
              "      <td>Y</td>\n",
              "      <td>0</td>\n",
              "      <td>67500.0</td>\n",
              "      <td>135000.0</td>\n",
              "      <td>6750.0</td>\n",
              "      <td>135000.0</td>\n",
              "      <td>Unaccompanied</td>\n",
              "      <td>Working</td>\n",
              "      <td>Secondary / secondary special</td>\n",
              "      <td>Single / not married</td>\n",
              "      <td>House / apartment</td>\n",
              "      <td>0.010032</td>\n",
              "      <td>-19046</td>\n",
              "      <td>-225</td>\n",
              "      <td>-4260.0</td>\n",
              "      <td>-2531</td>\n",
              "      <td>26.0</td>\n",
              "      <td>1</td>\n",
              "      <td>1</td>\n",
              "      <td>1</td>\n",
              "      <td>1</td>\n",
              "      <td>1</td>\n",
              "      <td>0</td>\n",
              "      <td>Laborers</td>\n",
              "      <td>1.0</td>\n",
              "      <td>2</td>\n",
              "      <td>2</td>\n",
              "      <td>MONDAY</td>\n",
              "      <td>9</td>\n",
              "      <td>0</td>\n",
              "      <td>0</td>\n",
              "      <td>0</td>\n",
              "      <td>0</td>\n",
              "      <td>0</td>\n",
              "      <td>0</td>\n",
              "      <td>Government</td>\n",
              "      <td>NaN</td>\n",
              "      <td>0.555912</td>\n",
              "      <td>0.729567</td>\n",
              "      <td>NaN</td>\n",
              "      <td>NaN</td>\n",
              "      <td>NaN</td>\n",
              "      <td>NaN</td>\n",
              "      <td>NaN</td>\n",
              "      <td>NaN</td>\n",
              "      <td>NaN</td>\n",
              "      <td>NaN</td>\n",
              "      <td>NaN</td>\n",
              "      <td>NaN</td>\n",
              "      <td>NaN</td>\n",
              "      <td>NaN</td>\n",
              "      <td>NaN</td>\n",
              "      <td>NaN</td>\n",
              "      <td>NaN</td>\n",
              "      <td>NaN</td>\n",
              "      <td>NaN</td>\n",
              "      <td>NaN</td>\n",
              "      <td>NaN</td>\n",
              "      <td>NaN</td>\n",
              "      <td>NaN</td>\n",
              "      <td>NaN</td>\n",
              "      <td>NaN</td>\n",
              "      <td>NaN</td>\n",
              "      <td>NaN</td>\n",
              "      <td>NaN</td>\n",
              "      <td>NaN</td>\n",
              "      <td>NaN</td>\n",
              "      <td>NaN</td>\n",
              "      <td>NaN</td>\n",
              "      <td>NaN</td>\n",
              "      <td>NaN</td>\n",
              "      <td>NaN</td>\n",
              "      <td>NaN</td>\n",
              "      <td>NaN</td>\n",
              "      <td>NaN</td>\n",
              "      <td>NaN</td>\n",
              "      <td>NaN</td>\n",
              "      <td>NaN</td>\n",
              "      <td>NaN</td>\n",
              "      <td>NaN</td>\n",
              "      <td>NaN</td>\n",
              "      <td>NaN</td>\n",
              "      <td>NaN</td>\n",
              "      <td>NaN</td>\n",
              "      <td>NaN</td>\n",
              "      <td>NaN</td>\n",
              "      <td>0.0</td>\n",
              "      <td>0.0</td>\n",
              "      <td>0.0</td>\n",
              "      <td>0.0</td>\n",
              "      <td>-815.0</td>\n",
              "      <td>0</td>\n",
              "      <td>0</td>\n",
              "      <td>0</td>\n",
              "      <td>0</td>\n",
              "      <td>0</td>\n",
              "      <td>0</td>\n",
              "      <td>0</td>\n",
              "      <td>0</td>\n",
              "      <td>0</td>\n",
              "      <td>0</td>\n",
              "      <td>0</td>\n",
              "      <td>0</td>\n",
              "      <td>0</td>\n",
              "      <td>0</td>\n",
              "      <td>0</td>\n",
              "      <td>0</td>\n",
              "      <td>0</td>\n",
              "      <td>0</td>\n",
              "      <td>0</td>\n",
              "      <td>0</td>\n",
              "      <td>0.0</td>\n",
              "      <td>0.0</td>\n",
              "      <td>0.0</td>\n",
              "      <td>0.0</td>\n",
              "      <td>0.0</td>\n",
              "      <td>0.0</td>\n",
              "    </tr>\n",
              "    <tr>\n",
              "      <th>3</th>\n",
              "      <td>0</td>\n",
              "      <td>Cash loans</td>\n",
              "      <td>F</td>\n",
              "      <td>N</td>\n",
              "      <td>Y</td>\n",
              "      <td>0</td>\n",
              "      <td>135000.0</td>\n",
              "      <td>312682.5</td>\n",
              "      <td>29686.5</td>\n",
              "      <td>297000.0</td>\n",
              "      <td>Unaccompanied</td>\n",
              "      <td>Working</td>\n",
              "      <td>Secondary / secondary special</td>\n",
              "      <td>Civil marriage</td>\n",
              "      <td>House / apartment</td>\n",
              "      <td>0.008019</td>\n",
              "      <td>-19005</td>\n",
              "      <td>-3039</td>\n",
              "      <td>-9833.0</td>\n",
              "      <td>-2437</td>\n",
              "      <td>NaN</td>\n",
              "      <td>1</td>\n",
              "      <td>1</td>\n",
              "      <td>0</td>\n",
              "      <td>1</td>\n",
              "      <td>0</td>\n",
              "      <td>0</td>\n",
              "      <td>Laborers</td>\n",
              "      <td>2.0</td>\n",
              "      <td>2</td>\n",
              "      <td>2</td>\n",
              "      <td>WEDNESDAY</td>\n",
              "      <td>17</td>\n",
              "      <td>0</td>\n",
              "      <td>0</td>\n",
              "      <td>0</td>\n",
              "      <td>0</td>\n",
              "      <td>0</td>\n",
              "      <td>0</td>\n",
              "      <td>Business Entity Type 3</td>\n",
              "      <td>NaN</td>\n",
              "      <td>0.650442</td>\n",
              "      <td>NaN</td>\n",
              "      <td>NaN</td>\n",
              "      <td>NaN</td>\n",
              "      <td>NaN</td>\n",
              "      <td>NaN</td>\n",
              "      <td>NaN</td>\n",
              "      <td>NaN</td>\n",
              "      <td>NaN</td>\n",
              "      <td>NaN</td>\n",
              "      <td>NaN</td>\n",
              "      <td>NaN</td>\n",
              "      <td>NaN</td>\n",
              "      <td>NaN</td>\n",
              "      <td>NaN</td>\n",
              "      <td>NaN</td>\n",
              "      <td>NaN</td>\n",
              "      <td>NaN</td>\n",
              "      <td>NaN</td>\n",
              "      <td>NaN</td>\n",
              "      <td>NaN</td>\n",
              "      <td>NaN</td>\n",
              "      <td>NaN</td>\n",
              "      <td>NaN</td>\n",
              "      <td>NaN</td>\n",
              "      <td>NaN</td>\n",
              "      <td>NaN</td>\n",
              "      <td>NaN</td>\n",
              "      <td>NaN</td>\n",
              "      <td>NaN</td>\n",
              "      <td>NaN</td>\n",
              "      <td>NaN</td>\n",
              "      <td>NaN</td>\n",
              "      <td>NaN</td>\n",
              "      <td>NaN</td>\n",
              "      <td>NaN</td>\n",
              "      <td>NaN</td>\n",
              "      <td>NaN</td>\n",
              "      <td>NaN</td>\n",
              "      <td>NaN</td>\n",
              "      <td>NaN</td>\n",
              "      <td>NaN</td>\n",
              "      <td>NaN</td>\n",
              "      <td>NaN</td>\n",
              "      <td>NaN</td>\n",
              "      <td>NaN</td>\n",
              "      <td>NaN</td>\n",
              "      <td>NaN</td>\n",
              "      <td>NaN</td>\n",
              "      <td>2.0</td>\n",
              "      <td>0.0</td>\n",
              "      <td>2.0</td>\n",
              "      <td>0.0</td>\n",
              "      <td>-617.0</td>\n",
              "      <td>0</td>\n",
              "      <td>1</td>\n",
              "      <td>0</td>\n",
              "      <td>0</td>\n",
              "      <td>0</td>\n",
              "      <td>0</td>\n",
              "      <td>0</td>\n",
              "      <td>0</td>\n",
              "      <td>0</td>\n",
              "      <td>0</td>\n",
              "      <td>0</td>\n",
              "      <td>0</td>\n",
              "      <td>0</td>\n",
              "      <td>0</td>\n",
              "      <td>0</td>\n",
              "      <td>0</td>\n",
              "      <td>0</td>\n",
              "      <td>0</td>\n",
              "      <td>0</td>\n",
              "      <td>0</td>\n",
              "      <td>NaN</td>\n",
              "      <td>NaN</td>\n",
              "      <td>NaN</td>\n",
              "      <td>NaN</td>\n",
              "      <td>NaN</td>\n",
              "      <td>NaN</td>\n",
              "    </tr>\n",
              "    <tr>\n",
              "      <th>4</th>\n",
              "      <td>0</td>\n",
              "      <td>Cash loans</td>\n",
              "      <td>M</td>\n",
              "      <td>N</td>\n",
              "      <td>Y</td>\n",
              "      <td>0</td>\n",
              "      <td>121500.0</td>\n",
              "      <td>513000.0</td>\n",
              "      <td>21865.5</td>\n",
              "      <td>513000.0</td>\n",
              "      <td>Unaccompanied</td>\n",
              "      <td>Working</td>\n",
              "      <td>Secondary / secondary special</td>\n",
              "      <td>Single / not married</td>\n",
              "      <td>House / apartment</td>\n",
              "      <td>0.028663</td>\n",
              "      <td>-19932</td>\n",
              "      <td>-3038</td>\n",
              "      <td>-4311.0</td>\n",
              "      <td>-3458</td>\n",
              "      <td>NaN</td>\n",
              "      <td>1</td>\n",
              "      <td>1</td>\n",
              "      <td>0</td>\n",
              "      <td>1</td>\n",
              "      <td>0</td>\n",
              "      <td>0</td>\n",
              "      <td>Core staff</td>\n",
              "      <td>1.0</td>\n",
              "      <td>2</td>\n",
              "      <td>2</td>\n",
              "      <td>THURSDAY</td>\n",
              "      <td>11</td>\n",
              "      <td>0</td>\n",
              "      <td>0</td>\n",
              "      <td>0</td>\n",
              "      <td>0</td>\n",
              "      <td>1</td>\n",
              "      <td>1</td>\n",
              "      <td>Religion</td>\n",
              "      <td>NaN</td>\n",
              "      <td>0.322738</td>\n",
              "      <td>NaN</td>\n",
              "      <td>NaN</td>\n",
              "      <td>NaN</td>\n",
              "      <td>NaN</td>\n",
              "      <td>NaN</td>\n",
              "      <td>NaN</td>\n",
              "      <td>NaN</td>\n",
              "      <td>NaN</td>\n",
              "      <td>NaN</td>\n",
              "      <td>NaN</td>\n",
              "      <td>NaN</td>\n",
              "      <td>NaN</td>\n",
              "      <td>NaN</td>\n",
              "      <td>NaN</td>\n",
              "      <td>NaN</td>\n",
              "      <td>NaN</td>\n",
              "      <td>NaN</td>\n",
              "      <td>NaN</td>\n",
              "      <td>NaN</td>\n",
              "      <td>NaN</td>\n",
              "      <td>NaN</td>\n",
              "      <td>NaN</td>\n",
              "      <td>NaN</td>\n",
              "      <td>NaN</td>\n",
              "      <td>NaN</td>\n",
              "      <td>NaN</td>\n",
              "      <td>NaN</td>\n",
              "      <td>NaN</td>\n",
              "      <td>NaN</td>\n",
              "      <td>NaN</td>\n",
              "      <td>NaN</td>\n",
              "      <td>NaN</td>\n",
              "      <td>NaN</td>\n",
              "      <td>NaN</td>\n",
              "      <td>NaN</td>\n",
              "      <td>NaN</td>\n",
              "      <td>NaN</td>\n",
              "      <td>NaN</td>\n",
              "      <td>NaN</td>\n",
              "      <td>NaN</td>\n",
              "      <td>NaN</td>\n",
              "      <td>NaN</td>\n",
              "      <td>NaN</td>\n",
              "      <td>NaN</td>\n",
              "      <td>NaN</td>\n",
              "      <td>NaN</td>\n",
              "      <td>NaN</td>\n",
              "      <td>NaN</td>\n",
              "      <td>0.0</td>\n",
              "      <td>0.0</td>\n",
              "      <td>0.0</td>\n",
              "      <td>0.0</td>\n",
              "      <td>-1106.0</td>\n",
              "      <td>0</td>\n",
              "      <td>0</td>\n",
              "      <td>0</td>\n",
              "      <td>0</td>\n",
              "      <td>0</td>\n",
              "      <td>0</td>\n",
              "      <td>1</td>\n",
              "      <td>0</td>\n",
              "      <td>0</td>\n",
              "      <td>0</td>\n",
              "      <td>0</td>\n",
              "      <td>0</td>\n",
              "      <td>0</td>\n",
              "      <td>0</td>\n",
              "      <td>0</td>\n",
              "      <td>0</td>\n",
              "      <td>0</td>\n",
              "      <td>0</td>\n",
              "      <td>0</td>\n",
              "      <td>0</td>\n",
              "      <td>0.0</td>\n",
              "      <td>0.0</td>\n",
              "      <td>0.0</td>\n",
              "      <td>0.0</td>\n",
              "      <td>0.0</td>\n",
              "      <td>0.0</td>\n",
              "    </tr>\n",
              "  </tbody>\n",
              "</table>\n",
              "</div>"
            ],
            "text/plain": [
              "   TARGET NAME_CONTRACT_TYPE CODE_GENDER FLAG_OWN_CAR FLAG_OWN_REALTY  CNT_CHILDREN  AMT_INCOME_TOTAL  AMT_CREDIT  AMT_ANNUITY  AMT_GOODS_PRICE NAME_TYPE_SUITE NAME_INCOME_TYPE            NAME_EDUCATION_TYPE    NAME_FAMILY_STATUS  NAME_HOUSING_TYPE  REGION_POPULATION_RELATIVE  DAYS_BIRTH  DAYS_EMPLOYED  DAYS_REGISTRATION  DAYS_ID_PUBLISH  OWN_CAR_AGE  FLAG_MOBIL  FLAG_EMP_PHONE  FLAG_WORK_PHONE  FLAG_CONT_MOBILE  FLAG_PHONE  FLAG_EMAIL OCCUPATION_TYPE  CNT_FAM_MEMBERS  REGION_RATING_CLIENT  REGION_RATING_CLIENT_W_CITY WEEKDAY_APPR_PROCESS_START  HOUR_APPR_PROCESS_START  REG_REGION_NOT_LIVE_REGION  REG_REGION_NOT_WORK_REGION  LIVE_REGION_NOT_WORK_REGION  REG_CITY_NOT_LIVE_CITY  REG_CITY_NOT_WORK_CITY  LIVE_CITY_NOT_WORK_CITY       ORGANIZATION_TYPE  EXT_SOURCE_1  EXT_SOURCE_2  EXT_SOURCE_3  APARTMENTS_AVG  BASEMENTAREA_AVG  YEARS_BEGINEXPLUATATION_AVG  YEARS_BUILD_AVG  COMMONAREA_AVG  ELEVATORS_AVG  ENTRANCES_AVG  FLOORSMAX_AVG  FLOORSMIN_AVG  LANDAREA_AVG  LIVINGAPARTMENTS_AVG  \\\n",
              "0       1         Cash loans           M            N               Y             0          202500.0    406597.5      24700.5         351000.0   Unaccompanied          Working  Secondary / secondary special  Single / not married  House / apartment                    0.018801       -9461           -637            -3648.0            -2120          NaN           1               1                0                 1           1           0        Laborers              1.0                     2                            2                  WEDNESDAY                       10                           0                           0                            0                       0                       0                        0  Business Entity Type 3      0.083037      0.262949      0.139376          0.0247            0.0369                       0.9722           0.6192          0.0143           0.00         0.0690         0.0833         0.1250        0.0369                0.0202   \n",
              "1       0         Cash loans           F            N               N             0          270000.0   1293502.5      35698.5        1129500.0          Family    State servant               Higher education               Married  House / apartment                    0.003541      -16765          -1188            -1186.0             -291          NaN           1               1                0                 1           1           0      Core staff              2.0                     1                            1                     MONDAY                       11                           0                           0                            0                       0                       0                        0                  School      0.311267      0.622246           NaN          0.0959            0.0529                       0.9851           0.7960          0.0605           0.08         0.0345         0.2917         0.3333        0.0130                0.0773   \n",
              "2       0    Revolving loans           M            Y               Y             0           67500.0    135000.0       6750.0         135000.0   Unaccompanied          Working  Secondary / secondary special  Single / not married  House / apartment                    0.010032      -19046           -225            -4260.0            -2531         26.0           1               1                1                 1           1           0        Laborers              1.0                     2                            2                     MONDAY                        9                           0                           0                            0                       0                       0                        0              Government           NaN      0.555912      0.729567             NaN               NaN                          NaN              NaN             NaN            NaN            NaN            NaN            NaN           NaN                   NaN   \n",
              "3       0         Cash loans           F            N               Y             0          135000.0    312682.5      29686.5         297000.0   Unaccompanied          Working  Secondary / secondary special        Civil marriage  House / apartment                    0.008019      -19005          -3039            -9833.0            -2437          NaN           1               1                0                 1           0           0        Laborers              2.0                     2                            2                  WEDNESDAY                       17                           0                           0                            0                       0                       0                        0  Business Entity Type 3           NaN      0.650442           NaN             NaN               NaN                          NaN              NaN             NaN            NaN            NaN            NaN            NaN           NaN                   NaN   \n",
              "4       0         Cash loans           M            N               Y             0          121500.0    513000.0      21865.5         513000.0   Unaccompanied          Working  Secondary / secondary special  Single / not married  House / apartment                    0.028663      -19932          -3038            -4311.0            -3458          NaN           1               1                0                 1           0           0      Core staff              1.0                     2                            2                   THURSDAY                       11                           0                           0                            0                       0                       1                        1                Religion           NaN      0.322738           NaN             NaN               NaN                          NaN              NaN             NaN            NaN            NaN            NaN            NaN           NaN                   NaN   \n",
              "\n",
              "   LIVINGAREA_AVG  NONLIVINGAPARTMENTS_AVG  NONLIVINGAREA_AVG  APARTMENTS_MODE  BASEMENTAREA_MODE  YEARS_BEGINEXPLUATATION_MODE  YEARS_BUILD_MODE  COMMONAREA_MODE  ELEVATORS_MODE  ENTRANCES_MODE  FLOORSMAX_MODE  FLOORSMIN_MODE  LANDAREA_MODE  LIVINGAPARTMENTS_MODE  LIVINGAREA_MODE  NONLIVINGAPARTMENTS_MODE  NONLIVINGAREA_MODE  APARTMENTS_MEDI  BASEMENTAREA_MEDI  YEARS_BEGINEXPLUATATION_MEDI  YEARS_BUILD_MEDI  COMMONAREA_MEDI  ELEVATORS_MEDI  ENTRANCES_MEDI  FLOORSMAX_MEDI  FLOORSMIN_MEDI  LANDAREA_MEDI  LIVINGAPARTMENTS_MEDI  LIVINGAREA_MEDI  NONLIVINGAPARTMENTS_MEDI  NONLIVINGAREA_MEDI FONDKAPREMONT_MODE  HOUSETYPE_MODE  TOTALAREA_MODE WALLSMATERIAL_MODE EMERGENCYSTATE_MODE  OBS_30_CNT_SOCIAL_CIRCLE  DEF_30_CNT_SOCIAL_CIRCLE  OBS_60_CNT_SOCIAL_CIRCLE  DEF_60_CNT_SOCIAL_CIRCLE  DAYS_LAST_PHONE_CHANGE  FLAG_DOCUMENT_2  FLAG_DOCUMENT_3  FLAG_DOCUMENT_4  FLAG_DOCUMENT_5  FLAG_DOCUMENT_6  FLAG_DOCUMENT_7  FLAG_DOCUMENT_8  FLAG_DOCUMENT_9  FLAG_DOCUMENT_10  FLAG_DOCUMENT_11  \\\n",
              "0          0.0190                   0.0000             0.0000           0.0252             0.0383                        0.9722            0.6341           0.0144          0.0000          0.0690          0.0833          0.1250         0.0377                  0.022           0.0198                       0.0                 0.0           0.0250             0.0369                        0.9722            0.6243           0.0144            0.00          0.0690          0.0833          0.1250         0.0375                 0.0205           0.0193                    0.0000                0.00   reg oper account  block of flats          0.0149       Stone, brick                  No                       2.0                       2.0                       2.0                       2.0                 -1134.0                0                1                0                0                0                0                0                0                 0                 0   \n",
              "1          0.0549                   0.0039             0.0098           0.0924             0.0538                        0.9851            0.8040           0.0497          0.0806          0.0345          0.2917          0.3333         0.0128                  0.079           0.0554                       0.0                 0.0           0.0968             0.0529                        0.9851            0.7987           0.0608            0.08          0.0345          0.2917          0.3333         0.0132                 0.0787           0.0558                    0.0039                0.01   reg oper account  block of flats          0.0714              Block                  No                       1.0                       0.0                       1.0                       0.0                  -828.0                0                1                0                0                0                0                0                0                 0                 0   \n",
              "2             NaN                      NaN                NaN              NaN                NaN                           NaN               NaN              NaN             NaN             NaN             NaN             NaN            NaN                    NaN              NaN                       NaN                 NaN              NaN                NaN                           NaN               NaN              NaN             NaN             NaN             NaN             NaN            NaN                    NaN              NaN                       NaN                 NaN                NaN             NaN             NaN                NaN                 NaN                       0.0                       0.0                       0.0                       0.0                  -815.0                0                0                0                0                0                0                0                0                 0                 0   \n",
              "3             NaN                      NaN                NaN              NaN                NaN                           NaN               NaN              NaN             NaN             NaN             NaN             NaN            NaN                    NaN              NaN                       NaN                 NaN              NaN                NaN                           NaN               NaN              NaN             NaN             NaN             NaN             NaN            NaN                    NaN              NaN                       NaN                 NaN                NaN             NaN             NaN                NaN                 NaN                       2.0                       0.0                       2.0                       0.0                  -617.0                0                1                0                0                0                0                0                0                 0                 0   \n",
              "4             NaN                      NaN                NaN              NaN                NaN                           NaN               NaN              NaN             NaN             NaN             NaN             NaN            NaN                    NaN              NaN                       NaN                 NaN              NaN                NaN                           NaN               NaN              NaN             NaN             NaN             NaN             NaN            NaN                    NaN              NaN                       NaN                 NaN                NaN             NaN             NaN                NaN                 NaN                       0.0                       0.0                       0.0                       0.0                 -1106.0                0                0                0                0                0                0                1                0                 0                 0   \n",
              "\n",
              "   FLAG_DOCUMENT_12  FLAG_DOCUMENT_13  FLAG_DOCUMENT_14  FLAG_DOCUMENT_15  FLAG_DOCUMENT_16  FLAG_DOCUMENT_17  FLAG_DOCUMENT_18  FLAG_DOCUMENT_19  FLAG_DOCUMENT_20  FLAG_DOCUMENT_21  AMT_REQ_CREDIT_BUREAU_HOUR  AMT_REQ_CREDIT_BUREAU_DAY  AMT_REQ_CREDIT_BUREAU_WEEK  AMT_REQ_CREDIT_BUREAU_MON  AMT_REQ_CREDIT_BUREAU_QRT  AMT_REQ_CREDIT_BUREAU_YEAR  \n",
              "0                 0                 0                 0                 0                 0                 0                 0                 0                 0                 0                         0.0                        0.0                         0.0                        0.0                        0.0                         1.0  \n",
              "1                 0                 0                 0                 0                 0                 0                 0                 0                 0                 0                         0.0                        0.0                         0.0                        0.0                        0.0                         0.0  \n",
              "2                 0                 0                 0                 0                 0                 0                 0                 0                 0                 0                         0.0                        0.0                         0.0                        0.0                        0.0                         0.0  \n",
              "3                 0                 0                 0                 0                 0                 0                 0                 0                 0                 0                         NaN                        NaN                         NaN                        NaN                        NaN                         NaN  \n",
              "4                 0                 0                 0                 0                 0                 0                 0                 0                 0                 0                         0.0                        0.0                         0.0                        0.0                        0.0                         0.0  "
            ]
          },
          "metadata": {
            "tags": []
          },
          "execution_count": 13
        }
      ]
    },
    {
      "cell_type": "code",
      "metadata": {
        "id": "Dv8GBispyASS"
      },
      "source": [
        ""
      ],
      "execution_count": 13,
      "outputs": []
    },
    {
      "cell_type": "markdown",
      "metadata": {
        "id": "eSFoL_94IW6k"
      },
      "source": [
        "# Data Preperation and Cleaning"
      ]
    },
    {
      "cell_type": "code",
      "metadata": {
        "id": "NTggUMFDIW6k",
        "colab": {
          "base_uri": "https://localhost:8080/"
        },
        "outputId": "d9982777-95ed-430c-97d0-915b43fd2648"
      },
      "source": [
        "# select the first 39 columns from dataset\n",
        "filtered = df\n",
        "\n",
        "# drop 'Occupation' varaible\n",
        "del filtered['OCCUPATION_TYPE']\n",
        "filtered.columns"
      ],
      "execution_count": 14,
      "outputs": [
        {
          "output_type": "execute_result",
          "data": {
            "text/plain": [
              "Index(['TARGET', 'NAME_CONTRACT_TYPE', 'CODE_GENDER', 'FLAG_OWN_CAR', 'FLAG_OWN_REALTY', 'CNT_CHILDREN', 'AMT_INCOME_TOTAL', 'AMT_CREDIT', 'AMT_ANNUITY', 'AMT_GOODS_PRICE',\n",
              "       ...\n",
              "       'FLAG_DOCUMENT_18', 'FLAG_DOCUMENT_19', 'FLAG_DOCUMENT_20', 'FLAG_DOCUMENT_21', 'AMT_REQ_CREDIT_BUREAU_HOUR', 'AMT_REQ_CREDIT_BUREAU_DAY', 'AMT_REQ_CREDIT_BUREAU_WEEK', 'AMT_REQ_CREDIT_BUREAU_MON', 'AMT_REQ_CREDIT_BUREAU_QRT', 'AMT_REQ_CREDIT_BUREAU_YEAR'], dtype='object', length=120)"
            ]
          },
          "metadata": {
            "tags": []
          },
          "execution_count": 14
        }
      ]
    },
    {
      "cell_type": "code",
      "metadata": {
        "colab": {
          "base_uri": "https://localhost:8080/"
        },
        "id": "IEu3GNIWYNYQ",
        "outputId": "17ed0600-d46f-46ab-cf01-2868c3e5c1a2"
      },
      "source": [
        "filtered.shape"
      ],
      "execution_count": 15,
      "outputs": [
        {
          "output_type": "execute_result",
          "data": {
            "text/plain": [
              "(307511, 120)"
            ]
          },
          "metadata": {
            "tags": []
          },
          "execution_count": 15
        }
      ]
    },
    {
      "cell_type": "code",
      "metadata": {
        "id": "vpIIOoX_IW6m"
      },
      "source": [
        "# extract columns names with numeric data.\n",
        "numeric_vars = filtered.select_dtypes(include=np.number).columns.tolist() \n",
        "\n",
        "filtered[numeric_vars]=filtered[numeric_vars].fillna(filtered[numeric_vars].median())"
      ],
      "execution_count": 16,
      "outputs": []
    },
    {
      "cell_type": "code",
      "metadata": {
        "id": "OCLwojivIW6m"
      },
      "source": [
        "cat_vars = [var for var in filtered.columns if var in ['FLAG_OWN_CAR', 'FLAG_OWN_REALTY', \n",
        "                                                       'NAME_INCOME_TYPE', 'NAME_EDUCATION_TYPE', 'NAME_FAMILY_STATUS',\n",
        "                                                       'NAME_TYPE_SUITE', 'NAME_HOUSING_TYPE', 'WEEKDAY_APPR_PROCESS_START','WALLSMATERIAL_MODE',\n",
        "                                                       'EMERGENCYSTATE_MODE','FONDKAPREMONT_MODE','HOUSETYPE_MODE','ORGANIZATION_TYPE',\n",
        "                                                       'NAME_CONTRACT_TYPE','CODE_GENDER'\n",
        "                                                      ]]\n",
        "for var in cat_vars:\n",
        "    df = pd.get_dummies(filtered[var], prefix = var, drop_first = True) \n",
        "    filtered = pd.concat([filtered, df], axis = 1)\n",
        "    del filtered[var] "
      ],
      "execution_count": 17,
      "outputs": []
    },
    {
      "cell_type": "code",
      "metadata": {
        "colab": {
          "base_uri": "https://localhost:8080/"
        },
        "id": "nVpLFUC9YUVB",
        "outputId": "d5987d94-93ad-4147-9e7f-82fc6f280f42"
      },
      "source": [
        "filtered.shape"
      ],
      "execution_count": 18,
      "outputs": [
        {
          "output_type": "execute_result",
          "data": {
            "text/plain": [
              "(307511, 212)"
            ]
          },
          "metadata": {
            "tags": []
          },
          "execution_count": 18
        }
      ]
    },
    {
      "cell_type": "code",
      "metadata": {
        "id": "FtOHpbb4IW6n"
      },
      "source": [
        ""
      ],
      "execution_count": 18,
      "outputs": []
    },
    {
      "cell_type": "code",
      "metadata": {
        "id": "7B2eGK89IW6n"
      },
      "source": [
        "x = filtered.drop(['TARGET'], axis = 1)\n",
        "y = filtered['TARGET']"
      ],
      "execution_count": 19,
      "outputs": []
    },
    {
      "cell_type": "code",
      "metadata": {
        "id": "sa5tZZ5T3wKW"
      },
      "source": [
        "columns = x.columns"
      ],
      "execution_count": 20,
      "outputs": []
    },
    {
      "cell_type": "code",
      "metadata": {
        "id": "tirk4wU6IW6o"
      },
      "source": [
        "# oversample = SMOTE()\n",
        "# x, y = oversample.fit_resample(x, y)"
      ],
      "execution_count": 21,
      "outputs": []
    },
    {
      "cell_type": "code",
      "metadata": {
        "id": "UJnlBIM5y-Tv"
      },
      "source": [
        ""
      ],
      "execution_count": 21,
      "outputs": []
    },
    {
      "cell_type": "code",
      "metadata": {
        "id": "ttf0o6qT1WOQ"
      },
      "source": [
        ""
      ],
      "execution_count": 21,
      "outputs": []
    },
    {
      "cell_type": "code",
      "metadata": {
        "id": "bFpwAL1tIW6o"
      },
      "source": [
        "x_train, x_valid, y_train, y_valid = train_test_split(x, y, test_size = 0.3, random_state = 42)"
      ],
      "execution_count": 22,
      "outputs": []
    },
    {
      "cell_type": "code",
      "metadata": {
        "id": "KxDggRAd1vpx"
      },
      "source": [
        "#temp =['WALLSMATERIAL_MODE','EMERGENCYSTATE_MODE','FONDKAPREMONT_MODE','HOUSETYPE_MODE','ORGANIZATION_TYPE','NAME_CONTRACT_TYPE','CODE_GENDER']"
      ],
      "execution_count": 23,
      "outputs": []
    },
    {
      "cell_type": "code",
      "metadata": {
        "id": "TtqS-UQLa6bs"
      },
      "source": [
        "#x_train[temp].nunique()"
      ],
      "execution_count": 24,
      "outputs": []
    },
    {
      "cell_type": "code",
      "metadata": {
        "id": "40f-quCB18Tg"
      },
      "source": [
        "#x_train.dtypes"
      ],
      "execution_count": 25,
      "outputs": []
    },
    {
      "cell_type": "markdown",
      "metadata": {
        "id": "ezy6KpXuaBcZ"
      },
      "source": [
        "# Logistic Regression"
      ]
    },
    {
      "cell_type": "code",
      "metadata": {
        "id": "ZUpuyOasIW6o"
      },
      "source": [
        "# standardize the columns in train/validation datasets\n",
        "for field in x_train.columns:\n",
        "    standard_dev = x_train[field].std()\n",
        "    mean = x_train[field].mean()\n",
        "    \n",
        "    x_train[field] = (x_train[field] - mean) / standard_dev\n",
        "    x_valid[field] = (x_valid[field] - mean) / standard_dev"
      ],
      "execution_count": 26,
      "outputs": []
    },
    {
      "cell_type": "code",
      "metadata": {
        "id": "PX4BbZDVeXrl"
      },
      "source": [
        "# fit logistic model\n",
        "logit_model = LogisticRegression(random_state=0).fit(x_train, y_train)"
      ],
      "execution_count": 27,
      "outputs": []
    },
    {
      "cell_type": "code",
      "metadata": {
        "id": "co8KBTYxIW6p",
        "colab": {
          "base_uri": "https://localhost:8080/"
        },
        "outputId": "aa583215-aafd-4bdd-ec71-43860ad8ad5e"
      },
      "source": [
        "# predict target from x_train/x_val dataset\n",
        "y_train_pred = logit_model.predict(x_train)\n",
        "y_val_pred = logit_model.predict(x_valid)\n",
        "\n",
        "# calculate accuracy in train and validation dataset\n",
        "print('Accuracy in train dataset: ', metrics.accuracy_score(y_train, y_train_pred))\n",
        "print('Accuracy in validation dataset: ',metrics.accuracy_score(y_valid, y_val_pred))\n",
        "print(\"\\n\")\n",
        "# precision in train and validation dataset\n",
        "print('Precision in train dataset: ', metrics.precision_score(y_train, y_train_pred))\n",
        "print('Precision in validation dataset: ', metrics.precision_score(y_valid, y_val_pred))\n",
        "print(\"\\n\")\n",
        "# recall in train and validation dataset\n",
        "print('Recall in train dataset: ', metrics.recall_score(y_train, y_train_pred))\n",
        "print('Recall in validation dataset: ', metrics.recall_score(y_valid, y_val_pred))\n",
        "print(\"\\n\")\n",
        "# AUC\n",
        "y_train_prob = logit_model.predict_proba(x_train)\n",
        "y_val_prob = logit_model.predict_proba(x_valid)\n",
        "\n",
        "# AUC in train and validation dataset\n",
        "fpr, tpr, thresholds = metrics.roc_curve(y_train, y_train_prob[:,1], pos_label = 1)\n",
        "print('AUC in train dataset: ', metrics.auc(fpr, tpr))\n",
        "fpr, tpr, thresholds = metrics.roc_curve(y_valid, y_val_prob[:,1], pos_label = 1)\n",
        "print('AUC in validation dataset: ', metrics.auc(fpr, tpr))"
      ],
      "execution_count": 28,
      "outputs": [
        {
          "output_type": "stream",
          "text": [
            "Accuracy in train dataset:  0.9191199357047622\n",
            "Accuracy in validation dataset:  0.9193422507425152\n",
            "\n",
            "\n",
            "Precision in train dataset:  0.5022935779816514\n",
            "Precision in validation dataset:  0.4292929292929293\n",
            "\n",
            "\n",
            "Recall in train dataset:  0.012577532736044108\n",
            "Recall in validation dataset:  0.011466342911102118\n",
            "\n",
            "\n",
            "AUC in train dataset:  0.7482259201847762\n",
            "AUC in validation dataset:  0.74554249265311\n"
          ],
          "name": "stdout"
        }
      ]
    },
    {
      "cell_type": "code",
      "metadata": {
        "id": "BJ0TkOcUIW6q",
        "colab": {
          "base_uri": "https://localhost:8080/"
        },
        "outputId": "b36d0c27-f455-48b7-b8e1-b04374160d84"
      },
      "source": [
        "# map coefficient for each variable\n",
        "{col_name : coef for col_name, coef in zip(x_train.columns, logit_model.coef_[0])}"
      ],
      "execution_count": 29,
      "outputs": [
        {
          "output_type": "execute_result",
          "data": {
            "text/plain": [
              "{'AMT_ANNUITY': 0.1551068728112786,\n",
              " 'AMT_CREDIT': 0.8868939806865531,\n",
              " 'AMT_GOODS_PRICE': -1.0028727973311595,\n",
              " 'AMT_INCOME_TOTAL': -0.01732531825792051,\n",
              " 'AMT_REQ_CREDIT_BUREAU_DAY': 0.009102516419181176,\n",
              " 'AMT_REQ_CREDIT_BUREAU_HOUR': -0.007235815824149421,\n",
              " 'AMT_REQ_CREDIT_BUREAU_MON': -0.0276125782565689,\n",
              " 'AMT_REQ_CREDIT_BUREAU_QRT': -0.051831864299157863,\n",
              " 'AMT_REQ_CREDIT_BUREAU_WEEK': -0.023319706386262982,\n",
              " 'AMT_REQ_CREDIT_BUREAU_YEAR': 0.004456782768882807,\n",
              " 'APARTMENTS_AVG': 0.1311848389959419,\n",
              " 'APARTMENTS_MEDI': -0.0420390118808061,\n",
              " 'APARTMENTS_MODE': -0.0644775242877404,\n",
              " 'BASEMENTAREA_AVG': -0.3784839183074537,\n",
              " 'BASEMENTAREA_MEDI': 0.281439718516849,\n",
              " 'BASEMENTAREA_MODE': 0.08325546858301784,\n",
              " 'CNT_CHILDREN': 0.008789585693207841,\n",
              " 'CNT_FAM_MEMBERS': 0.01705756818843702,\n",
              " 'CODE_GENDER_M': 0.17855707085830694,\n",
              " 'CODE_GENDER_XNA': -0.04106418166721241,\n",
              " 'COMMONAREA_AVG': 0.14037985941963826,\n",
              " 'COMMONAREA_MEDI': -0.3753059139062175,\n",
              " 'COMMONAREA_MODE': 0.212186705996219,\n",
              " 'DAYS_BIRTH': -0.0009029201831276164,\n",
              " 'DAYS_EMPLOYED': 2.051511601582919,\n",
              " 'DAYS_ID_PUBLISH': 0.07356616093876422,\n",
              " 'DAYS_LAST_PHONE_CHANGE': 0.05705767378561165,\n",
              " 'DAYS_REGISTRATION': 0.039568597559452516,\n",
              " 'DEF_30_CNT_SOCIAL_CIRCLE': 0.06041777396673941,\n",
              " 'DEF_60_CNT_SOCIAL_CIRCLE': 0.02014326766531328,\n",
              " 'ELEVATORS_AVG': 0.00897555933842165,\n",
              " 'ELEVATORS_MEDI': -0.18758119394351863,\n",
              " 'ELEVATORS_MODE': 0.1715692483331313,\n",
              " 'EMERGENCYSTATE_MODE_Yes': 0.0019931429699520066,\n",
              " 'ENTRANCES_AVG': 0.24331460862034685,\n",
              " 'ENTRANCES_MEDI': -0.24883225469459452,\n",
              " 'ENTRANCES_MODE': -0.02284485723283317,\n",
              " 'EXT_SOURCE_1': -0.16261106912798018,\n",
              " 'EXT_SOURCE_2': -0.3915693598594132,\n",
              " 'EXT_SOURCE_3': -0.4682874300396011,\n",
              " 'FLAG_CONT_MOBILE': -0.007634695260789912,\n",
              " 'FLAG_DOCUMENT_10': -0.05124597016369611,\n",
              " 'FLAG_DOCUMENT_11': -0.0029149883466377336,\n",
              " 'FLAG_DOCUMENT_12': -0.013610146992480332,\n",
              " 'FLAG_DOCUMENT_13': -0.03767905258662748,\n",
              " 'FLAG_DOCUMENT_14': -0.03031441916413802,\n",
              " 'FLAG_DOCUMENT_15': -0.03434565441441061,\n",
              " 'FLAG_DOCUMENT_16': -0.053574152567474276,\n",
              " 'FLAG_DOCUMENT_17': -0.017487812711204344,\n",
              " 'FLAG_DOCUMENT_18': -0.043359957752515534,\n",
              " 'FLAG_DOCUMENT_19': -0.0022084913692504426,\n",
              " 'FLAG_DOCUMENT_2': 0.01937651884872707,\n",
              " 'FLAG_DOCUMENT_20': 0.00486492083900864,\n",
              " 'FLAG_DOCUMENT_21': -1.2295444650191819e-05,\n",
              " 'FLAG_DOCUMENT_3': 0.1496206861195961,\n",
              " 'FLAG_DOCUMENT_4': -0.08645272398908976,\n",
              " 'FLAG_DOCUMENT_5': 0.030463986676703057,\n",
              " 'FLAG_DOCUMENT_6': 0.07519698511076509,\n",
              " 'FLAG_DOCUMENT_7': 0.001707322634030819,\n",
              " 'FLAG_DOCUMENT_8': 0.036465759457495694,\n",
              " 'FLAG_DOCUMENT_9': 0.009676590039054153,\n",
              " 'FLAG_EMAIL': -0.012776608693919425,\n",
              " 'FLAG_EMP_PHONE': 0.6944016399944233,\n",
              " 'FLAG_MOBIL': 0.01967477133901924,\n",
              " 'FLAG_OWN_CAR_Y': -0.14153657305523837,\n",
              " 'FLAG_OWN_REALTY_Y': 0.013578980574732629,\n",
              " 'FLAG_PHONE': -0.029926977057227442,\n",
              " 'FLAG_WORK_PHONE': 0.06640573154604808,\n",
              " 'FLOORSMAX_AVG': -0.17257669690656618,\n",
              " 'FLOORSMAX_MEDI': 0.18282683547953096,\n",
              " 'FLOORSMAX_MODE': -0.050535379874785964,\n",
              " 'FLOORSMIN_AVG': -0.27597116482611617,\n",
              " 'FLOORSMIN_MEDI': 0.37195023231408,\n",
              " 'FLOORSMIN_MODE': -0.09453554635365025,\n",
              " 'FONDKAPREMONT_MODE_org spec account': -0.02116238806482527,\n",
              " 'FONDKAPREMONT_MODE_reg oper account': -0.0026516221325569365,\n",
              " 'FONDKAPREMONT_MODE_reg oper spec account': -0.022410571611757683,\n",
              " 'HOUR_APPR_PROCESS_START': 0.0013798662398615189,\n",
              " 'HOUSETYPE_MODE_specific housing': 0.005554828897225427,\n",
              " 'HOUSETYPE_MODE_terraced house': 0.003948347975828863,\n",
              " 'LANDAREA_AVG': 0.061161130195766064,\n",
              " 'LANDAREA_MEDI': -0.013361303041347531,\n",
              " 'LANDAREA_MODE': -0.03776761692362137,\n",
              " 'LIVE_CITY_NOT_WORK_CITY': 0.025047632992803957,\n",
              " 'LIVE_REGION_NOT_WORK_REGION': -0.00790625368138497,\n",
              " 'LIVINGAPARTMENTS_AVG': -0.28964597712707907,\n",
              " 'LIVINGAPARTMENTS_MEDI': 0.3839083656552087,\n",
              " 'LIVINGAPARTMENTS_MODE': -0.07238859290735788,\n",
              " 'LIVINGAREA_AVG': 0.05301144113395348,\n",
              " 'LIVINGAREA_MEDI': -0.08057414501205994,\n",
              " 'LIVINGAREA_MODE': 0.023136452961093085,\n",
              " 'NAME_CONTRACT_TYPE_Revolving loans': -0.012256946059046933,\n",
              " 'NAME_EDUCATION_TYPE_Higher education': 0.38901843089905375,\n",
              " 'NAME_EDUCATION_TYPE_Incomplete higher': 0.17523898555282558,\n",
              " 'NAME_EDUCATION_TYPE_Lower secondary': 0.14357199505182383,\n",
              " 'NAME_EDUCATION_TYPE_Secondary / secondary special': 0.5464081594084393,\n",
              " 'NAME_FAMILY_STATUS_Married': -0.07215954830442271,\n",
              " 'NAME_FAMILY_STATUS_Separated': 0.0034377335316654843,\n",
              " 'NAME_FAMILY_STATUS_Single / not married': -0.006004847132990882,\n",
              " 'NAME_FAMILY_STATUS_Unknown': -0.026244479773118886,\n",
              " 'NAME_FAMILY_STATUS_Widow': -0.035480347846384694,\n",
              " 'NAME_HOUSING_TYPE_House / apartment': 0.04364248774579164,\n",
              " 'NAME_HOUSING_TYPE_Municipal apartment': 0.04333232599386375,\n",
              " 'NAME_HOUSING_TYPE_Office apartment': -0.0038093500478836393,\n",
              " 'NAME_HOUSING_TYPE_Rented apartment': 0.024618193895040334,\n",
              " 'NAME_HOUSING_TYPE_With parents': 0.028139359231798788,\n",
              " 'NAME_INCOME_TYPE_Commercial associate': 0.23954403608742425,\n",
              " 'NAME_INCOME_TYPE_Maternity leave': 0.01263462159397536,\n",
              " 'NAME_INCOME_TYPE_Pensioner': -0.709794253665774,\n",
              " 'NAME_INCOME_TYPE_State servant': 0.13742882903083184,\n",
              " 'NAME_INCOME_TYPE_Student': -0.11446953916949916,\n",
              " 'NAME_INCOME_TYPE_Unemployed': 0.008812777449037388,\n",
              " 'NAME_INCOME_TYPE_Working': 0.3247612891679642,\n",
              " 'NAME_TYPE_SUITE_Family': -0.021528045186315955,\n",
              " 'NAME_TYPE_SUITE_Group of people': -0.0036640405067199936,\n",
              " 'NAME_TYPE_SUITE_Other_A': 0.0012177695985624184,\n",
              " 'NAME_TYPE_SUITE_Other_B': 0.0009581843908160118,\n",
              " 'NAME_TYPE_SUITE_Spouse, partner': -0.02038815614784984,\n",
              " 'NAME_TYPE_SUITE_Unaccompanied': -0.015797352905525277,\n",
              " 'NONLIVINGAPARTMENTS_AVG': -0.051021254311279664,\n",
              " 'NONLIVINGAPARTMENTS_MEDI': -0.05569745691659891,\n",
              " 'NONLIVINGAPARTMENTS_MODE': 0.11363355080664304,\n",
              " 'NONLIVINGAREA_AVG': 0.05580667095031317,\n",
              " 'NONLIVINGAREA_MEDI': 0.030345215287070747,\n",
              " 'NONLIVINGAREA_MODE': -0.1025884925351333,\n",
              " 'OBS_30_CNT_SOCIAL_CIRCLE': 0.33019524645962645,\n",
              " 'OBS_60_CNT_SOCIAL_CIRCLE': -0.3404236317787304,\n",
              " 'ORGANIZATION_TYPE_Agriculture': -0.026953014672208456,\n",
              " 'ORGANIZATION_TYPE_Bank': -0.05442979750051084,\n",
              " 'ORGANIZATION_TYPE_Business Entity Type 1': -0.04812098730824476,\n",
              " 'ORGANIZATION_TYPE_Business Entity Type 2': -0.06014997160626854,\n",
              " 'ORGANIZATION_TYPE_Business Entity Type 3': -0.09682670367307677,\n",
              " 'ORGANIZATION_TYPE_Cleaning': 0.0005904824929201524,\n",
              " 'ORGANIZATION_TYPE_Construction': -0.0097216924257751,\n",
              " 'ORGANIZATION_TYPE_Culture': -0.022387181375356686,\n",
              " 'ORGANIZATION_TYPE_Electricity': -0.03171650342912225,\n",
              " 'ORGANIZATION_TYPE_Emergency': -0.026943560150208802,\n",
              " 'ORGANIZATION_TYPE_Government': -0.0851341124233463,\n",
              " 'ORGANIZATION_TYPE_Hotel': -0.037098067529279605,\n",
              " 'ORGANIZATION_TYPE_Housing': -0.04148212336742704,\n",
              " 'ORGANIZATION_TYPE_Industry: type 1': -0.005299265245603475,\n",
              " 'ORGANIZATION_TYPE_Industry: type 10': -0.024387840644676,\n",
              " 'ORGANIZATION_TYPE_Industry: type 11': -0.026804522585204514,\n",
              " 'ORGANIZATION_TYPE_Industry: type 12': -0.04167806151721093,\n",
              " 'ORGANIZATION_TYPE_Industry: type 13': -0.011623016180887282,\n",
              " 'ORGANIZATION_TYPE_Industry: type 2': -0.020317497079073307,\n",
              " 'ORGANIZATION_TYPE_Industry: type 3': -0.014440354905001155,\n",
              " 'ORGANIZATION_TYPE_Industry: type 4': -0.013110152004761315,\n",
              " 'ORGANIZATION_TYPE_Industry: type 5': -0.023677333467257717,\n",
              " 'ORGANIZATION_TYPE_Industry: type 6': -0.00830444853267066,\n",
              " 'ORGANIZATION_TYPE_Industry: type 7': -0.023768062657992212,\n",
              " 'ORGANIZATION_TYPE_Industry: type 8': -0.0033538978713413365,\n",
              " 'ORGANIZATION_TYPE_Industry: type 9': -0.06406125752357122,\n",
              " 'ORGANIZATION_TYPE_Insurance': -0.004181841900236447,\n",
              " 'ORGANIZATION_TYPE_Kindergarten': -0.07183649660850218,\n",
              " 'ORGANIZATION_TYPE_Legal Services': 0.0012921027397197894,\n",
              " 'ORGANIZATION_TYPE_Medicine': -0.08226066260963044,\n",
              " 'ORGANIZATION_TYPE_Military': -0.08348404921166769,\n",
              " 'ORGANIZATION_TYPE_Mobile': -0.0015160203272643817,\n",
              " 'ORGANIZATION_TYPE_Other': -0.0832681619505492,\n",
              " 'ORGANIZATION_TYPE_Police': -0.06604237832560936,\n",
              " 'ORGANIZATION_TYPE_Postal': -0.01874626068793619,\n",
              " 'ORGANIZATION_TYPE_Realtor': 0.011547509578366998,\n",
              " 'ORGANIZATION_TYPE_Religion': 0.002823543994257838,\n",
              " 'ORGANIZATION_TYPE_Restaurant': -0.008488482381404788,\n",
              " 'ORGANIZATION_TYPE_School': -0.08870733229473148,\n",
              " 'ORGANIZATION_TYPE_Security': -0.03158281192652062,\n",
              " 'ORGANIZATION_TYPE_Security Ministries': -0.06775024853116549,\n",
              " 'ORGANIZATION_TYPE_Self-employed': -0.05790639207576108,\n",
              " 'ORGANIZATION_TYPE_Services': -0.023226293196268167,\n",
              " 'ORGANIZATION_TYPE_Telecom': -0.015270284103000869,\n",
              " 'ORGANIZATION_TYPE_Trade: type 1': -0.007337352803568048,\n",
              " 'ORGANIZATION_TYPE_Trade: type 2': -0.04748510487213503,\n",
              " 'ORGANIZATION_TYPE_Trade: type 3': -0.022275220840993527,\n",
              " 'ORGANIZATION_TYPE_Trade: type 4': -0.020921466554327556,\n",
              " 'ORGANIZATION_TYPE_Trade: type 5': -0.016627290497018884,\n",
              " 'ORGANIZATION_TYPE_Trade: type 6': -0.027832922470681705,\n",
              " 'ORGANIZATION_TYPE_Trade: type 7': -0.03188750478757253,\n",
              " 'ORGANIZATION_TYPE_Transport: type 1': -0.012892303440429999,\n",
              " 'ORGANIZATION_TYPE_Transport: type 2': -0.044679338899877075,\n",
              " 'ORGANIZATION_TYPE_Transport: type 3': 0.014481280836628328,\n",
              " 'ORGANIZATION_TYPE_Transport: type 4': -0.029187787433126857,\n",
              " 'ORGANIZATION_TYPE_University': -0.04163636137510214,\n",
              " 'ORGANIZATION_TYPE_XNA': -0.5939625899356962,\n",
              " 'OWN_CAR_AGE': 0.030490955854618185,\n",
              " 'REGION_POPULATION_RELATIVE': 0.014463410043755611,\n",
              " 'REGION_RATING_CLIENT': -0.09770872672562617,\n",
              " 'REGION_RATING_CLIENT_W_CITY': 0.1702327985772816,\n",
              " 'REG_CITY_NOT_LIVE_CITY': 0.05342551346293817,\n",
              " 'REG_CITY_NOT_WORK_CITY': -0.02623958698772224,\n",
              " 'REG_REGION_NOT_LIVE_REGION': -0.01559439098740323,\n",
              " 'REG_REGION_NOT_WORK_REGION': -0.005826507889314901,\n",
              " 'TOTALAREA_MODE': 0.01019071753207219,\n",
              " 'WALLSMATERIAL_MODE_Mixed': 0.008669642768461317,\n",
              " 'WALLSMATERIAL_MODE_Monolithic': -0.011774119757917822,\n",
              " 'WALLSMATERIAL_MODE_Others': 0.013219262631620028,\n",
              " 'WALLSMATERIAL_MODE_Panel': -0.030474429584608834,\n",
              " 'WALLSMATERIAL_MODE_Stone, brick': 0.0018950262038729714,\n",
              " 'WALLSMATERIAL_MODE_Wooden': 0.0011499688461153196,\n",
              " 'WEEKDAY_APPR_PROCESS_START_MONDAY': -0.022750867046716586,\n",
              " 'WEEKDAY_APPR_PROCESS_START_SATURDAY': -0.019832905246603368,\n",
              " 'WEEKDAY_APPR_PROCESS_START_SUNDAY': -0.02276526113459284,\n",
              " 'WEEKDAY_APPR_PROCESS_START_THURSDAY': -0.009421531458027087,\n",
              " 'WEEKDAY_APPR_PROCESS_START_TUESDAY': 0.007319860188301241,\n",
              " 'WEEKDAY_APPR_PROCESS_START_WEDNESDAY': -0.0014747245843761447,\n",
              " 'YEARS_BEGINEXPLUATATION_AVG': 0.04579532836324244,\n",
              " 'YEARS_BEGINEXPLUATATION_MEDI': -0.08171590672261202,\n",
              " 'YEARS_BEGINEXPLUATATION_MODE': 0.02171523775336779,\n",
              " 'YEARS_BUILD_AVG': 0.5282761688656427,\n",
              " 'YEARS_BUILD_MEDI': -0.4848135750718618,\n",
              " 'YEARS_BUILD_MODE': -0.05750443282974749}"
            ]
          },
          "metadata": {
            "tags": []
          },
          "execution_count": 29
        }
      ]
    },
    {
      "cell_type": "markdown",
      "metadata": {
        "id": "BqSjmllW1861"
      },
      "source": [
        "# Decision Tree"
      ]
    },
    {
      "cell_type": "code",
      "metadata": {
        "id": "B4ZIzAg5euZv"
      },
      "source": [
        "x_train, x_valid, y_train, y_valid = train_test_split(x, y, test_size = 0.3, random_state = 42)"
      ],
      "execution_count": 30,
      "outputs": []
    },
    {
      "cell_type": "code",
      "metadata": {
        "id": "e7TrjIR6IW6q"
      },
      "source": [
        "# # Used grid search / cross-validation to find the optimal set of parameters\n",
        "# parameters = {\"max_depth\":range(2, 8), \"min_samples_leaf\": range(5, 55, 5), \"min_samples_split\": range(10, 110, 5)}\n",
        "\n",
        "# clf = GridSearchCV(DecisionTreeClassifier(), parameters, n_jobs=4, scoring = \"roc_auc\", verbose=4)\n",
        "# clf.fit(x_train, y_train)\n",
        "\n",
        "# # best parameters\n",
        "# clf.best_estimator_\n",
        "\n",
        "# DecisionTreeClassifier(max_depth=5, min_samples_leaf=10, min_samples_split=95)"
      ],
      "execution_count": 31,
      "outputs": []
    },
    {
      "cell_type": "code",
      "metadata": {
        "colab": {
          "base_uri": "https://localhost:8080/"
        },
        "id": "_7_T7dhF29Of",
        "outputId": "5b48b123-b252-476c-8d19-c4f8bf2d0d9d"
      },
      "source": [
        "clf = DecisionTreeClassifier(max_depth=5, min_samples_split=95, min_samples_leaf=10)\n",
        "clf.fit(x_train, y_train)"
      ],
      "execution_count": 32,
      "outputs": [
        {
          "output_type": "execute_result",
          "data": {
            "text/plain": [
              "DecisionTreeClassifier(ccp_alpha=0.0, class_weight=None, criterion='gini',\n",
              "                       max_depth=5, max_features=None, max_leaf_nodes=None,\n",
              "                       min_impurity_decrease=0.0, min_impurity_split=None,\n",
              "                       min_samples_leaf=10, min_samples_split=95,\n",
              "                       min_weight_fraction_leaf=0.0, presort='deprecated',\n",
              "                       random_state=None, splitter='best')"
            ]
          },
          "metadata": {
            "tags": []
          },
          "execution_count": 32
        }
      ]
    },
    {
      "cell_type": "code",
      "metadata": {
        "id": "fq9g5LDDIW6r",
        "colab": {
          "base_uri": "https://localhost:8080/"
        },
        "outputId": "04914944-0959-4d82-e07e-fe9de96f50ef"
      },
      "source": [
        "y_train_pred = clf.predict(x_train)\n",
        "y_val_pred = clf.predict(x_valid)\n",
        "y_train_prob = clf.predict_proba(x_train)\n",
        "y_val_prob = clf.predict_proba(x_valid)\n",
        "print(\"Training accuracy: \", metrics.accuracy_score(y_train, y_train_pred))\n",
        "print(\"Validation accuracy: \", metrics.accuracy_score(y_valid, y_val_pred))\n",
        "print(\"\\n\")\n",
        "print(\"Training precision: \", metrics.precision_score(y_train, y_train_pred))\n",
        "print(\"Validation precision: \", metrics.precision_score(y_train, y_train_pred))\n",
        "print(\"\\n\")\n",
        "print(\"Training recall: \", metrics.recall_score(y_train, y_train_pred))\n",
        "print(\"Validation recall: \", metrics.recall_score(y_train, y_train_pred))\n",
        "print(\"\\n\")\n",
        "# auc\n",
        "fpr, tpr, thresholds = metrics.roc_curve(y_train, y_train_prob[:,1], pos_label = 1)\n",
        "print(\"Training AUC\", metrics.auc(fpr, tpr))\n",
        "fpr, tpr, thresholds = metrics.roc_curve(y_valid, y_val_prob[:,1], pos_label = 1)\n",
        "print(\"Validation AUC\", metrics.auc(fpr, tpr))"
      ],
      "execution_count": 33,
      "outputs": [
        {
          "output_type": "stream",
          "text": [
            "Training accuracy:  0.919110644485429\n",
            "Validation accuracy:  0.9196457606174258\n",
            "\n",
            "\n",
            "Training precision:  0.0\n",
            "Validation precision:  0.0\n",
            "\n",
            "\n",
            "Training recall:  0.0\n",
            "Validation recall:  0.0\n",
            "\n",
            "\n",
            "Training AUC 0.7114690077161939\n",
            "Validation AUC 0.7068440780329037\n"
          ],
          "name": "stdout"
        }
      ]
    },
    {
      "cell_type": "code",
      "metadata": {
        "id": "qgeoLffzIW6r",
        "colab": {
          "base_uri": "https://localhost:8080/",
          "height": 0
        },
        "outputId": "531dd2f4-252a-4030-ba01-e5afa05f8410"
      },
      "source": [
        "# print out feature importance\n",
        "imp = pd.DataFrame()\n",
        "\n",
        "imp[\"var\"] = x_train.columns\n",
        "imp[\"imp\"] = clf.feature_importances_\n",
        "\n",
        "# sort the data frame by the feature importances in descending order - most important features at the top\n",
        "imp = imp.sort_values(\"imp\", ascending = False).reset_index(drop = True)\n",
        "\n",
        "# print out the data frame with imp greater than 0\n",
        "imp[imp['imp']>0]"
      ],
      "execution_count": 34,
      "outputs": [
        {
          "output_type": "execute_result",
          "data": {
            "text/html": [
              "<div>\n",
              "<style scoped>\n",
              "    .dataframe tbody tr th:only-of-type {\n",
              "        vertical-align: middle;\n",
              "    }\n",
              "\n",
              "    .dataframe tbody tr th {\n",
              "        vertical-align: top;\n",
              "    }\n",
              "\n",
              "    .dataframe thead th {\n",
              "        text-align: right;\n",
              "    }\n",
              "</style>\n",
              "<table border=\"1\" class=\"dataframe\">\n",
              "  <thead>\n",
              "    <tr style=\"text-align: right;\">\n",
              "      <th></th>\n",
              "      <th>var</th>\n",
              "      <th>imp</th>\n",
              "    </tr>\n",
              "  </thead>\n",
              "  <tbody>\n",
              "    <tr>\n",
              "      <th>0</th>\n",
              "      <td>EXT_SOURCE_3</td>\n",
              "      <td>0.479460</td>\n",
              "    </tr>\n",
              "    <tr>\n",
              "      <th>1</th>\n",
              "      <td>EXT_SOURCE_2</td>\n",
              "      <td>0.417410</td>\n",
              "    </tr>\n",
              "    <tr>\n",
              "      <th>2</th>\n",
              "      <td>EXT_SOURCE_1</td>\n",
              "      <td>0.054789</td>\n",
              "    </tr>\n",
              "    <tr>\n",
              "      <th>3</th>\n",
              "      <td>CODE_GENDER_M</td>\n",
              "      <td>0.031359</td>\n",
              "    </tr>\n",
              "    <tr>\n",
              "      <th>4</th>\n",
              "      <td>AMT_ANNUITY</td>\n",
              "      <td>0.004256</td>\n",
              "    </tr>\n",
              "    <tr>\n",
              "      <th>5</th>\n",
              "      <td>FLAG_DOCUMENT_3</td>\n",
              "      <td>0.003706</td>\n",
              "    </tr>\n",
              "    <tr>\n",
              "      <th>6</th>\n",
              "      <td>AMT_CREDIT</td>\n",
              "      <td>0.003514</td>\n",
              "    </tr>\n",
              "    <tr>\n",
              "      <th>7</th>\n",
              "      <td>NAME_CONTRACT_TYPE_Revolving loans</td>\n",
              "      <td>0.002979</td>\n",
              "    </tr>\n",
              "    <tr>\n",
              "      <th>8</th>\n",
              "      <td>ENTRANCES_AVG</td>\n",
              "      <td>0.002526</td>\n",
              "    </tr>\n",
              "  </tbody>\n",
              "</table>\n",
              "</div>"
            ],
            "text/plain": [
              "                                  var       imp\n",
              "0                        EXT_SOURCE_3  0.479460\n",
              "1                        EXT_SOURCE_2  0.417410\n",
              "2                        EXT_SOURCE_1  0.054789\n",
              "3                       CODE_GENDER_M  0.031359\n",
              "4                         AMT_ANNUITY  0.004256\n",
              "5                     FLAG_DOCUMENT_3  0.003706\n",
              "6                          AMT_CREDIT  0.003514\n",
              "7  NAME_CONTRACT_TYPE_Revolving loans  0.002979\n",
              "8                       ENTRANCES_AVG  0.002526"
            ]
          },
          "metadata": {
            "tags": []
          },
          "execution_count": 34
        }
      ]
    },
    {
      "cell_type": "markdown",
      "metadata": {
        "id": "Zo-sUAfSIW6r"
      },
      "source": [
        "# XGBoost Model"
      ]
    },
    {
      "cell_type": "code",
      "metadata": {
        "id": "5Xcur_b6qWgf"
      },
      "source": [
        "# parameters = {\n",
        "#         'max_depth': range(2, 6),\n",
        "#         'n_estimators': [50, 100, 150, 200, 250, 300],\n",
        "#         'subsample': [0.6, 0.7, 0.8],\n",
        "#         'colsample_bytree': [0.2, 0.4, 0.5, 0.6, 0.7, 0.8, 1],\n",
        "#         'colsample_bynode': [0.2, 0.4, 0.5, 0.6, 0.7, 0.8, 1],\n",
        "#         'gamma': [0, 5, 10, 15, 20],\n",
        "#         'learning_rate': [0.05, 0.1, 0.15, 0.2, 0.25, 0.3],\n",
        "#         'lambda': [0.1, 0.25, 0.5, 0.75, 1]\n",
        "# }\n",
        "\n",
        "# start = time.time() \n",
        "\n",
        "# clf = RandomizedSearchCV(xgb.XGBClassifier(use_label_encoder = False, eval_metric = \"logloss\"), \n",
        "#                          parameters, n_jobs=4, scoring = \"roc_auc\", n_iter = 120,\n",
        "#                          random_state = 123)\n",
        "\n",
        "# clf.fit(X_train, y_train)\n",
        "\n",
        "# end = time.time()\n",
        "\n",
        "# # print the number of seconds it takes to run the hyperparameter search\n",
        "# print(\"Total time in seconds ==> \", end - start)\n",
        "#clf.best_params_\n",
        "# {'subsample': 0.6,\n",
        "#  'n_estimators': 200,\n",
        "#  'max_depth': 5,\n",
        "#  'learning_rate': 0.3,\n",
        "#  'lambda': 1,\n",
        "#  'gamma': 0,\n",
        "#  'colsample_bytree': 0.8,\n",
        "#  'colsample_bynode': 1}"
      ],
      "execution_count": 35,
      "outputs": []
    },
    {
      "cell_type": "code",
      "metadata": {
        "id": "X8-7yYHTpYZu"
      },
      "source": [
        "# Parameters calcualted using the randomized search above\n",
        "clf =xgb.XGBClassifier(use_label_encoder = False, eval_metric = \"logloss\",\n",
        "                                    subsample= 0.6, n_estimators= 200, max_depth= 5, \n",
        "                                    learning_rate= 0.3,gamma= 0, colsample_bytree= 0.8, \n",
        "                                    colsample_bynode= 1,reg_lambda=1)"
      ],
      "execution_count": 36,
      "outputs": []
    },
    {
      "cell_type": "code",
      "metadata": {
        "colab": {
          "base_uri": "https://localhost:8080/"
        },
        "id": "qJeu0aJGphq4",
        "outputId": "612af14b-6f00-4cdb-be9b-035f60aa07c7"
      },
      "source": [
        "clf.fit(x_train, y_train)"
      ],
      "execution_count": 37,
      "outputs": [
        {
          "output_type": "execute_result",
          "data": {
            "text/plain": [
              "XGBClassifier(base_score=0.5, booster='gbtree', colsample_bylevel=1,\n",
              "              colsample_bynode=1, colsample_bytree=0.8, eval_metric='logloss',\n",
              "              gamma=0, learning_rate=0.3, max_delta_step=0, max_depth=5,\n",
              "              min_child_weight=1, missing=None, n_estimators=200, n_jobs=1,\n",
              "              nthread=None, objective='binary:logistic', random_state=0,\n",
              "              reg_alpha=0, reg_lambda=1, scale_pos_weight=1, seed=None,\n",
              "              silent=None, subsample=0.6, use_label_encoder=False, verbosity=1)"
            ]
          },
          "metadata": {
            "tags": []
          },
          "execution_count": 37
        }
      ]
    },
    {
      "cell_type": "code",
      "metadata": {
        "colab": {
          "base_uri": "https://localhost:8080/",
          "height": 1000
        },
        "id": "xiO54Uopq79G",
        "outputId": "f972a323-6162-4562-a3fc-44cfdf45e36a"
      },
      "source": [
        "imp = pd.DataFrame()\n",
        "\n",
        "# add a column for the variable names\n",
        "imp[\"var\"] = x_train.columns\n",
        "\n",
        "# add a column with the feature importances\n",
        "imp[\"imp\"] = clf.feature_importances_\n",
        "\n",
        "# sort the data frame by the feature importances in descending order - most important features at the top\n",
        "imp = imp.sort_values(\"imp\", ascending = False).reset_index(drop = True)\n",
        "\n",
        "# print out the data frame\n",
        "imp"
      ],
      "execution_count": 38,
      "outputs": [
        {
          "output_type": "execute_result",
          "data": {
            "text/html": [
              "<div>\n",
              "<style scoped>\n",
              "    .dataframe tbody tr th:only-of-type {\n",
              "        vertical-align: middle;\n",
              "    }\n",
              "\n",
              "    .dataframe tbody tr th {\n",
              "        vertical-align: top;\n",
              "    }\n",
              "\n",
              "    .dataframe thead th {\n",
              "        text-align: right;\n",
              "    }\n",
              "</style>\n",
              "<table border=\"1\" class=\"dataframe\">\n",
              "  <thead>\n",
              "    <tr style=\"text-align: right;\">\n",
              "      <th></th>\n",
              "      <th>var</th>\n",
              "      <th>imp</th>\n",
              "    </tr>\n",
              "  </thead>\n",
              "  <tbody>\n",
              "    <tr>\n",
              "      <th>0</th>\n",
              "      <td>EXT_SOURCE_3</td>\n",
              "      <td>0.018449</td>\n",
              "    </tr>\n",
              "    <tr>\n",
              "      <th>1</th>\n",
              "      <td>NAME_EDUCATION_TYPE_Higher education</td>\n",
              "      <td>0.017309</td>\n",
              "    </tr>\n",
              "    <tr>\n",
              "      <th>2</th>\n",
              "      <td>EXT_SOURCE_2</td>\n",
              "      <td>0.015565</td>\n",
              "    </tr>\n",
              "    <tr>\n",
              "      <th>3</th>\n",
              "      <td>NAME_INCOME_TYPE_Pensioner</td>\n",
              "      <td>0.012265</td>\n",
              "    </tr>\n",
              "    <tr>\n",
              "      <th>4</th>\n",
              "      <td>FLAG_DOCUMENT_3</td>\n",
              "      <td>0.011828</td>\n",
              "    </tr>\n",
              "    <tr>\n",
              "      <th>5</th>\n",
              "      <td>NAME_EDUCATION_TYPE_Secondary / secondary special</td>\n",
              "      <td>0.011535</td>\n",
              "    </tr>\n",
              "    <tr>\n",
              "      <th>6</th>\n",
              "      <td>CODE_GENDER_M</td>\n",
              "      <td>0.011172</td>\n",
              "    </tr>\n",
              "    <tr>\n",
              "      <th>7</th>\n",
              "      <td>FLAG_DOCUMENT_18</td>\n",
              "      <td>0.008893</td>\n",
              "    </tr>\n",
              "    <tr>\n",
              "      <th>8</th>\n",
              "      <td>NAME_INCOME_TYPE_State servant</td>\n",
              "      <td>0.008851</td>\n",
              "    </tr>\n",
              "    <tr>\n",
              "      <th>9</th>\n",
              "      <td>EXT_SOURCE_1</td>\n",
              "      <td>0.008706</td>\n",
              "    </tr>\n",
              "    <tr>\n",
              "      <th>10</th>\n",
              "      <td>AMT_GOODS_PRICE</td>\n",
              "      <td>0.008456</td>\n",
              "    </tr>\n",
              "    <tr>\n",
              "      <th>11</th>\n",
              "      <td>ORGANIZATION_TYPE_Transport: type 3</td>\n",
              "      <td>0.008382</td>\n",
              "    </tr>\n",
              "    <tr>\n",
              "      <th>12</th>\n",
              "      <td>DEF_30_CNT_SOCIAL_CIRCLE</td>\n",
              "      <td>0.008347</td>\n",
              "    </tr>\n",
              "    <tr>\n",
              "      <th>13</th>\n",
              "      <td>FLAG_OWN_CAR_Y</td>\n",
              "      <td>0.008280</td>\n",
              "    </tr>\n",
              "    <tr>\n",
              "      <th>14</th>\n",
              "      <td>NAME_HOUSING_TYPE_Office apartment</td>\n",
              "      <td>0.008262</td>\n",
              "    </tr>\n",
              "    <tr>\n",
              "      <th>15</th>\n",
              "      <td>ORGANIZATION_TYPE_Kindergarten</td>\n",
              "      <td>0.007652</td>\n",
              "    </tr>\n",
              "    <tr>\n",
              "      <th>16</th>\n",
              "      <td>NAME_FAMILY_STATUS_Married</td>\n",
              "      <td>0.007548</td>\n",
              "    </tr>\n",
              "    <tr>\n",
              "      <th>17</th>\n",
              "      <td>ORGANIZATION_TYPE_Realtor</td>\n",
              "      <td>0.007412</td>\n",
              "    </tr>\n",
              "    <tr>\n",
              "      <th>18</th>\n",
              "      <td>REGION_RATING_CLIENT_W_CITY</td>\n",
              "      <td>0.007384</td>\n",
              "    </tr>\n",
              "    <tr>\n",
              "      <th>19</th>\n",
              "      <td>ORGANIZATION_TYPE_Industry: type 9</td>\n",
              "      <td>0.007346</td>\n",
              "    </tr>\n",
              "    <tr>\n",
              "      <th>20</th>\n",
              "      <td>FLAG_WORK_PHONE</td>\n",
              "      <td>0.007267</td>\n",
              "    </tr>\n",
              "    <tr>\n",
              "      <th>21</th>\n",
              "      <td>DAYS_BIRTH</td>\n",
              "      <td>0.007070</td>\n",
              "    </tr>\n",
              "    <tr>\n",
              "      <th>22</th>\n",
              "      <td>NAME_INCOME_TYPE_Working</td>\n",
              "      <td>0.006891</td>\n",
              "    </tr>\n",
              "    <tr>\n",
              "      <th>23</th>\n",
              "      <td>AMT_CREDIT</td>\n",
              "      <td>0.006882</td>\n",
              "    </tr>\n",
              "    <tr>\n",
              "      <th>24</th>\n",
              "      <td>REG_CITY_NOT_LIVE_CITY</td>\n",
              "      <td>0.006748</td>\n",
              "    </tr>\n",
              "    <tr>\n",
              "      <th>25</th>\n",
              "      <td>AMT_REQ_CREDIT_BUREAU_HOUR</td>\n",
              "      <td>0.006602</td>\n",
              "    </tr>\n",
              "    <tr>\n",
              "      <th>26</th>\n",
              "      <td>DEF_60_CNT_SOCIAL_CIRCLE</td>\n",
              "      <td>0.006530</td>\n",
              "    </tr>\n",
              "    <tr>\n",
              "      <th>27</th>\n",
              "      <td>NAME_INCOME_TYPE_Unemployed</td>\n",
              "      <td>0.006486</td>\n",
              "    </tr>\n",
              "    <tr>\n",
              "      <th>28</th>\n",
              "      <td>AMT_ANNUITY</td>\n",
              "      <td>0.006483</td>\n",
              "    </tr>\n",
              "    <tr>\n",
              "      <th>29</th>\n",
              "      <td>ORGANIZATION_TYPE_Business Entity Type 3</td>\n",
              "      <td>0.006439</td>\n",
              "    </tr>\n",
              "    <tr>\n",
              "      <th>30</th>\n",
              "      <td>REG_REGION_NOT_WORK_REGION</td>\n",
              "      <td>0.006408</td>\n",
              "    </tr>\n",
              "    <tr>\n",
              "      <th>31</th>\n",
              "      <td>OWN_CAR_AGE</td>\n",
              "      <td>0.006405</td>\n",
              "    </tr>\n",
              "    <tr>\n",
              "      <th>32</th>\n",
              "      <td>FLAG_DOCUMENT_5</td>\n",
              "      <td>0.006365</td>\n",
              "    </tr>\n",
              "    <tr>\n",
              "      <th>33</th>\n",
              "      <td>ORGANIZATION_TYPE_Trade: type 3</td>\n",
              "      <td>0.006361</td>\n",
              "    </tr>\n",
              "    <tr>\n",
              "      <th>34</th>\n",
              "      <td>WALLSMATERIAL_MODE_Others</td>\n",
              "      <td>0.006328</td>\n",
              "    </tr>\n",
              "    <tr>\n",
              "      <th>35</th>\n",
              "      <td>NAME_CONTRACT_TYPE_Revolving loans</td>\n",
              "      <td>0.006311</td>\n",
              "    </tr>\n",
              "    <tr>\n",
              "      <th>36</th>\n",
              "      <td>LIVINGAREA_MEDI</td>\n",
              "      <td>0.006302</td>\n",
              "    </tr>\n",
              "    <tr>\n",
              "      <th>37</th>\n",
              "      <td>ORGANIZATION_TYPE_Hotel</td>\n",
              "      <td>0.006294</td>\n",
              "    </tr>\n",
              "    <tr>\n",
              "      <th>38</th>\n",
              "      <td>APARTMENTS_AVG</td>\n",
              "      <td>0.006264</td>\n",
              "    </tr>\n",
              "    <tr>\n",
              "      <th>39</th>\n",
              "      <td>WALLSMATERIAL_MODE_Panel</td>\n",
              "      <td>0.006253</td>\n",
              "    </tr>\n",
              "    <tr>\n",
              "      <th>40</th>\n",
              "      <td>AMT_REQ_CREDIT_BUREAU_DAY</td>\n",
              "      <td>0.006166</td>\n",
              "    </tr>\n",
              "    <tr>\n",
              "      <th>41</th>\n",
              "      <td>NAME_FAMILY_STATUS_Separated</td>\n",
              "      <td>0.006151</td>\n",
              "    </tr>\n",
              "    <tr>\n",
              "      <th>42</th>\n",
              "      <td>DAYS_EMPLOYED</td>\n",
              "      <td>0.006137</td>\n",
              "    </tr>\n",
              "    <tr>\n",
              "      <th>43</th>\n",
              "      <td>ENTRANCES_MEDI</td>\n",
              "      <td>0.006108</td>\n",
              "    </tr>\n",
              "    <tr>\n",
              "      <th>44</th>\n",
              "      <td>ORGANIZATION_TYPE_Military</td>\n",
              "      <td>0.006076</td>\n",
              "    </tr>\n",
              "    <tr>\n",
              "      <th>45</th>\n",
              "      <td>AMT_REQ_CREDIT_BUREAU_QRT</td>\n",
              "      <td>0.006021</td>\n",
              "    </tr>\n",
              "    <tr>\n",
              "      <th>46</th>\n",
              "      <td>ORGANIZATION_TYPE_Business Entity Type 1</td>\n",
              "      <td>0.006011</td>\n",
              "    </tr>\n",
              "    <tr>\n",
              "      <th>47</th>\n",
              "      <td>ORGANIZATION_TYPE_Insurance</td>\n",
              "      <td>0.005982</td>\n",
              "    </tr>\n",
              "    <tr>\n",
              "      <th>48</th>\n",
              "      <td>LANDAREA_MEDI</td>\n",
              "      <td>0.005958</td>\n",
              "    </tr>\n",
              "    <tr>\n",
              "      <th>49</th>\n",
              "      <td>ORGANIZATION_TYPE_Self-employed</td>\n",
              "      <td>0.005925</td>\n",
              "    </tr>\n",
              "    <tr>\n",
              "      <th>50</th>\n",
              "      <td>NAME_TYPE_SUITE_Spouse, partner</td>\n",
              "      <td>0.005876</td>\n",
              "    </tr>\n",
              "    <tr>\n",
              "      <th>51</th>\n",
              "      <td>ORGANIZATION_TYPE_Restaurant</td>\n",
              "      <td>0.005862</td>\n",
              "    </tr>\n",
              "    <tr>\n",
              "      <th>52</th>\n",
              "      <td>FONDKAPREMONT_MODE_reg oper spec account</td>\n",
              "      <td>0.005856</td>\n",
              "    </tr>\n",
              "    <tr>\n",
              "      <th>53</th>\n",
              "      <td>ORGANIZATION_TYPE_Construction</td>\n",
              "      <td>0.005856</td>\n",
              "    </tr>\n",
              "    <tr>\n",
              "      <th>54</th>\n",
              "      <td>FLAG_DOCUMENT_16</td>\n",
              "      <td>0.005777</td>\n",
              "    </tr>\n",
              "    <tr>\n",
              "      <th>55</th>\n",
              "      <td>ORGANIZATION_TYPE_Medicine</td>\n",
              "      <td>0.005766</td>\n",
              "    </tr>\n",
              "    <tr>\n",
              "      <th>56</th>\n",
              "      <td>ORGANIZATION_TYPE_Transport: type 4</td>\n",
              "      <td>0.005762</td>\n",
              "    </tr>\n",
              "    <tr>\n",
              "      <th>57</th>\n",
              "      <td>AMT_REQ_CREDIT_BUREAU_WEEK</td>\n",
              "      <td>0.005760</td>\n",
              "    </tr>\n",
              "    <tr>\n",
              "      <th>58</th>\n",
              "      <td>FONDKAPREMONT_MODE_org spec account</td>\n",
              "      <td>0.005739</td>\n",
              "    </tr>\n",
              "    <tr>\n",
              "      <th>59</th>\n",
              "      <td>FLAG_DOCUMENT_14</td>\n",
              "      <td>0.005716</td>\n",
              "    </tr>\n",
              "    <tr>\n",
              "      <th>60</th>\n",
              "      <td>WEEKDAY_APPR_PROCESS_START_SATURDAY</td>\n",
              "      <td>0.005671</td>\n",
              "    </tr>\n",
              "    <tr>\n",
              "      <th>61</th>\n",
              "      <td>ORGANIZATION_TYPE_Trade: type 2</td>\n",
              "      <td>0.005559</td>\n",
              "    </tr>\n",
              "    <tr>\n",
              "      <th>62</th>\n",
              "      <td>ORGANIZATION_TYPE_Security</td>\n",
              "      <td>0.005518</td>\n",
              "    </tr>\n",
              "    <tr>\n",
              "      <th>63</th>\n",
              "      <td>DAYS_ID_PUBLISH</td>\n",
              "      <td>0.005517</td>\n",
              "    </tr>\n",
              "    <tr>\n",
              "      <th>64</th>\n",
              "      <td>LIVINGAPARTMENTS_AVG</td>\n",
              "      <td>0.005501</td>\n",
              "    </tr>\n",
              "    <tr>\n",
              "      <th>65</th>\n",
              "      <td>LIVINGAPARTMENTS_MODE</td>\n",
              "      <td>0.005495</td>\n",
              "    </tr>\n",
              "    <tr>\n",
              "      <th>66</th>\n",
              "      <td>ELEVATORS_MODE</td>\n",
              "      <td>0.005488</td>\n",
              "    </tr>\n",
              "    <tr>\n",
              "      <th>67</th>\n",
              "      <td>ORGANIZATION_TYPE_Legal Services</td>\n",
              "      <td>0.005468</td>\n",
              "    </tr>\n",
              "    <tr>\n",
              "      <th>68</th>\n",
              "      <td>ORGANIZATION_TYPE_Industry: type 3</td>\n",
              "      <td>0.005449</td>\n",
              "    </tr>\n",
              "    <tr>\n",
              "      <th>69</th>\n",
              "      <td>ORGANIZATION_TYPE_Trade: type 7</td>\n",
              "      <td>0.005433</td>\n",
              "    </tr>\n",
              "    <tr>\n",
              "      <th>70</th>\n",
              "      <td>ORGANIZATION_TYPE_Emergency</td>\n",
              "      <td>0.005416</td>\n",
              "    </tr>\n",
              "    <tr>\n",
              "      <th>71</th>\n",
              "      <td>FLOORSMAX_MODE</td>\n",
              "      <td>0.005385</td>\n",
              "    </tr>\n",
              "    <tr>\n",
              "      <th>72</th>\n",
              "      <td>ORGANIZATION_TYPE_Postal</td>\n",
              "      <td>0.005379</td>\n",
              "    </tr>\n",
              "    <tr>\n",
              "      <th>73</th>\n",
              "      <td>ORGANIZATION_TYPE_Cleaning</td>\n",
              "      <td>0.005357</td>\n",
              "    </tr>\n",
              "    <tr>\n",
              "      <th>74</th>\n",
              "      <td>ORGANIZATION_TYPE_Telecom</td>\n",
              "      <td>0.005345</td>\n",
              "    </tr>\n",
              "    <tr>\n",
              "      <th>75</th>\n",
              "      <td>TOTALAREA_MODE</td>\n",
              "      <td>0.005340</td>\n",
              "    </tr>\n",
              "    <tr>\n",
              "      <th>76</th>\n",
              "      <td>CNT_CHILDREN</td>\n",
              "      <td>0.005327</td>\n",
              "    </tr>\n",
              "    <tr>\n",
              "      <th>77</th>\n",
              "      <td>NONLIVINGAREA_AVG</td>\n",
              "      <td>0.005325</td>\n",
              "    </tr>\n",
              "    <tr>\n",
              "      <th>78</th>\n",
              "      <td>APARTMENTS_MEDI</td>\n",
              "      <td>0.005321</td>\n",
              "    </tr>\n",
              "    <tr>\n",
              "      <th>79</th>\n",
              "      <td>DAYS_REGISTRATION</td>\n",
              "      <td>0.005297</td>\n",
              "    </tr>\n",
              "    <tr>\n",
              "      <th>80</th>\n",
              "      <td>BASEMENTAREA_MODE</td>\n",
              "      <td>0.005269</td>\n",
              "    </tr>\n",
              "    <tr>\n",
              "      <th>81</th>\n",
              "      <td>COMMONAREA_AVG</td>\n",
              "      <td>0.005237</td>\n",
              "    </tr>\n",
              "    <tr>\n",
              "      <th>82</th>\n",
              "      <td>YEARS_BEGINEXPLUATATION_MODE</td>\n",
              "      <td>0.005229</td>\n",
              "    </tr>\n",
              "    <tr>\n",
              "      <th>83</th>\n",
              "      <td>FLOORSMIN_MEDI</td>\n",
              "      <td>0.005228</td>\n",
              "    </tr>\n",
              "    <tr>\n",
              "      <th>84</th>\n",
              "      <td>FLAG_PHONE</td>\n",
              "      <td>0.005221</td>\n",
              "    </tr>\n",
              "    <tr>\n",
              "      <th>85</th>\n",
              "      <td>ENTRANCES_AVG</td>\n",
              "      <td>0.005212</td>\n",
              "    </tr>\n",
              "    <tr>\n",
              "      <th>86</th>\n",
              "      <td>ELEVATORS_MEDI</td>\n",
              "      <td>0.005210</td>\n",
              "    </tr>\n",
              "    <tr>\n",
              "      <th>87</th>\n",
              "      <td>AMT_REQ_CREDIT_BUREAU_YEAR</td>\n",
              "      <td>0.005191</td>\n",
              "    </tr>\n",
              "    <tr>\n",
              "      <th>88</th>\n",
              "      <td>ORGANIZATION_TYPE_School</td>\n",
              "      <td>0.005190</td>\n",
              "    </tr>\n",
              "    <tr>\n",
              "      <th>89</th>\n",
              "      <td>LANDAREA_MODE</td>\n",
              "      <td>0.005185</td>\n",
              "    </tr>\n",
              "    <tr>\n",
              "      <th>90</th>\n",
              "      <td>ORGANIZATION_TYPE_University</td>\n",
              "      <td>0.005179</td>\n",
              "    </tr>\n",
              "    <tr>\n",
              "      <th>91</th>\n",
              "      <td>NAME_TYPE_SUITE_Unaccompanied</td>\n",
              "      <td>0.005139</td>\n",
              "    </tr>\n",
              "    <tr>\n",
              "      <th>92</th>\n",
              "      <td>ORGANIZATION_TYPE_Police</td>\n",
              "      <td>0.005133</td>\n",
              "    </tr>\n",
              "    <tr>\n",
              "      <th>93</th>\n",
              "      <td>FLAG_OWN_REALTY_Y</td>\n",
              "      <td>0.005128</td>\n",
              "    </tr>\n",
              "    <tr>\n",
              "      <th>94</th>\n",
              "      <td>YEARS_BUILD_MEDI</td>\n",
              "      <td>0.005128</td>\n",
              "    </tr>\n",
              "    <tr>\n",
              "      <th>95</th>\n",
              "      <td>OBS_60_CNT_SOCIAL_CIRCLE</td>\n",
              "      <td>0.005101</td>\n",
              "    </tr>\n",
              "    <tr>\n",
              "      <th>96</th>\n",
              "      <td>NAME_HOUSING_TYPE_With parents</td>\n",
              "      <td>0.005085</td>\n",
              "    </tr>\n",
              "    <tr>\n",
              "      <th>97</th>\n",
              "      <td>YEARS_BUILD_MODE</td>\n",
              "      <td>0.005056</td>\n",
              "    </tr>\n",
              "    <tr>\n",
              "      <th>98</th>\n",
              "      <td>YEARS_BEGINEXPLUATATION_AVG</td>\n",
              "      <td>0.005050</td>\n",
              "    </tr>\n",
              "    <tr>\n",
              "      <th>99</th>\n",
              "      <td>ORGANIZATION_TYPE_Industry: type 11</td>\n",
              "      <td>0.005045</td>\n",
              "    </tr>\n",
              "    <tr>\n",
              "      <th>100</th>\n",
              "      <td>FLOORSMAX_AVG</td>\n",
              "      <td>0.005038</td>\n",
              "    </tr>\n",
              "    <tr>\n",
              "      <th>101</th>\n",
              "      <td>BASEMENTAREA_AVG</td>\n",
              "      <td>0.005029</td>\n",
              "    </tr>\n",
              "    <tr>\n",
              "      <th>102</th>\n",
              "      <td>ORGANIZATION_TYPE_Housing</td>\n",
              "      <td>0.005029</td>\n",
              "    </tr>\n",
              "    <tr>\n",
              "      <th>103</th>\n",
              "      <td>COMMONAREA_MODE</td>\n",
              "      <td>0.005022</td>\n",
              "    </tr>\n",
              "    <tr>\n",
              "      <th>104</th>\n",
              "      <td>LIVINGAREA_MODE</td>\n",
              "      <td>0.005012</td>\n",
              "    </tr>\n",
              "    <tr>\n",
              "      <th>105</th>\n",
              "      <td>WALLSMATERIAL_MODE_Mixed</td>\n",
              "      <td>0.005006</td>\n",
              "    </tr>\n",
              "    <tr>\n",
              "      <th>106</th>\n",
              "      <td>FLAG_DOCUMENT_13</td>\n",
              "      <td>0.005002</td>\n",
              "    </tr>\n",
              "    <tr>\n",
              "      <th>107</th>\n",
              "      <td>REG_REGION_NOT_LIVE_REGION</td>\n",
              "      <td>0.004997</td>\n",
              "    </tr>\n",
              "    <tr>\n",
              "      <th>108</th>\n",
              "      <td>APARTMENTS_MODE</td>\n",
              "      <td>0.004987</td>\n",
              "    </tr>\n",
              "    <tr>\n",
              "      <th>109</th>\n",
              "      <td>AMT_INCOME_TOTAL</td>\n",
              "      <td>0.004984</td>\n",
              "    </tr>\n",
              "    <tr>\n",
              "      <th>110</th>\n",
              "      <td>FLAG_DOCUMENT_15</td>\n",
              "      <td>0.004951</td>\n",
              "    </tr>\n",
              "    <tr>\n",
              "      <th>111</th>\n",
              "      <td>DAYS_LAST_PHONE_CHANGE</td>\n",
              "      <td>0.004950</td>\n",
              "    </tr>\n",
              "    <tr>\n",
              "      <th>112</th>\n",
              "      <td>BASEMENTAREA_MEDI</td>\n",
              "      <td>0.004925</td>\n",
              "    </tr>\n",
              "    <tr>\n",
              "      <th>113</th>\n",
              "      <td>NAME_HOUSING_TYPE_House / apartment</td>\n",
              "      <td>0.004907</td>\n",
              "    </tr>\n",
              "    <tr>\n",
              "      <th>114</th>\n",
              "      <td>NONLIVINGAREA_MODE</td>\n",
              "      <td>0.004906</td>\n",
              "    </tr>\n",
              "    <tr>\n",
              "      <th>115</th>\n",
              "      <td>LANDAREA_AVG</td>\n",
              "      <td>0.004902</td>\n",
              "    </tr>\n",
              "    <tr>\n",
              "      <th>116</th>\n",
              "      <td>NONLIVINGAREA_MEDI</td>\n",
              "      <td>0.004896</td>\n",
              "    </tr>\n",
              "    <tr>\n",
              "      <th>117</th>\n",
              "      <td>NONLIVINGAPARTMENTS_MODE</td>\n",
              "      <td>0.004886</td>\n",
              "    </tr>\n",
              "    <tr>\n",
              "      <th>118</th>\n",
              "      <td>NAME_EDUCATION_TYPE_Incomplete higher</td>\n",
              "      <td>0.004881</td>\n",
              "    </tr>\n",
              "    <tr>\n",
              "      <th>119</th>\n",
              "      <td>ORGANIZATION_TYPE_Other</td>\n",
              "      <td>0.004862</td>\n",
              "    </tr>\n",
              "    <tr>\n",
              "      <th>120</th>\n",
              "      <td>REGION_POPULATION_RELATIVE</td>\n",
              "      <td>0.004861</td>\n",
              "    </tr>\n",
              "    <tr>\n",
              "      <th>121</th>\n",
              "      <td>HOUR_APPR_PROCESS_START</td>\n",
              "      <td>0.004858</td>\n",
              "    </tr>\n",
              "    <tr>\n",
              "      <th>122</th>\n",
              "      <td>YEARS_BUILD_AVG</td>\n",
              "      <td>0.004838</td>\n",
              "    </tr>\n",
              "    <tr>\n",
              "      <th>123</th>\n",
              "      <td>WALLSMATERIAL_MODE_Stone, brick</td>\n",
              "      <td>0.004831</td>\n",
              "    </tr>\n",
              "    <tr>\n",
              "      <th>124</th>\n",
              "      <td>REGION_RATING_CLIENT</td>\n",
              "      <td>0.004816</td>\n",
              "    </tr>\n",
              "    <tr>\n",
              "      <th>125</th>\n",
              "      <td>FONDKAPREMONT_MODE_reg oper account</td>\n",
              "      <td>0.004816</td>\n",
              "    </tr>\n",
              "    <tr>\n",
              "      <th>126</th>\n",
              "      <td>WEEKDAY_APPR_PROCESS_START_TUESDAY</td>\n",
              "      <td>0.004813</td>\n",
              "    </tr>\n",
              "    <tr>\n",
              "      <th>127</th>\n",
              "      <td>LIVINGAREA_AVG</td>\n",
              "      <td>0.004791</td>\n",
              "    </tr>\n",
              "    <tr>\n",
              "      <th>128</th>\n",
              "      <td>REG_CITY_NOT_WORK_CITY</td>\n",
              "      <td>0.004791</td>\n",
              "    </tr>\n",
              "    <tr>\n",
              "      <th>129</th>\n",
              "      <td>LIVINGAPARTMENTS_MEDI</td>\n",
              "      <td>0.004786</td>\n",
              "    </tr>\n",
              "    <tr>\n",
              "      <th>130</th>\n",
              "      <td>OBS_30_CNT_SOCIAL_CIRCLE</td>\n",
              "      <td>0.004771</td>\n",
              "    </tr>\n",
              "    <tr>\n",
              "      <th>131</th>\n",
              "      <td>CNT_FAM_MEMBERS</td>\n",
              "      <td>0.004749</td>\n",
              "    </tr>\n",
              "    <tr>\n",
              "      <th>132</th>\n",
              "      <td>FLOORSMIN_AVG</td>\n",
              "      <td>0.004747</td>\n",
              "    </tr>\n",
              "    <tr>\n",
              "      <th>133</th>\n",
              "      <td>NAME_EDUCATION_TYPE_Lower secondary</td>\n",
              "      <td>0.004739</td>\n",
              "    </tr>\n",
              "    <tr>\n",
              "      <th>134</th>\n",
              "      <td>YEARS_BEGINEXPLUATATION_MEDI</td>\n",
              "      <td>0.004684</td>\n",
              "    </tr>\n",
              "    <tr>\n",
              "      <th>135</th>\n",
              "      <td>ORGANIZATION_TYPE_Government</td>\n",
              "      <td>0.004673</td>\n",
              "    </tr>\n",
              "    <tr>\n",
              "      <th>136</th>\n",
              "      <td>ORGANIZATION_TYPE_Industry: type 1</td>\n",
              "      <td>0.004623</td>\n",
              "    </tr>\n",
              "    <tr>\n",
              "      <th>137</th>\n",
              "      <td>WEEKDAY_APPR_PROCESS_START_SUNDAY</td>\n",
              "      <td>0.004570</td>\n",
              "    </tr>\n",
              "    <tr>\n",
              "      <th>138</th>\n",
              "      <td>ENTRANCES_MODE</td>\n",
              "      <td>0.004565</td>\n",
              "    </tr>\n",
              "    <tr>\n",
              "      <th>139</th>\n",
              "      <td>NONLIVINGAPARTMENTS_MEDI</td>\n",
              "      <td>0.004549</td>\n",
              "    </tr>\n",
              "    <tr>\n",
              "      <th>140</th>\n",
              "      <td>NAME_FAMILY_STATUS_Single / not married</td>\n",
              "      <td>0.004516</td>\n",
              "    </tr>\n",
              "    <tr>\n",
              "      <th>141</th>\n",
              "      <td>ORGANIZATION_TYPE_Services</td>\n",
              "      <td>0.004515</td>\n",
              "    </tr>\n",
              "    <tr>\n",
              "      <th>142</th>\n",
              "      <td>ORGANIZATION_TYPE_Business Entity Type 2</td>\n",
              "      <td>0.004471</td>\n",
              "    </tr>\n",
              "    <tr>\n",
              "      <th>143</th>\n",
              "      <td>LIVE_CITY_NOT_WORK_CITY</td>\n",
              "      <td>0.004468</td>\n",
              "    </tr>\n",
              "    <tr>\n",
              "      <th>144</th>\n",
              "      <td>NAME_INCOME_TYPE_Commercial associate</td>\n",
              "      <td>0.004422</td>\n",
              "    </tr>\n",
              "    <tr>\n",
              "      <th>145</th>\n",
              "      <td>WEEKDAY_APPR_PROCESS_START_MONDAY</td>\n",
              "      <td>0.004416</td>\n",
              "    </tr>\n",
              "    <tr>\n",
              "      <th>146</th>\n",
              "      <td>NAME_TYPE_SUITE_Family</td>\n",
              "      <td>0.004413</td>\n",
              "    </tr>\n",
              "    <tr>\n",
              "      <th>147</th>\n",
              "      <td>FLOORSMIN_MODE</td>\n",
              "      <td>0.004405</td>\n",
              "    </tr>\n",
              "    <tr>\n",
              "      <th>148</th>\n",
              "      <td>NAME_HOUSING_TYPE_Rented apartment</td>\n",
              "      <td>0.004391</td>\n",
              "    </tr>\n",
              "    <tr>\n",
              "      <th>149</th>\n",
              "      <td>NAME_TYPE_SUITE_Group of people</td>\n",
              "      <td>0.004381</td>\n",
              "    </tr>\n",
              "    <tr>\n",
              "      <th>150</th>\n",
              "      <td>COMMONAREA_MEDI</td>\n",
              "      <td>0.004380</td>\n",
              "    </tr>\n",
              "    <tr>\n",
              "      <th>151</th>\n",
              "      <td>FLAG_CONT_MOBILE</td>\n",
              "      <td>0.004358</td>\n",
              "    </tr>\n",
              "    <tr>\n",
              "      <th>152</th>\n",
              "      <td>ORGANIZATION_TYPE_Industry: type 4</td>\n",
              "      <td>0.004277</td>\n",
              "    </tr>\n",
              "    <tr>\n",
              "      <th>153</th>\n",
              "      <td>ELEVATORS_AVG</td>\n",
              "      <td>0.004256</td>\n",
              "    </tr>\n",
              "    <tr>\n",
              "      <th>154</th>\n",
              "      <td>WEEKDAY_APPR_PROCESS_START_WEDNESDAY</td>\n",
              "      <td>0.004193</td>\n",
              "    </tr>\n",
              "    <tr>\n",
              "      <th>155</th>\n",
              "      <td>ORGANIZATION_TYPE_Industry: type 12</td>\n",
              "      <td>0.004175</td>\n",
              "    </tr>\n",
              "    <tr>\n",
              "      <th>156</th>\n",
              "      <td>AMT_REQ_CREDIT_BUREAU_MON</td>\n",
              "      <td>0.004169</td>\n",
              "    </tr>\n",
              "    <tr>\n",
              "      <th>157</th>\n",
              "      <td>LIVE_REGION_NOT_WORK_REGION</td>\n",
              "      <td>0.004155</td>\n",
              "    </tr>\n",
              "    <tr>\n",
              "      <th>158</th>\n",
              "      <td>ORGANIZATION_TYPE_Security Ministries</td>\n",
              "      <td>0.004112</td>\n",
              "    </tr>\n",
              "    <tr>\n",
              "      <th>159</th>\n",
              "      <td>ORGANIZATION_TYPE_Transport: type 2</td>\n",
              "      <td>0.004110</td>\n",
              "    </tr>\n",
              "    <tr>\n",
              "      <th>160</th>\n",
              "      <td>WEEKDAY_APPR_PROCESS_START_THURSDAY</td>\n",
              "      <td>0.004096</td>\n",
              "    </tr>\n",
              "    <tr>\n",
              "      <th>161</th>\n",
              "      <td>ORGANIZATION_TYPE_Trade: type 6</td>\n",
              "      <td>0.004079</td>\n",
              "    </tr>\n",
              "    <tr>\n",
              "      <th>162</th>\n",
              "      <td>NONLIVINGAPARTMENTS_AVG</td>\n",
              "      <td>0.003964</td>\n",
              "    </tr>\n",
              "    <tr>\n",
              "      <th>163</th>\n",
              "      <td>FLAG_DOCUMENT_6</td>\n",
              "      <td>0.003918</td>\n",
              "    </tr>\n",
              "    <tr>\n",
              "      <th>164</th>\n",
              "      <td>NAME_FAMILY_STATUS_Widow</td>\n",
              "      <td>0.003890</td>\n",
              "    </tr>\n",
              "    <tr>\n",
              "      <th>165</th>\n",
              "      <td>ORGANIZATION_TYPE_Bank</td>\n",
              "      <td>0.003881</td>\n",
              "    </tr>\n",
              "    <tr>\n",
              "      <th>166</th>\n",
              "      <td>FLOORSMAX_MEDI</td>\n",
              "      <td>0.003805</td>\n",
              "    </tr>\n",
              "    <tr>\n",
              "      <th>167</th>\n",
              "      <td>HOUSETYPE_MODE_specific housing</td>\n",
              "      <td>0.003781</td>\n",
              "    </tr>\n",
              "    <tr>\n",
              "      <th>168</th>\n",
              "      <td>NAME_HOUSING_TYPE_Municipal apartment</td>\n",
              "      <td>0.003591</td>\n",
              "    </tr>\n",
              "    <tr>\n",
              "      <th>169</th>\n",
              "      <td>NAME_TYPE_SUITE_Other_B</td>\n",
              "      <td>0.003580</td>\n",
              "    </tr>\n",
              "    <tr>\n",
              "      <th>170</th>\n",
              "      <td>FLAG_DOCUMENT_8</td>\n",
              "      <td>0.003507</td>\n",
              "    </tr>\n",
              "    <tr>\n",
              "      <th>171</th>\n",
              "      <td>EMERGENCYSTATE_MODE_Yes</td>\n",
              "      <td>0.003441</td>\n",
              "    </tr>\n",
              "    <tr>\n",
              "      <th>172</th>\n",
              "      <td>FLAG_DOCUMENT_11</td>\n",
              "      <td>0.003143</td>\n",
              "    </tr>\n",
              "    <tr>\n",
              "      <th>173</th>\n",
              "      <td>FLAG_EMAIL</td>\n",
              "      <td>0.003070</td>\n",
              "    </tr>\n",
              "    <tr>\n",
              "      <th>174</th>\n",
              "      <td>ORGANIZATION_TYPE_Industry: type 2</td>\n",
              "      <td>0.002987</td>\n",
              "    </tr>\n",
              "    <tr>\n",
              "      <th>175</th>\n",
              "      <td>NAME_INCOME_TYPE_Maternity leave</td>\n",
              "      <td>0.000000</td>\n",
              "    </tr>\n",
              "    <tr>\n",
              "      <th>176</th>\n",
              "      <td>NAME_FAMILY_STATUS_Unknown</td>\n",
              "      <td>0.000000</td>\n",
              "    </tr>\n",
              "    <tr>\n",
              "      <th>177</th>\n",
              "      <td>FLAG_DOCUMENT_21</td>\n",
              "      <td>0.000000</td>\n",
              "    </tr>\n",
              "    <tr>\n",
              "      <th>178</th>\n",
              "      <td>FLAG_DOCUMENT_7</td>\n",
              "      <td>0.000000</td>\n",
              "    </tr>\n",
              "    <tr>\n",
              "      <th>179</th>\n",
              "      <td>FLAG_DOCUMENT_2</td>\n",
              "      <td>0.000000</td>\n",
              "    </tr>\n",
              "    <tr>\n",
              "      <th>180</th>\n",
              "      <td>ORGANIZATION_TYPE_Agriculture</td>\n",
              "      <td>0.000000</td>\n",
              "    </tr>\n",
              "    <tr>\n",
              "      <th>181</th>\n",
              "      <td>ORGANIZATION_TYPE_XNA</td>\n",
              "      <td>0.000000</td>\n",
              "    </tr>\n",
              "    <tr>\n",
              "      <th>182</th>\n",
              "      <td>FLAG_EMP_PHONE</td>\n",
              "      <td>0.000000</td>\n",
              "    </tr>\n",
              "    <tr>\n",
              "      <th>183</th>\n",
              "      <td>WALLSMATERIAL_MODE_Wooden</td>\n",
              "      <td>0.000000</td>\n",
              "    </tr>\n",
              "    <tr>\n",
              "      <th>184</th>\n",
              "      <td>FLAG_DOCUMENT_4</td>\n",
              "      <td>0.000000</td>\n",
              "    </tr>\n",
              "    <tr>\n",
              "      <th>185</th>\n",
              "      <td>FLAG_MOBIL</td>\n",
              "      <td>0.000000</td>\n",
              "    </tr>\n",
              "    <tr>\n",
              "      <th>186</th>\n",
              "      <td>NAME_TYPE_SUITE_Other_A</td>\n",
              "      <td>0.000000</td>\n",
              "    </tr>\n",
              "    <tr>\n",
              "      <th>187</th>\n",
              "      <td>CODE_GENDER_XNA</td>\n",
              "      <td>0.000000</td>\n",
              "    </tr>\n",
              "    <tr>\n",
              "      <th>188</th>\n",
              "      <td>HOUSETYPE_MODE_terraced house</td>\n",
              "      <td>0.000000</td>\n",
              "    </tr>\n",
              "    <tr>\n",
              "      <th>189</th>\n",
              "      <td>NAME_INCOME_TYPE_Student</td>\n",
              "      <td>0.000000</td>\n",
              "    </tr>\n",
              "    <tr>\n",
              "      <th>190</th>\n",
              "      <td>WALLSMATERIAL_MODE_Monolithic</td>\n",
              "      <td>0.000000</td>\n",
              "    </tr>\n",
              "    <tr>\n",
              "      <th>191</th>\n",
              "      <td>ORGANIZATION_TYPE_Transport: type 1</td>\n",
              "      <td>0.000000</td>\n",
              "    </tr>\n",
              "    <tr>\n",
              "      <th>192</th>\n",
              "      <td>FLAG_DOCUMENT_17</td>\n",
              "      <td>0.000000</td>\n",
              "    </tr>\n",
              "    <tr>\n",
              "      <th>193</th>\n",
              "      <td>FLAG_DOCUMENT_20</td>\n",
              "      <td>0.000000</td>\n",
              "    </tr>\n",
              "    <tr>\n",
              "      <th>194</th>\n",
              "      <td>ORGANIZATION_TYPE_Industry: type 8</td>\n",
              "      <td>0.000000</td>\n",
              "    </tr>\n",
              "    <tr>\n",
              "      <th>195</th>\n",
              "      <td>FLAG_DOCUMENT_12</td>\n",
              "      <td>0.000000</td>\n",
              "    </tr>\n",
              "    <tr>\n",
              "      <th>196</th>\n",
              "      <td>ORGANIZATION_TYPE_Mobile</td>\n",
              "      <td>0.000000</td>\n",
              "    </tr>\n",
              "    <tr>\n",
              "      <th>197</th>\n",
              "      <td>ORGANIZATION_TYPE_Industry: type 7</td>\n",
              "      <td>0.000000</td>\n",
              "    </tr>\n",
              "    <tr>\n",
              "      <th>198</th>\n",
              "      <td>FLAG_DOCUMENT_10</td>\n",
              "      <td>0.000000</td>\n",
              "    </tr>\n",
              "    <tr>\n",
              "      <th>199</th>\n",
              "      <td>ORGANIZATION_TYPE_Industry: type 6</td>\n",
              "      <td>0.000000</td>\n",
              "    </tr>\n",
              "    <tr>\n",
              "      <th>200</th>\n",
              "      <td>ORGANIZATION_TYPE_Religion</td>\n",
              "      <td>0.000000</td>\n",
              "    </tr>\n",
              "    <tr>\n",
              "      <th>201</th>\n",
              "      <td>ORGANIZATION_TYPE_Industry: type 5</td>\n",
              "      <td>0.000000</td>\n",
              "    </tr>\n",
              "    <tr>\n",
              "      <th>202</th>\n",
              "      <td>FLAG_DOCUMENT_9</td>\n",
              "      <td>0.000000</td>\n",
              "    </tr>\n",
              "    <tr>\n",
              "      <th>203</th>\n",
              "      <td>ORGANIZATION_TYPE_Industry: type 13</td>\n",
              "      <td>0.000000</td>\n",
              "    </tr>\n",
              "    <tr>\n",
              "      <th>204</th>\n",
              "      <td>ORGANIZATION_TYPE_Industry: type 10</td>\n",
              "      <td>0.000000</td>\n",
              "    </tr>\n",
              "    <tr>\n",
              "      <th>205</th>\n",
              "      <td>FLAG_DOCUMENT_19</td>\n",
              "      <td>0.000000</td>\n",
              "    </tr>\n",
              "    <tr>\n",
              "      <th>206</th>\n",
              "      <td>ORGANIZATION_TYPE_Trade: type 1</td>\n",
              "      <td>0.000000</td>\n",
              "    </tr>\n",
              "    <tr>\n",
              "      <th>207</th>\n",
              "      <td>ORGANIZATION_TYPE_Electricity</td>\n",
              "      <td>0.000000</td>\n",
              "    </tr>\n",
              "    <tr>\n",
              "      <th>208</th>\n",
              "      <td>ORGANIZATION_TYPE_Culture</td>\n",
              "      <td>0.000000</td>\n",
              "    </tr>\n",
              "    <tr>\n",
              "      <th>209</th>\n",
              "      <td>ORGANIZATION_TYPE_Trade: type 4</td>\n",
              "      <td>0.000000</td>\n",
              "    </tr>\n",
              "    <tr>\n",
              "      <th>210</th>\n",
              "      <td>ORGANIZATION_TYPE_Trade: type 5</td>\n",
              "      <td>0.000000</td>\n",
              "    </tr>\n",
              "  </tbody>\n",
              "</table>\n",
              "</div>"
            ],
            "text/plain": [
              "                                                   var       imp\n",
              "0                                         EXT_SOURCE_3  0.018449\n",
              "1                 NAME_EDUCATION_TYPE_Higher education  0.017309\n",
              "2                                         EXT_SOURCE_2  0.015565\n",
              "3                           NAME_INCOME_TYPE_Pensioner  0.012265\n",
              "4                                      FLAG_DOCUMENT_3  0.011828\n",
              "5    NAME_EDUCATION_TYPE_Secondary / secondary special  0.011535\n",
              "6                                        CODE_GENDER_M  0.011172\n",
              "7                                     FLAG_DOCUMENT_18  0.008893\n",
              "8                       NAME_INCOME_TYPE_State servant  0.008851\n",
              "9                                         EXT_SOURCE_1  0.008706\n",
              "10                                     AMT_GOODS_PRICE  0.008456\n",
              "11                 ORGANIZATION_TYPE_Transport: type 3  0.008382\n",
              "12                            DEF_30_CNT_SOCIAL_CIRCLE  0.008347\n",
              "13                                      FLAG_OWN_CAR_Y  0.008280\n",
              "14                  NAME_HOUSING_TYPE_Office apartment  0.008262\n",
              "15                      ORGANIZATION_TYPE_Kindergarten  0.007652\n",
              "16                          NAME_FAMILY_STATUS_Married  0.007548\n",
              "17                           ORGANIZATION_TYPE_Realtor  0.007412\n",
              "18                         REGION_RATING_CLIENT_W_CITY  0.007384\n",
              "19                  ORGANIZATION_TYPE_Industry: type 9  0.007346\n",
              "20                                     FLAG_WORK_PHONE  0.007267\n",
              "21                                          DAYS_BIRTH  0.007070\n",
              "22                            NAME_INCOME_TYPE_Working  0.006891\n",
              "23                                          AMT_CREDIT  0.006882\n",
              "24                              REG_CITY_NOT_LIVE_CITY  0.006748\n",
              "25                          AMT_REQ_CREDIT_BUREAU_HOUR  0.006602\n",
              "26                            DEF_60_CNT_SOCIAL_CIRCLE  0.006530\n",
              "27                         NAME_INCOME_TYPE_Unemployed  0.006486\n",
              "28                                         AMT_ANNUITY  0.006483\n",
              "29            ORGANIZATION_TYPE_Business Entity Type 3  0.006439\n",
              "30                          REG_REGION_NOT_WORK_REGION  0.006408\n",
              "31                                         OWN_CAR_AGE  0.006405\n",
              "32                                     FLAG_DOCUMENT_5  0.006365\n",
              "33                     ORGANIZATION_TYPE_Trade: type 3  0.006361\n",
              "34                           WALLSMATERIAL_MODE_Others  0.006328\n",
              "35                  NAME_CONTRACT_TYPE_Revolving loans  0.006311\n",
              "36                                     LIVINGAREA_MEDI  0.006302\n",
              "37                             ORGANIZATION_TYPE_Hotel  0.006294\n",
              "38                                      APARTMENTS_AVG  0.006264\n",
              "39                            WALLSMATERIAL_MODE_Panel  0.006253\n",
              "40                           AMT_REQ_CREDIT_BUREAU_DAY  0.006166\n",
              "41                        NAME_FAMILY_STATUS_Separated  0.006151\n",
              "42                                       DAYS_EMPLOYED  0.006137\n",
              "43                                      ENTRANCES_MEDI  0.006108\n",
              "44                          ORGANIZATION_TYPE_Military  0.006076\n",
              "45                           AMT_REQ_CREDIT_BUREAU_QRT  0.006021\n",
              "46            ORGANIZATION_TYPE_Business Entity Type 1  0.006011\n",
              "47                         ORGANIZATION_TYPE_Insurance  0.005982\n",
              "48                                       LANDAREA_MEDI  0.005958\n",
              "49                     ORGANIZATION_TYPE_Self-employed  0.005925\n",
              "50                     NAME_TYPE_SUITE_Spouse, partner  0.005876\n",
              "51                        ORGANIZATION_TYPE_Restaurant  0.005862\n",
              "52            FONDKAPREMONT_MODE_reg oper spec account  0.005856\n",
              "53                      ORGANIZATION_TYPE_Construction  0.005856\n",
              "54                                    FLAG_DOCUMENT_16  0.005777\n",
              "55                          ORGANIZATION_TYPE_Medicine  0.005766\n",
              "56                 ORGANIZATION_TYPE_Transport: type 4  0.005762\n",
              "57                          AMT_REQ_CREDIT_BUREAU_WEEK  0.005760\n",
              "58                 FONDKAPREMONT_MODE_org spec account  0.005739\n",
              "59                                    FLAG_DOCUMENT_14  0.005716\n",
              "60                 WEEKDAY_APPR_PROCESS_START_SATURDAY  0.005671\n",
              "61                     ORGANIZATION_TYPE_Trade: type 2  0.005559\n",
              "62                          ORGANIZATION_TYPE_Security  0.005518\n",
              "63                                     DAYS_ID_PUBLISH  0.005517\n",
              "64                                LIVINGAPARTMENTS_AVG  0.005501\n",
              "65                               LIVINGAPARTMENTS_MODE  0.005495\n",
              "66                                      ELEVATORS_MODE  0.005488\n",
              "67                    ORGANIZATION_TYPE_Legal Services  0.005468\n",
              "68                  ORGANIZATION_TYPE_Industry: type 3  0.005449\n",
              "69                     ORGANIZATION_TYPE_Trade: type 7  0.005433\n",
              "70                         ORGANIZATION_TYPE_Emergency  0.005416\n",
              "71                                      FLOORSMAX_MODE  0.005385\n",
              "72                            ORGANIZATION_TYPE_Postal  0.005379\n",
              "73                          ORGANIZATION_TYPE_Cleaning  0.005357\n",
              "74                           ORGANIZATION_TYPE_Telecom  0.005345\n",
              "75                                      TOTALAREA_MODE  0.005340\n",
              "76                                        CNT_CHILDREN  0.005327\n",
              "77                                   NONLIVINGAREA_AVG  0.005325\n",
              "78                                     APARTMENTS_MEDI  0.005321\n",
              "79                                   DAYS_REGISTRATION  0.005297\n",
              "80                                   BASEMENTAREA_MODE  0.005269\n",
              "81                                      COMMONAREA_AVG  0.005237\n",
              "82                        YEARS_BEGINEXPLUATATION_MODE  0.005229\n",
              "83                                      FLOORSMIN_MEDI  0.005228\n",
              "84                                          FLAG_PHONE  0.005221\n",
              "85                                       ENTRANCES_AVG  0.005212\n",
              "86                                      ELEVATORS_MEDI  0.005210\n",
              "87                          AMT_REQ_CREDIT_BUREAU_YEAR  0.005191\n",
              "88                            ORGANIZATION_TYPE_School  0.005190\n",
              "89                                       LANDAREA_MODE  0.005185\n",
              "90                        ORGANIZATION_TYPE_University  0.005179\n",
              "91                       NAME_TYPE_SUITE_Unaccompanied  0.005139\n",
              "92                            ORGANIZATION_TYPE_Police  0.005133\n",
              "93                                   FLAG_OWN_REALTY_Y  0.005128\n",
              "94                                    YEARS_BUILD_MEDI  0.005128\n",
              "95                            OBS_60_CNT_SOCIAL_CIRCLE  0.005101\n",
              "96                      NAME_HOUSING_TYPE_With parents  0.005085\n",
              "97                                    YEARS_BUILD_MODE  0.005056\n",
              "98                         YEARS_BEGINEXPLUATATION_AVG  0.005050\n",
              "99                 ORGANIZATION_TYPE_Industry: type 11  0.005045\n",
              "100                                      FLOORSMAX_AVG  0.005038\n",
              "101                                   BASEMENTAREA_AVG  0.005029\n",
              "102                          ORGANIZATION_TYPE_Housing  0.005029\n",
              "103                                    COMMONAREA_MODE  0.005022\n",
              "104                                    LIVINGAREA_MODE  0.005012\n",
              "105                           WALLSMATERIAL_MODE_Mixed  0.005006\n",
              "106                                   FLAG_DOCUMENT_13  0.005002\n",
              "107                         REG_REGION_NOT_LIVE_REGION  0.004997\n",
              "108                                    APARTMENTS_MODE  0.004987\n",
              "109                                   AMT_INCOME_TOTAL  0.004984\n",
              "110                                   FLAG_DOCUMENT_15  0.004951\n",
              "111                             DAYS_LAST_PHONE_CHANGE  0.004950\n",
              "112                                  BASEMENTAREA_MEDI  0.004925\n",
              "113                NAME_HOUSING_TYPE_House / apartment  0.004907\n",
              "114                                 NONLIVINGAREA_MODE  0.004906\n",
              "115                                       LANDAREA_AVG  0.004902\n",
              "116                                 NONLIVINGAREA_MEDI  0.004896\n",
              "117                           NONLIVINGAPARTMENTS_MODE  0.004886\n",
              "118              NAME_EDUCATION_TYPE_Incomplete higher  0.004881\n",
              "119                            ORGANIZATION_TYPE_Other  0.004862\n",
              "120                         REGION_POPULATION_RELATIVE  0.004861\n",
              "121                            HOUR_APPR_PROCESS_START  0.004858\n",
              "122                                    YEARS_BUILD_AVG  0.004838\n",
              "123                    WALLSMATERIAL_MODE_Stone, brick  0.004831\n",
              "124                               REGION_RATING_CLIENT  0.004816\n",
              "125                FONDKAPREMONT_MODE_reg oper account  0.004816\n",
              "126                 WEEKDAY_APPR_PROCESS_START_TUESDAY  0.004813\n",
              "127                                     LIVINGAREA_AVG  0.004791\n",
              "128                             REG_CITY_NOT_WORK_CITY  0.004791\n",
              "129                              LIVINGAPARTMENTS_MEDI  0.004786\n",
              "130                           OBS_30_CNT_SOCIAL_CIRCLE  0.004771\n",
              "131                                    CNT_FAM_MEMBERS  0.004749\n",
              "132                                      FLOORSMIN_AVG  0.004747\n",
              "133                NAME_EDUCATION_TYPE_Lower secondary  0.004739\n",
              "134                       YEARS_BEGINEXPLUATATION_MEDI  0.004684\n",
              "135                       ORGANIZATION_TYPE_Government  0.004673\n",
              "136                 ORGANIZATION_TYPE_Industry: type 1  0.004623\n",
              "137                  WEEKDAY_APPR_PROCESS_START_SUNDAY  0.004570\n",
              "138                                     ENTRANCES_MODE  0.004565\n",
              "139                           NONLIVINGAPARTMENTS_MEDI  0.004549\n",
              "140            NAME_FAMILY_STATUS_Single / not married  0.004516\n",
              "141                         ORGANIZATION_TYPE_Services  0.004515\n",
              "142           ORGANIZATION_TYPE_Business Entity Type 2  0.004471\n",
              "143                            LIVE_CITY_NOT_WORK_CITY  0.004468\n",
              "144              NAME_INCOME_TYPE_Commercial associate  0.004422\n",
              "145                  WEEKDAY_APPR_PROCESS_START_MONDAY  0.004416\n",
              "146                             NAME_TYPE_SUITE_Family  0.004413\n",
              "147                                     FLOORSMIN_MODE  0.004405\n",
              "148                 NAME_HOUSING_TYPE_Rented apartment  0.004391\n",
              "149                    NAME_TYPE_SUITE_Group of people  0.004381\n",
              "150                                    COMMONAREA_MEDI  0.004380\n",
              "151                                   FLAG_CONT_MOBILE  0.004358\n",
              "152                 ORGANIZATION_TYPE_Industry: type 4  0.004277\n",
              "153                                      ELEVATORS_AVG  0.004256\n",
              "154               WEEKDAY_APPR_PROCESS_START_WEDNESDAY  0.004193\n",
              "155                ORGANIZATION_TYPE_Industry: type 12  0.004175\n",
              "156                          AMT_REQ_CREDIT_BUREAU_MON  0.004169\n",
              "157                        LIVE_REGION_NOT_WORK_REGION  0.004155\n",
              "158              ORGANIZATION_TYPE_Security Ministries  0.004112\n",
              "159                ORGANIZATION_TYPE_Transport: type 2  0.004110\n",
              "160                WEEKDAY_APPR_PROCESS_START_THURSDAY  0.004096\n",
              "161                    ORGANIZATION_TYPE_Trade: type 6  0.004079\n",
              "162                            NONLIVINGAPARTMENTS_AVG  0.003964\n",
              "163                                    FLAG_DOCUMENT_6  0.003918\n",
              "164                           NAME_FAMILY_STATUS_Widow  0.003890\n",
              "165                             ORGANIZATION_TYPE_Bank  0.003881\n",
              "166                                     FLOORSMAX_MEDI  0.003805\n",
              "167                    HOUSETYPE_MODE_specific housing  0.003781\n",
              "168              NAME_HOUSING_TYPE_Municipal apartment  0.003591\n",
              "169                            NAME_TYPE_SUITE_Other_B  0.003580\n",
              "170                                    FLAG_DOCUMENT_8  0.003507\n",
              "171                            EMERGENCYSTATE_MODE_Yes  0.003441\n",
              "172                                   FLAG_DOCUMENT_11  0.003143\n",
              "173                                         FLAG_EMAIL  0.003070\n",
              "174                 ORGANIZATION_TYPE_Industry: type 2  0.002987\n",
              "175                   NAME_INCOME_TYPE_Maternity leave  0.000000\n",
              "176                         NAME_FAMILY_STATUS_Unknown  0.000000\n",
              "177                                   FLAG_DOCUMENT_21  0.000000\n",
              "178                                    FLAG_DOCUMENT_7  0.000000\n",
              "179                                    FLAG_DOCUMENT_2  0.000000\n",
              "180                      ORGANIZATION_TYPE_Agriculture  0.000000\n",
              "181                              ORGANIZATION_TYPE_XNA  0.000000\n",
              "182                                     FLAG_EMP_PHONE  0.000000\n",
              "183                          WALLSMATERIAL_MODE_Wooden  0.000000\n",
              "184                                    FLAG_DOCUMENT_4  0.000000\n",
              "185                                         FLAG_MOBIL  0.000000\n",
              "186                            NAME_TYPE_SUITE_Other_A  0.000000\n",
              "187                                    CODE_GENDER_XNA  0.000000\n",
              "188                      HOUSETYPE_MODE_terraced house  0.000000\n",
              "189                           NAME_INCOME_TYPE_Student  0.000000\n",
              "190                      WALLSMATERIAL_MODE_Monolithic  0.000000\n",
              "191                ORGANIZATION_TYPE_Transport: type 1  0.000000\n",
              "192                                   FLAG_DOCUMENT_17  0.000000\n",
              "193                                   FLAG_DOCUMENT_20  0.000000\n",
              "194                 ORGANIZATION_TYPE_Industry: type 8  0.000000\n",
              "195                                   FLAG_DOCUMENT_12  0.000000\n",
              "196                           ORGANIZATION_TYPE_Mobile  0.000000\n",
              "197                 ORGANIZATION_TYPE_Industry: type 7  0.000000\n",
              "198                                   FLAG_DOCUMENT_10  0.000000\n",
              "199                 ORGANIZATION_TYPE_Industry: type 6  0.000000\n",
              "200                         ORGANIZATION_TYPE_Religion  0.000000\n",
              "201                 ORGANIZATION_TYPE_Industry: type 5  0.000000\n",
              "202                                    FLAG_DOCUMENT_9  0.000000\n",
              "203                ORGANIZATION_TYPE_Industry: type 13  0.000000\n",
              "204                ORGANIZATION_TYPE_Industry: type 10  0.000000\n",
              "205                                   FLAG_DOCUMENT_19  0.000000\n",
              "206                    ORGANIZATION_TYPE_Trade: type 1  0.000000\n",
              "207                      ORGANIZATION_TYPE_Electricity  0.000000\n",
              "208                          ORGANIZATION_TYPE_Culture  0.000000\n",
              "209                    ORGANIZATION_TYPE_Trade: type 4  0.000000\n",
              "210                    ORGANIZATION_TYPE_Trade: type 5  0.000000"
            ]
          },
          "metadata": {
            "tags": []
          },
          "execution_count": 38
        }
      ]
    },
    {
      "cell_type": "code",
      "metadata": {
        "colab": {
          "base_uri": "https://localhost:8080/",
          "height": 312
        },
        "id": "NandIWbYqxOL",
        "outputId": "881bdf79-3d44-4b93-f52c-ed2928d2845b"
      },
      "source": [
        "xgb.plot_importance(clf, importance_type = \"gain\", xlabel = \"Feature importance score\")"
      ],
      "execution_count": 39,
      "outputs": [
        {
          "output_type": "execute_result",
          "data": {
            "text/plain": [
              "<matplotlib.axes._subplots.AxesSubplot at 0x7f4464852d90>"
            ]
          },
          "metadata": {
            "tags": []
          },
          "execution_count": 39
        },
        {
          "output_type": "display_data",
          "data": {
            "image/png": "[encoded data removed]",
            "text/plain": [
              "<Figure size 432x288 with 1 Axes>"
            ]
          },
          "metadata": {
            "tags": [],
            "needs_background": "light"
          }
        }
      ]
    },
    {
      "cell_type": "code",
      "metadata": {
        "id": "fQOVfI2QrAAg"
      },
      "source": [
        "train_pred = clf.predict(x_train)\n",
        "val_pred = clf.predict(x_valid)"
      ],
      "execution_count": 40,
      "outputs": []
    },
    {
      "cell_type": "code",
      "metadata": {
        "colab": {
          "base_uri": "https://localhost:8080/"
        },
        "id": "JY277MqZrHRD",
        "outputId": "dbff92da-fbb9-440a-aa52-eb37a3c8babe"
      },
      "source": [
        "\n",
        "print(\"Training accuracy: \", metrics.accuracy_score(y_train, train_pred))\n",
        "print(\"Validation accuracy: \", metrics.accuracy_score(y_valid, val_pred), '\\n')\n",
        "\n",
        "print(\"Training recall: \", metrics.recall_score(y_train, train_pred))\n",
        "print(\"Validation recall: \", metrics.recall_score(y_valid, val_pred))\n",
        "\n",
        "print(\"\\n\")\n",
        "\n",
        "print(\"Training precision: \", metrics.precision_score(y_train, train_pred))\n",
        "print(\"Validation precision: \", metrics.precision_score(y_valid, val_pred))\n",
        "\n",
        "print(\"\\n\")\n",
        "\n",
        "\n",
        "print(\"\\n\")\n",
        "\n",
        "y_train_prob = clf.predict_proba(x_train)\n",
        "y_val_prob = clf.predict_proba(x_valid)\n",
        "\n",
        "fpr, tpr, thresholds = metrics.roc_curve(y_train, y_train_prob[:,1], pos_label = 1)\n",
        "print(\"Training AUC: \", metrics.auc(fpr, tpr))\n",
        "\n",
        "fpr, tpr, thresholds = metrics.roc_curve(y_valid, y_val_prob[:,1], pos_label = 1)\n",
        "print(\"Validation AUC: \", metrics.auc(fpr, tpr))"
      ],
      "execution_count": 41,
      "outputs": [
        {
          "output_type": "stream",
          "text": [
            "Training accuracy:  0.9246993129143303\n",
            "Validation accuracy:  0.9179547770286384 \n",
            "\n",
            "Training recall:  0.09585343441304847\n",
            "Validation recall:  0.04343720491029273\n",
            "\n",
            "\n",
            "Training precision:  0.7817330210772834\n",
            "Validation precision:  0.4025\n",
            "\n",
            "\n",
            "\n",
            "\n",
            "Training AUC:  0.851312071466212\n",
            "Validation AUC:  0.7419924083541275\n"
          ],
          "name": "stdout"
        }
      ]
    },
    {
      "cell_type": "code",
      "metadata": {
        "id": "JKQcRU3UrHxo"
      },
      "source": [
        ""
      ],
      "execution_count": 41,
      "outputs": []
    },
    {
      "cell_type": "markdown",
      "metadata": {
        "id": "oVXQcNwbvVKH"
      },
      "source": [
        "# Random Forest"
      ]
    },
    {
      "cell_type": "code",
      "metadata": {
        "id": "w-FA1M9_vXMj"
      },
      "source": [
        "# Used grid for hyperparameters tuning\n",
        "# parameters = {\"max_depth\":range(2, 8), \"min_samples_leaf\": range(5, 100, 5), \"min_samples_split\": range(10, 550, 5),\n",
        "#               \"max_samples\":[0.1, 0.15, 0.2, 0.25, 0.3, 0.35, 0.4], \"max_features\": [5, 10, 20, 25, 30],\n",
        "#               \"n_estimators\": [100, 150, 200, 250, 300, 350, 400]}\n",
        "\n",
        "# clf = RandomizedSearchCV(RandomForestClassifier(), parameters, n_jobs=4, scoring = \"roc_auc\", n_iter = 200,\n",
        "#                         random_state = 0)\n",
        "\n",
        "# clf.fit(x_train, y_train)"
      ],
      "execution_count": 42,
      "outputs": []
    },
    {
      "cell_type": "code",
      "metadata": {
        "id": "67DZFq5NvqzI"
      },
      "source": [
        "#clf.best_params_\n",
        "# Best Parameters:\n",
        "# {'n_estimators': 400,\n",
        "#'min_samples_split': 520,\n",
        "# 'min_samples_leaf': 55,\n",
        "# 'max_samples': 0.3,\n",
        "# 'max_features': 5,\n",
        "# 'max_depth': 7}"
      ],
      "execution_count": 43,
      "outputs": []
    },
    {
      "cell_type": "code",
      "metadata": {
        "id": "Ee_Yb6rHvykC"
      },
      "source": [
        "x_train, x_valid, y_train, y_valid = train_test_split(x, y, test_size = 0.3, random_state = 42)"
      ],
      "execution_count": 44,
      "outputs": []
    },
    {
      "cell_type": "code",
      "metadata": {
        "id": "ccB4rqpKv8zs"
      },
      "source": [
        ""
      ],
      "execution_count": 44,
      "outputs": []
    },
    {
      "cell_type": "code",
      "metadata": {
        "id": "snEiYa2hvx9e"
      },
      "source": [
        ""
      ],
      "execution_count": 44,
      "outputs": []
    },
    {
      "cell_type": "code",
      "metadata": {
        "id": "yMjv5b2Ov9nx"
      },
      "source": [
        "clf = RandomForestClassifier(n_estimators=400,min_samples_split=520,min_samples_leaf=55,max_samples=0.3, max_features=5, max_depth=7, n_jobs=4)"
      ],
      "execution_count": 45,
      "outputs": []
    },
    {
      "cell_type": "code",
      "metadata": {
        "id": "92lkl8VXweY6",
        "colab": {
          "base_uri": "https://localhost:8080/"
        },
        "outputId": "c29e40dc-fbab-4b3b-fc5f-c83896e16d09"
      },
      "source": [
        "clf.fit(x_train, y_train)"
      ],
      "execution_count": 46,
      "outputs": [
        {
          "output_type": "execute_result",
          "data": {
            "text/plain": [
              "RandomForestClassifier(bootstrap=True, ccp_alpha=0.0, class_weight=None,\n",
              "                       criterion='gini', max_depth=7, max_features=5,\n",
              "                       max_leaf_nodes=None, max_samples=0.3,\n",
              "                       min_impurity_decrease=0.0, min_impurity_split=None,\n",
              "                       min_samples_leaf=55, min_samples_split=520,\n",
              "                       min_weight_fraction_leaf=0.0, n_estimators=400, n_jobs=4,\n",
              "                       oob_score=False, random_state=None, verbose=0,\n",
              "                       warm_start=False)"
            ]
          },
          "metadata": {
            "tags": []
          },
          "execution_count": 46
        }
      ]
    },
    {
      "cell_type": "code",
      "metadata": {
        "id": "Y8No57Ruwjp5"
      },
      "source": [
        ""
      ],
      "execution_count": 46,
      "outputs": []
    },
    {
      "cell_type": "code",
      "metadata": {
        "id": "PhmX_yS8wspG"
      },
      "source": [
        "train_pred = clf.predict(x_train)\n",
        "val_pred = clf.predict(x_valid)"
      ],
      "execution_count": 47,
      "outputs": []
    },
    {
      "cell_type": "code",
      "metadata": {
        "colab": {
          "base_uri": "https://localhost:8080/"
        },
        "id": "Fgica8pqwspG",
        "outputId": "37babf6d-fc3b-4ee4-d2fd-6244d621d3df"
      },
      "source": [
        "print(\"Training recall: \", metrics.recall_score(y_train, train_pred))\n",
        "print(\"Validation recall: \", metrics.recall_score(y_valid, val_pred))\n",
        "\n",
        "print(\"\\n\")\n",
        "\n",
        "print(\"Training precision: \", metrics.precision_score(y_train, train_pred))\n",
        "print(\"Validation precision: \", metrics.precision_score(y_valid, val_pred))\n",
        "\n",
        "print(\"\\n\")\n",
        "\n",
        "print(\"Training accuracy: \", metrics.accuracy_score(y_train, train_pred))\n",
        "print(\"Validation accuracy: \", metrics.accuracy_score(y_valid, val_pred))\n",
        "\n",
        "print(\"\\n\")\n",
        "\n",
        "y_train_prob = clf.predict_proba(x_train)\n",
        "y_val_prob = clf.predict_proba(x_valid)\n",
        "\n",
        "fpr, tpr, thresholds = metrics.roc_curve(y_train, y_train_prob[:,1], pos_label = 1)\n",
        "print(\"Training AUC: \", metrics.auc(fpr, tpr))\n",
        "\n",
        "fpr, tpr, thresholds = metrics.roc_curve(y_valid, y_val_prob[:,1], pos_label = 1)\n",
        "print(\"Validation AUC: \", metrics.auc(fpr, tpr))"
      ],
      "execution_count": 48,
      "outputs": [
        {
          "output_type": "stream",
          "text": [
            "Training recall:  0.0\n",
            "Validation recall:  0.0\n",
            "\n",
            "\n",
            "Training precision:  0.0\n",
            "Validation precision:  0.0\n",
            "\n",
            "\n",
            "Training accuracy:  0.919110644485429\n",
            "Validation accuracy:  0.9196457606174258\n",
            "\n",
            "\n",
            "Training AUC:  0.7152602626635329\n",
            "Validation AUC:  0.7060343345490034\n"
          ],
          "name": "stdout"
        }
      ]
    },
    {
      "cell_type": "code",
      "metadata": {
        "id": "9bks6FXRwtIf"
      },
      "source": [
        ""
      ],
      "execution_count": 48,
      "outputs": []
    },
    {
      "cell_type": "markdown",
      "metadata": {
        "id": "r29xJo2mxN7e"
      },
      "source": [
        "# Neural Network"
      ]
    },
    {
      "cell_type": "code",
      "metadata": {
        "id": "L_2lb-ghxPaz"
      },
      "source": [
        "import tensorflow as tf\n",
        "from tensorflow import keras"
      ],
      "execution_count": 49,
      "outputs": []
    },
    {
      "cell_type": "code",
      "metadata": {
        "colab": {
          "base_uri": "https://localhost:8080/"
        },
        "id": "wpiKmfejFpev",
        "outputId": "e7b750e1-30d1-44e0-b226-4fb4f4788687"
      },
      "source": [
        "\n",
        "from sklearn.preprocessing import MinMaxScaler\n",
        "scaler = MinMaxScaler()\n",
        "X_scale=scaler.fit_transform(x)\n",
        "X_scale.shape"
      ],
      "execution_count": 50,
      "outputs": [
        {
          "output_type": "execute_result",
          "data": {
            "text/plain": [
              "(307511, 211)"
            ]
          },
          "metadata": {
            "tags": []
          },
          "execution_count": 50
        }
      ]
    },
    {
      "cell_type": "code",
      "metadata": {
        "id": "9T6IQ9vVFyHI"
      },
      "source": [
        "train_X_nn, valid_X_nn, train_y_nn, valid_y_nn = train_test_split(X_scale, y, test_size=0.3, random_state=1)"
      ],
      "execution_count": 51,
      "outputs": []
    },
    {
      "cell_type": "code",
      "metadata": {
        "id": "RUbpEGyyF3CM"
      },
      "source": [
        ""
      ],
      "execution_count": 51,
      "outputs": []
    },
    {
      "cell_type": "code",
      "metadata": {
        "id": "A7llGikQF5aT"
      },
      "source": [
        "model1 = tf.keras.Sequential([ tf.keras.layers.Flatten(),\n",
        "                             tf.keras.layers.Dense(units=128, activation=tf.nn.relu),\n",
        "                             tf.keras.layers.Dense(units=1,activation=tf.nn.sigmoid)])"
      ],
      "execution_count": 52,
      "outputs": []
    },
    {
      "cell_type": "code",
      "metadata": {
        "id": "O53oZ2nXF719"
      },
      "source": [
        "model1.compile(optimizer= tf.optimizers.Adam(),\n",
        "              loss = tf.losses.binary_crossentropy,\n",
        "              metrics = ['accuracy'])"
      ],
      "execution_count": 53,
      "outputs": []
    },
    {
      "cell_type": "code",
      "metadata": {
        "colab": {
          "base_uri": "https://localhost:8080/"
        },
        "id": "RenfvEYHF-Tg",
        "outputId": "ee19e3ad-3370-4458-e87d-df89c9fe1f2c"
      },
      "source": [
        "model1.fit(train_X_nn, train_y_nn, epochs = 15)"
      ],
      "execution_count": 54,
      "outputs": [
        {
          "output_type": "stream",
          "text": [
            "Epoch 1/15\n",
            "6727/6727 [==============================] - 17s 2ms/step - loss: 0.2666 - accuracy: 0.9161\n",
            "Epoch 2/15\n",
            "6727/6727 [==============================] - 14s 2ms/step - loss: 0.2501 - accuracy: 0.9201\n",
            "Epoch 3/15\n",
            "6727/6727 [==============================] - 14s 2ms/step - loss: 0.2513 - accuracy: 0.9196\n",
            "Epoch 4/15\n",
            "6727/6727 [==============================] - 14s 2ms/step - loss: 0.2498 - accuracy: 0.9201\n",
            "Epoch 5/15\n",
            "6727/6727 [==============================] - 14s 2ms/step - loss: 0.2507 - accuracy: 0.9191\n",
            "Epoch 6/15\n",
            "6727/6727 [==============================] - 14s 2ms/step - loss: 0.2494 - accuracy: 0.9196\n",
            "Epoch 7/15\n",
            "6727/6727 [==============================] - 14s 2ms/step - loss: 0.2499 - accuracy: 0.9195\n",
            "Epoch 8/15\n",
            "6727/6727 [==============================] - 14s 2ms/step - loss: 0.2488 - accuracy: 0.9192\n",
            "Epoch 9/15\n",
            "6727/6727 [==============================] - 14s 2ms/step - loss: 0.2484 - accuracy: 0.9194\n",
            "Epoch 10/15\n",
            "6727/6727 [==============================] - 14s 2ms/step - loss: 0.2475 - accuracy: 0.9196\n",
            "Epoch 11/15\n",
            "6727/6727 [==============================] - 14s 2ms/step - loss: 0.2465 - accuracy: 0.9199\n",
            "Epoch 12/15\n",
            "6727/6727 [==============================] - 14s 2ms/step - loss: 0.2452 - accuracy: 0.9195\n",
            "Epoch 13/15\n",
            "6727/6727 [==============================] - 14s 2ms/step - loss: 0.2439 - accuracy: 0.9204\n",
            "Epoch 14/15\n",
            "6727/6727 [==============================] - 14s 2ms/step - loss: 0.2412 - accuracy: 0.9212\n",
            "Epoch 15/15\n",
            "6727/6727 [==============================] - 14s 2ms/step - loss: 0.2423 - accuracy: 0.9203\n"
          ],
          "name": "stdout"
        },
        {
          "output_type": "execute_result",
          "data": {
            "text/plain": [
              "<tensorflow.python.keras.callbacks.History at 0x7f4409291810>"
            ]
          },
          "metadata": {
            "tags": []
          },
          "execution_count": 54
        }
      ]
    },
    {
      "cell_type": "code",
      "metadata": {
        "colab": {
          "base_uri": "https://localhost:8080/"
        },
        "id": "wCqISCAsGBNL",
        "outputId": "107001ab-e4ee-4115-a18b-f414ad77b02f"
      },
      "source": [
        "model1.evaluate(valid_X_nn, valid_y_nn)"
      ],
      "execution_count": 55,
      "outputs": [
        {
          "output_type": "stream",
          "text": [
            "2883/2883 [==============================] - 5s 2ms/step - loss: 0.2556 - accuracy: 0.9190\n"
          ],
          "name": "stdout"
        },
        {
          "output_type": "execute_result",
          "data": {
            "text/plain": [
              "[0.25559869408607483, 0.9190170764923096]"
            ]
          },
          "metadata": {
            "tags": []
          },
          "execution_count": 55
        }
      ]
    },
    {
      "cell_type": "code",
      "metadata": {
        "id": "iEucWZttGIjm"
      },
      "source": [
        "y_pred_valid = model1.predict(valid_X_nn).ravel()\n",
        "y_pred = model1.predict(train_X_nn).ravel()"
      ],
      "execution_count": 56,
      "outputs": []
    },
    {
      "cell_type": "code",
      "metadata": {
        "colab": {
          "base_uri": "https://localhost:8080/"
        },
        "id": "IAxyu-CtGI3E",
        "outputId": "a9302434-bf25-4ec3-90f1-b3a0e2b99f26"
      },
      "source": [
        "\n",
        "from sklearn.metrics import accuracy_score, precision_score,recall_score,f1_score,roc_auc_score,classification_report, confusion_matrix\n",
        "# predict probabilities for test set\n",
        "prediction_probs = model1.predict(valid_X_nn)\n",
        "# predict classes\n",
        "nn_prediction_train = (model1.predict(train_X_nn) > 0.5).astype(\"int32\")\n",
        "nn_prediction_valid = (model1.predict(valid_X_nn) > 0.5).astype(\"int32\")\n",
        "\n",
        "print(\"Accuracy on train is:\",accuracy_score(train_y_nn,nn_prediction_train))\n",
        "print(\"Accuracy on test is:\",accuracy_score(valid_y_nn,nn_prediction_valid))\n",
        "print(\"Precision_score train is:\",precision_score(train_y_nn,nn_prediction_train))\n",
        "print(\"Precision_score on test is:\",precision_score(valid_y_nn,nn_prediction_valid))\n",
        "print(\"Recall_score on train is:\",recall_score(train_y_nn,nn_prediction_train))\n",
        "print(\"Recall_score on test is:\",recall_score(valid_y_nn,nn_prediction_valid))\n",
        "print(\"f1_score on train is:\",f1_score(train_y_nn,nn_prediction_train))\n",
        "print(\"f1_score on test is:\",f1_score(valid_y_nn,nn_prediction_valid))"
      ],
      "execution_count": 57,
      "outputs": [
        {
          "output_type": "stream",
          "text": [
            "Accuracy on train is: 0.9199886647124136\n",
            "Accuracy on test is: 0.9190170615908253\n",
            "Precision_score train is: 0.6762402088772846\n",
            "Precision_score on test is: 0.4861111111111111\n",
            "Recall_score on train is: 0.014921073856435074\n",
            "Recall_score on test is: 0.009374581491897684\n",
            "f1_score on train is: 0.029197903162166736\n",
            "f1_score on test is: 0.018394429115753518\n"
          ],
          "name": "stdout"
        }
      ]
    },
    {
      "cell_type": "code",
      "metadata": {
        "colab": {
          "base_uri": "https://localhost:8080/"
        },
        "id": "SYd5m3ubHU3x",
        "outputId": "0426c3dd-8d15-4e8b-ec1f-7d43a4c407b4"
      },
      "source": [
        "from sklearn.metrics import roc_curve, auc\n",
        "fpr, tpr, thresholds = roc_curve(train_y_nn, y_pred)\n",
        "print(\"NeuralNetworks Train: \",str(auc(fpr, tpr)))\n",
        "#fpr, tpr, thresholds = roc_curve(valid_y,nn_prediction_valid)\n",
        "fpr, tpr, thresholds = roc_curve(valid_y_nn, y_pred_valid)\n",
        "print(\"NeuralNetworkss Valid: \",str(auc(fpr, tpr)),\"\\n\")"
      ],
      "execution_count": 58,
      "outputs": [
        {
          "output_type": "stream",
          "text": [
            "NeuralNetworks Train:  0.7727442038145225\n",
            "NeuralNetworkss Valid:  0.7340071508160068 \n",
            "\n"
          ],
          "name": "stdout"
        }
      ]
    },
    {
      "cell_type": "markdown",
      "metadata": {
        "id": "Qge9y3cHzL2s"
      },
      "source": [
        "# SMOTE Testing"
      ]
    },
    {
      "cell_type": "code",
      "metadata": {
        "id": "_zbhxfdaxnqV"
      },
      "source": [
        ""
      ],
      "execution_count": 58,
      "outputs": []
    },
    {
      "cell_type": "code",
      "metadata": {
        "id": "nbHSu0VaziHY"
      },
      "source": [
        "from imblearn.over_sampling import SMOTE"
      ],
      "execution_count": 59,
      "outputs": []
    },
    {
      "cell_type": "code",
      "metadata": {
        "id": "hdvtOJGiziHZ"
      },
      "source": [
        "x = filtered.drop(['TARGET'], axis = 1)\n",
        "y = filtered['TARGET']"
      ],
      "execution_count": 60,
      "outputs": []
    },
    {
      "cell_type": "code",
      "metadata": {
        "id": "Wsxl-9aCziHa"
      },
      "source": [
        "oversample = SMOTE()\n",
        "x, y = oversample.fit_resample(x, y)"
      ],
      "execution_count": 61,
      "outputs": []
    },
    {
      "cell_type": "code",
      "metadata": {
        "id": "MruR6OHiziHa"
      },
      "source": [
        "x_train, x_valid, y_train, y_valid = train_test_split(x, y, test_size = 0.3, random_state = 42)"
      ],
      "execution_count": 62,
      "outputs": []
    },
    {
      "cell_type": "code",
      "metadata": {
        "colab": {
          "base_uri": "https://localhost:8080/"
        },
        "id": "_Yka1Is_zk4y",
        "outputId": "ea68c652-0ff6-4a52-d126-38267f5d4603"
      },
      "source": [
        "x_train.shape"
      ],
      "execution_count": 63,
      "outputs": [
        {
          "output_type": "execute_result",
          "data": {
            "text/plain": [
              "(395760, 211)"
            ]
          },
          "metadata": {
            "tags": []
          },
          "execution_count": 63
        }
      ]
    },
    {
      "cell_type": "markdown",
      "metadata": {
        "id": "F_tYjCvrz4-x"
      },
      "source": [
        "# Logistic Regression with SMOTE"
      ]
    },
    {
      "cell_type": "code",
      "metadata": {
        "id": "4gKpP26uzmPN"
      },
      "source": [
        ""
      ],
      "execution_count": 63,
      "outputs": []
    },
    {
      "cell_type": "code",
      "metadata": {
        "colab": {
          "base_uri": "https://localhost:8080/"
        },
        "id": "jqUeyhKZz2gh",
        "outputId": "e6a2e110-26c6-4ac5-b0f4-d6dc045e04fb"
      },
      "source": [
        "\n",
        "from sklearn.preprocessing import MinMaxScaler\n",
        "scaler = MinMaxScaler()\n",
        "x_train=scaler.fit_transform(x_train)\n",
        "x_valid=scaler.fit_transform(x_valid)\n",
        "x_train.shape"
      ],
      "execution_count": 64,
      "outputs": [
        {
          "output_type": "execute_result",
          "data": {
            "text/plain": [
              "(395760, 211)"
            ]
          },
          "metadata": {
            "tags": []
          },
          "execution_count": 64
        }
      ]
    },
    {
      "cell_type": "code",
      "metadata": {
        "id": "TjaCUGaU0Pab",
        "colab": {
          "base_uri": "https://localhost:8080/"
        },
        "outputId": "6d522b28-e679-420a-bd1d-a70a2756575d"
      },
      "source": [
        "# fit logistic model\n",
        "logit_model = LogisticRegression(random_state=0).fit(x_train, y_train)\n",
        "\n",
        "# predict target from x_train/x_val dataset\n",
        "y_train_pred = logit_model.predict(x_train)\n",
        "y_val_pred = logit_model.predict(x_valid)\n",
        "\n",
        "# calculate accuracy in train and validation dataset\n",
        "print('accuracy in train dataset: ', metrics.accuracy_score(y_train, y_train_pred))\n",
        "print('accuracy in validation dataset: ',metrics.accuracy_score(y_valid, y_val_pred))\n",
        "\n",
        "# precision in train and validation dataset\n",
        "print('precision in train dataset: ', metrics.precision_score(y_train, y_train_pred))\n",
        "print('precision in validation dataset: ', metrics.precision_score(y_valid, y_val_pred))\n",
        "\n",
        "# recall in train and validation dataset\n",
        "print('recall in train dataset: ', metrics.recall_score(y_train, y_train_pred))\n",
        "print('recall in validation dataset: ', metrics.recall_score(y_valid, y_val_pred))\n",
        "\n",
        "# AUC\n",
        "y_train_prob = logit_model.predict_proba(x_train)\n",
        "y_val_prob = logit_model.predict_proba(x_valid)\n",
        "\n",
        "# AUC in train and validation dataset\n",
        "fpr, tpr, thresholds = metrics.roc_curve(y_train, y_train_prob[:,1], pos_label = 1)\n",
        "print('AUC in train dataset: ', metrics.auc(fpr, tpr))\n",
        "fpr, tpr, thresholds = metrics.roc_curve(y_valid, y_val_prob[:,1], pos_label = 1)\n",
        "print('AUC in validation dataset: ', metrics.auc(fpr, tpr))"
      ],
      "execution_count": 65,
      "outputs": [
        {
          "output_type": "stream",
          "text": [
            "accuracy in train dataset:  0.6991510006064281\n",
            "accuracy in validation dataset:  0.6519821710728014\n",
            "precision in train dataset:  0.6966350973263312\n",
            "precision in validation dataset:  0.7539514967342187\n",
            "recall in train dataset:  0.7057584163218287\n",
            "recall in validation dataset:  0.45074144419408496\n",
            "AUC in train dataset:  0.7654200101019216\n",
            "AUC in validation dataset:  0.7637906295729728\n"
          ],
          "name": "stdout"
        }
      ]
    },
    {
      "cell_type": "markdown",
      "metadata": {
        "id": "NJAaRLR-1Lc7"
      },
      "source": [
        "# Decision Tree SMOTE"
      ]
    },
    {
      "cell_type": "code",
      "metadata": {
        "id": "2x9uu9-H1NLd"
      },
      "source": [
        "x = filtered.drop(['TARGET'], axis = 1)\n",
        "y = filtered['TARGET']"
      ],
      "execution_count": 66,
      "outputs": []
    },
    {
      "cell_type": "code",
      "metadata": {
        "id": "Q4PlMyiB1NLd"
      },
      "source": [
        "oversample = SMOTE()\n",
        "x, y = oversample.fit_resample(x, y)"
      ],
      "execution_count": 67,
      "outputs": []
    },
    {
      "cell_type": "code",
      "metadata": {
        "id": "SgSGfyaX1NLe"
      },
      "source": [
        "x_train, x_valid, y_train, y_valid = train_test_split(x, y, test_size = 0.3, random_state = 42)"
      ],
      "execution_count": 68,
      "outputs": []
    },
    {
      "cell_type": "code",
      "metadata": {
        "id": "QZtl-wJp0e6E"
      },
      "source": [
        ""
      ],
      "execution_count": 68,
      "outputs": []
    },
    {
      "cell_type": "code",
      "metadata": {
        "colab": {
          "base_uri": "https://localhost:8080/"
        },
        "id": "KN4PL-Hi1mSN",
        "outputId": "1f840bad-c46f-4ab4-8e44-c37f24e6fcbb"
      },
      "source": [
        "clf = DecisionTreeClassifier(max_depth=5, min_samples_split=95, min_samples_leaf=10)\n",
        "clf.fit(x_train, y_train)"
      ],
      "execution_count": 69,
      "outputs": [
        {
          "output_type": "execute_result",
          "data": {
            "text/plain": [
              "DecisionTreeClassifier(ccp_alpha=0.0, class_weight=None, criterion='gini',\n",
              "                       max_depth=5, max_features=None, max_leaf_nodes=None,\n",
              "                       min_impurity_decrease=0.0, min_impurity_split=None,\n",
              "                       min_samples_leaf=10, min_samples_split=95,\n",
              "                       min_weight_fraction_leaf=0.0, presort='deprecated',\n",
              "                       random_state=None, splitter='best')"
            ]
          },
          "metadata": {
            "tags": []
          },
          "execution_count": 69
        }
      ]
    },
    {
      "cell_type": "code",
      "metadata": {
        "colab": {
          "base_uri": "https://localhost:8080/"
        },
        "id": "1AGfDNfj1mSO",
        "outputId": "7ced5634-f69b-4cf8-e10b-3e636941d6f1"
      },
      "source": [
        "y_train_pred = clf.predict(x_train)\n",
        "y_val_pred = clf.predict(x_valid)\n",
        "y_train_prob = clf.predict_proba(x_train)\n",
        "y_val_prob = clf.predict_proba(x_valid)\n",
        "print(\"Training accuracy: \", metrics.accuracy_score(y_train, y_train_pred))\n",
        "print(\"Validation accuracy: \", metrics.accuracy_score(y_valid, y_val_pred))\n",
        "print(\"\\n\")\n",
        "print(\"Training precision: \", metrics.precision_score(y_train, y_train_pred))\n",
        "print(\"Validation precision: \", metrics.precision_score(y_train, y_train_pred))\n",
        "print(\"\\n\")\n",
        "print(\"Training recall: \", metrics.recall_score(y_train, y_train_pred))\n",
        "print(\"Validation recall: \", metrics.recall_score(y_train, y_train_pred))\n",
        "print(\"\\n\")\n",
        "# auc\n",
        "fpr, tpr, thresholds = metrics.roc_curve(y_train, y_train_prob[:,1], pos_label = 1)\n",
        "print(\"Training AUC\", metrics.auc(fpr, tpr))\n",
        "fpr, tpr, thresholds = metrics.roc_curve(y_valid, y_val_prob[:,1], pos_label = 1)\n",
        "print(\"Validation AUC\", metrics.auc(fpr, tpr))"
      ],
      "execution_count": 70,
      "outputs": [
        {
          "output_type": "stream",
          "text": [
            "Training accuracy:  0.8186400848999393\n",
            "Validation accuracy:  0.8189043228073485\n",
            "\n",
            "\n",
            "Training precision:  0.819711270390008\n",
            "Validation precision:  0.819711270390008\n",
            "\n",
            "\n",
            "Training recall:  0.8170564725973757\n",
            "Validation recall:  0.8170564725973757\n",
            "\n",
            "\n",
            "Training AUC 0.8961085598224829\n",
            "Validation AUC 0.8955765377117056\n"
          ],
          "name": "stdout"
        }
      ]
    },
    {
      "cell_type": "code",
      "metadata": {
        "id": "WdOdff_r1mSO"
      },
      "source": [
        ""
      ],
      "execution_count": 70,
      "outputs": []
    },
    {
      "cell_type": "code",
      "metadata": {
        "id": "D3TqleV31pV6"
      },
      "source": [
        ""
      ],
      "execution_count": 70,
      "outputs": []
    },
    {
      "cell_type": "markdown",
      "metadata": {
        "id": "yVO2Tvtu2w7P"
      },
      "source": [
        "# XGBoost SMOTE"
      ]
    },
    {
      "cell_type": "code",
      "metadata": {
        "id": "bQeh_vBb20Jr"
      },
      "source": [
        ""
      ],
      "execution_count": 70,
      "outputs": []
    },
    {
      "cell_type": "code",
      "metadata": {
        "id": "Vs0LpA4E20Zn"
      },
      "source": [
        "# Parameters calcualted using the randomized search above\n",
        "clf2 =xgb.XGBClassifier(use_label_encoder = False, eval_metric = \"logloss\",\n",
        "                                    subsample= 0.6, n_estimators= 200, max_depth= 5, \n",
        "                                    learning_rate= 0.3,gamma= 0, colsample_bytree= 0.8, \n",
        "                                    colsample_bynode= 1,reg_lambda=1)"
      ],
      "execution_count": 71,
      "outputs": []
    },
    {
      "cell_type": "code",
      "metadata": {
        "colab": {
          "base_uri": "https://localhost:8080/"
        },
        "id": "pYMs6Qnt20Zn",
        "outputId": "1241547d-5e47-44f3-dfe0-367c83105c9d"
      },
      "source": [
        "clf2.fit(x_train, y_train)"
      ],
      "execution_count": 72,
      "outputs": [
        {
          "output_type": "execute_result",
          "data": {
            "text/plain": [
              "XGBClassifier(base_score=0.5, booster='gbtree', colsample_bylevel=1,\n",
              "              colsample_bynode=1, colsample_bytree=0.8, eval_metric='logloss',\n",
              "              gamma=0, learning_rate=0.3, max_delta_step=0, max_depth=5,\n",
              "              min_child_weight=1, missing=None, n_estimators=200, n_jobs=1,\n",
              "              nthread=None, objective='binary:logistic', random_state=0,\n",
              "              reg_alpha=0, reg_lambda=1, scale_pos_weight=1, seed=None,\n",
              "              silent=None, subsample=0.6, use_label_encoder=False, verbosity=1)"
            ]
          },
          "metadata": {
            "tags": []
          },
          "execution_count": 72
        }
      ]
    },
    {
      "cell_type": "code",
      "metadata": {
        "id": "cXvbToYm20Zo"
      },
      "source": [
        "train_pred = clf2.predict(x_train)\n",
        "val_pred = clf2.predict(x_valid)"
      ],
      "execution_count": 73,
      "outputs": []
    },
    {
      "cell_type": "code",
      "metadata": {
        "colab": {
          "base_uri": "https://localhost:8080/"
        },
        "id": "PAUM7ix-20Zp",
        "outputId": "acc34c72-0a3f-40c8-e155-6d038350e5df"
      },
      "source": [
        "\n",
        "print(\"Training accuracy: \", metrics.accuracy_score(y_train, train_pred))\n",
        "print(\"Validation accuracy: \", metrics.accuracy_score(y_valid, val_pred), '\\n')\n",
        "\n",
        "print(\"Training recall: \", metrics.recall_score(y_train, train_pred))\n",
        "print(\"Validation recall: \", metrics.recall_score(y_valid, val_pred))\n",
        "\n",
        "print(\"\\n\")\n",
        "\n",
        "print(\"Training precision: \", metrics.precision_score(y_train, train_pred))\n",
        "print(\"Validation precision: \", metrics.precision_score(y_valid, val_pred))\n",
        "\n",
        "print(\"\\n\")\n",
        "\n",
        "\n",
        "print(\"\\n\")\n",
        "\n",
        "y_train_prob = clf.predict_proba(x_train)\n",
        "y_val_prob = clf.predict_proba(x_valid)\n",
        "\n",
        "fpr, tpr, thresholds = metrics.roc_curve(y_train, y_train_prob[:,1], pos_label = 1)\n",
        "print(\"Training AUC: \", metrics.auc(fpr, tpr))\n",
        "\n",
        "fpr, tpr, thresholds = metrics.roc_curve(y_valid, y_val_prob[:,1], pos_label = 1)\n",
        "print(\"Validation AUC: \", metrics.auc(fpr, tpr))"
      ],
      "execution_count": 74,
      "outputs": [
        {
          "output_type": "stream",
          "text": [
            "Training accuracy:  0.9584950475035375\n",
            "Validation accuracy:  0.9555691814258425 \n",
            "\n",
            "Training recall:  0.9191335849514195\n",
            "Validation recall:  0.9155685585192351\n",
            "\n",
            "\n",
            "Training precision:  0.9976910631529876\n",
            "Validation precision:  0.9951403403044019\n",
            "\n",
            "\n",
            "\n",
            "\n",
            "Training AUC:  0.8961085598224829\n",
            "Validation AUC:  0.8955765377117056\n"
          ],
          "name": "stdout"
        }
      ]
    },
    {
      "cell_type": "code",
      "metadata": {
        "id": "L4GJlHOk3ET-"
      },
      "source": [
        ""
      ],
      "execution_count": 74,
      "outputs": []
    },
    {
      "cell_type": "markdown",
      "metadata": {
        "id": "5cJjVpvu50r9"
      },
      "source": [
        "# Random Forest SMOTE"
      ]
    },
    {
      "cell_type": "code",
      "metadata": {
        "id": "G8JkebrO508A"
      },
      "source": [
        ""
      ],
      "execution_count": 74,
      "outputs": []
    },
    {
      "cell_type": "code",
      "metadata": {
        "id": "2W5Znvyn6Ciq"
      },
      "source": [
        "clf3 = RandomForestClassifier(n_estimators=400,min_samples_split=520,min_samples_leaf=55,max_samples=0.3, max_features=5, max_depth=7, n_jobs=4)"
      ],
      "execution_count": 75,
      "outputs": []
    },
    {
      "cell_type": "code",
      "metadata": {
        "colab": {
          "base_uri": "https://localhost:8080/"
        },
        "id": "0dI2aABA6Cir",
        "outputId": "87330bd0-f984-4c78-f982-68fb3ff50639"
      },
      "source": [
        "clf3.fit(x_train, y_train)"
      ],
      "execution_count": 76,
      "outputs": [
        {
          "output_type": "execute_result",
          "data": {
            "text/plain": [
              "RandomForestClassifier(bootstrap=True, ccp_alpha=0.0, class_weight=None,\n",
              "                       criterion='gini', max_depth=7, max_features=5,\n",
              "                       max_leaf_nodes=None, max_samples=0.3,\n",
              "                       min_impurity_decrease=0.0, min_impurity_split=None,\n",
              "                       min_samples_leaf=55, min_samples_split=520,\n",
              "                       min_weight_fraction_leaf=0.0, n_estimators=400, n_jobs=4,\n",
              "                       oob_score=False, random_state=None, verbose=0,\n",
              "                       warm_start=False)"
            ]
          },
          "metadata": {
            "tags": []
          },
          "execution_count": 76
        }
      ]
    },
    {
      "cell_type": "code",
      "metadata": {
        "id": "FrpNzlMS6Cis"
      },
      "source": [
        ""
      ],
      "execution_count": 76,
      "outputs": []
    },
    {
      "cell_type": "code",
      "metadata": {
        "id": "E3lb_cfl6Cis"
      },
      "source": [
        "train_pred = clf3.predict(x_train)\n",
        "val_pred = clf3.predict(x_valid)"
      ],
      "execution_count": 77,
      "outputs": []
    },
    {
      "cell_type": "code",
      "metadata": {
        "colab": {
          "base_uri": "https://localhost:8080/"
        },
        "id": "Gl51zZu66Ci0",
        "outputId": "da7b8fd4-ab59-4afd-b128-aeb4af3b0d4e"
      },
      "source": [
        "print(\"Training recall: \", metrics.recall_score(y_train, train_pred))\n",
        "print(\"Validation recall: \", metrics.recall_score(y_valid, val_pred))\n",
        "\n",
        "print(\"\\n\")\n",
        "\n",
        "print(\"Training precision: \", metrics.precision_score(y_train, train_pred))\n",
        "print(\"Validation precision: \", metrics.precision_score(y_valid, val_pred))\n",
        "\n",
        "print(\"\\n\")\n",
        "\n",
        "print(\"Training accuracy: \", metrics.accuracy_score(y_train, train_pred))\n",
        "print(\"Validation accuracy: \", metrics.accuracy_score(y_valid, val_pred))\n",
        "\n",
        "print(\"\\n\")\n",
        "\n",
        "y_train_prob = clf.predict_proba(x_train)\n",
        "y_val_prob = clf.predict_proba(x_valid)\n",
        "\n",
        "fpr, tpr, thresholds = metrics.roc_curve(y_train, y_train_prob[:,1], pos_label = 1)\n",
        "print(\"Training AUC: \", metrics.auc(fpr, tpr))\n",
        "\n",
        "fpr, tpr, thresholds = metrics.roc_curve(y_valid, y_val_prob[:,1], pos_label = 1)\n",
        "print(\"Validation AUC: \", metrics.auc(fpr, tpr))"
      ],
      "execution_count": 78,
      "outputs": [
        {
          "output_type": "stream",
          "text": [
            "Training recall:  0.8933351522592575\n",
            "Validation recall:  0.8935670720917338\n",
            "\n",
            "\n",
            "Training precision:  0.9560341518014048\n",
            "Validation precision:  0.9567144950234931\n",
            "\n",
            "\n",
            "Training accuracy:  0.9261117849201537\n",
            "Validation accuracy:  0.9266030705374619\n",
            "\n",
            "\n",
            "Training AUC:  0.8961085598224829\n",
            "Validation AUC:  0.8955765377117056\n"
          ],
          "name": "stdout"
        }
      ]
    },
    {
      "cell_type": "code",
      "metadata": {
        "id": "avtTwft76Ci1"
      },
      "source": [
        ""
      ],
      "execution_count": 78,
      "outputs": []
    },
    {
      "cell_type": "markdown",
      "metadata": {
        "id": "2nMQAPZ46Ci1"
      },
      "source": [
        "# Neural Network Smote"
      ]
    },
    {
      "cell_type": "code",
      "metadata": {
        "id": "4lFiPksK7SPg"
      },
      "source": [
        ""
      ],
      "execution_count": 78,
      "outputs": []
    },
    {
      "cell_type": "code",
      "metadata": {
        "colab": {
          "base_uri": "https://localhost:8080/"
        },
        "id": "5avv_qiY6Ci1",
        "outputId": "f90b5bdb-99ee-4b18-86d1-6dba544572f1"
      },
      "source": [
        "\n",
        "from sklearn.preprocessing import MinMaxScaler\n",
        "scaler = MinMaxScaler()\n",
        "X_scale=scaler.fit_transform(x)\n",
        "X_scale.shape"
      ],
      "execution_count": 79,
      "outputs": [
        {
          "output_type": "execute_result",
          "data": {
            "text/plain": [
              "(565372, 211)"
            ]
          },
          "metadata": {
            "tags": []
          },
          "execution_count": 79
        }
      ]
    },
    {
      "cell_type": "code",
      "metadata": {
        "id": "VrDTqWuu6Ci2"
      },
      "source": [
        "train_X_nn, valid_X_nn, train_y_nn, valid_y_nn = train_test_split(X_scale, y, test_size=0.3, random_state=1)"
      ],
      "execution_count": 80,
      "outputs": []
    },
    {
      "cell_type": "code",
      "metadata": {
        "id": "atWSxCLK6Ci2"
      },
      "source": [
        ""
      ],
      "execution_count": 80,
      "outputs": []
    },
    {
      "cell_type": "code",
      "metadata": {
        "id": "XP8dJUB46Ci2"
      },
      "source": [
        "model2 = tf.keras.Sequential([ tf.keras.layers.Flatten(),\n",
        "                             tf.keras.layers.Dense(units=128, activation=tf.nn.relu),\n",
        "                             tf.keras.layers.Dense(units=1,activation=tf.nn.sigmoid)])"
      ],
      "execution_count": 81,
      "outputs": []
    },
    {
      "cell_type": "code",
      "metadata": {
        "id": "e3iwZjiQ6Ci2"
      },
      "source": [
        "model2.compile(optimizer= tf.optimizers.Adam(),\n",
        "              loss = tf.losses.binary_crossentropy,\n",
        "              metrics = ['accuracy'])"
      ],
      "execution_count": 82,
      "outputs": []
    },
    {
      "cell_type": "code",
      "metadata": {
        "colab": {
          "base_uri": "https://localhost:8080/"
        },
        "id": "g4fz-HTI6Ci3",
        "outputId": "c87f327b-b30f-42ae-ca97-8f4da09289c8"
      },
      "source": [
        "model2.fit(train_X_nn, train_y_nn, epochs = 15)"
      ],
      "execution_count": 83,
      "outputs": [
        {
          "output_type": "stream",
          "text": [
            "Epoch 1/15\n",
            "12368/12368 [==============================] - 26s 2ms/step - loss: 0.4652 - accuracy: 0.7765\n",
            "Epoch 2/15\n",
            "12368/12368 [==============================] - 26s 2ms/step - loss: 0.2608 - accuracy: 0.8938\n",
            "Epoch 3/15\n",
            "12368/12368 [==============================] - 26s 2ms/step - loss: 0.2227 - accuracy: 0.9132\n",
            "Epoch 4/15\n",
            "12368/12368 [==============================] - 26s 2ms/step - loss: 0.2057 - accuracy: 0.9214\n",
            "Epoch 5/15\n",
            "12368/12368 [==============================] - 26s 2ms/step - loss: 0.1974 - accuracy: 0.9260\n",
            "Epoch 6/15\n",
            "12368/12368 [==============================] - 26s 2ms/step - loss: 0.1893 - accuracy: 0.9298\n",
            "Epoch 7/15\n",
            "12368/12368 [==============================] - 26s 2ms/step - loss: 0.1847 - accuracy: 0.9318\n",
            "Epoch 8/15\n",
            "12368/12368 [==============================] - 26s 2ms/step - loss: 0.1807 - accuracy: 0.9338\n",
            "Epoch 9/15\n",
            "12368/12368 [==============================] - 26s 2ms/step - loss: 0.1765 - accuracy: 0.9359\n",
            "Epoch 10/15\n",
            "12368/12368 [==============================] - 26s 2ms/step - loss: 0.1744 - accuracy: 0.9368\n",
            "Epoch 11/15\n",
            "12368/12368 [==============================] - 26s 2ms/step - loss: 0.1719 - accuracy: 0.9376\n",
            "Epoch 12/15\n",
            "12368/12368 [==============================] - 26s 2ms/step - loss: 0.1713 - accuracy: 0.9381\n",
            "Epoch 13/15\n",
            "12368/12368 [==============================] - 26s 2ms/step - loss: 0.1687 - accuracy: 0.9389\n",
            "Epoch 14/15\n",
            "12368/12368 [==============================] - 26s 2ms/step - loss: 0.1664 - accuracy: 0.9394\n",
            "Epoch 15/15\n",
            "12368/12368 [==============================] - 26s 2ms/step - loss: 0.1660 - accuracy: 0.9400\n"
          ],
          "name": "stdout"
        },
        {
          "output_type": "execute_result",
          "data": {
            "text/plain": [
              "<tensorflow.python.keras.callbacks.History at 0x7f43cd7c8850>"
            ]
          },
          "metadata": {
            "tags": []
          },
          "execution_count": 83
        }
      ]
    },
    {
      "cell_type": "code",
      "metadata": {
        "colab": {
          "base_uri": "https://localhost:8080/"
        },
        "id": "KjlxN_dA6Ci3",
        "outputId": "63c73661-53fb-4d0e-c7c4-d55003a66fac"
      },
      "source": [
        "model2.evaluate(valid_X_nn, valid_y_nn)"
      ],
      "execution_count": 84,
      "outputs": [
        {
          "output_type": "stream",
          "text": [
            "5301/5301 [==============================] - 8s 2ms/step - loss: 0.1759 - accuracy: 0.9406\n"
          ],
          "name": "stdout"
        },
        {
          "output_type": "execute_result",
          "data": {
            "text/plain": [
              "[0.17591916024684906, 0.9406115412712097]"
            ]
          },
          "metadata": {
            "tags": []
          },
          "execution_count": 84
        }
      ]
    },
    {
      "cell_type": "code",
      "metadata": {
        "id": "vhdoSrHK6Ci3"
      },
      "source": [
        "y_pred_valid = model2.predict(valid_X_nn).ravel()\n"
      ],
      "execution_count": 85,
      "outputs": []
    },
    {
      "cell_type": "code",
      "metadata": {
        "id": "o22Or2R3EszZ"
      },
      "source": [
        "y_pred = model2.predict(train_X_nn).ravel()"
      ],
      "execution_count": null,
      "outputs": []
    },
    {
      "cell_type": "code",
      "metadata": {
        "colab": {
          "base_uri": "https://localhost:8080/"
        },
        "id": "qJ0L2XRP6Ci3",
        "outputId": "97a30cd6-e0b4-4eb0-c469-90cac3f61258"
      },
      "source": [
        "\n",
        "from sklearn.metrics import accuracy_score, precision_score,recall_score,f1_score,roc_auc_score,classification_report, confusion_matrix\n",
        "# predict probabilities for test set\n",
        "prediction_probs = model2.predict(valid_X_nn)\n",
        "# predict classes\n"
      ],
      "execution_count": 86,
      "outputs": [
        {
          "output_type": "stream",
          "text": [
            "Accuracy on train is: 0.9439053972104305\n",
            "Accuracy on test is: 0.9406115133363205\n",
            "Precision_score train is: 0.9934226416154127\n",
            "Precision_score on test is: 0.990160062975597\n",
            "Recall_score on train is: 0.8937355035296852\n",
            "Recall_score on test is: 0.8900498861934357\n",
            "f1_score on train is: 0.9409461386222894\n",
            "f1_score on test is: 0.9374398340506667\n",
            "NeuralNetworks Train:  0.9779251957695518\n",
            "NeuralNetworkss Valid:  0.9708581716064311 \n",
            "\n"
          ],
          "name": "stdout"
        }
      ]
    },
    {
      "cell_type": "code",
      "metadata": {
        "id": "D_kD-LAa6Ci4"
      },
      "source": [
        "nn_prediction_train = (model2.predict(train_X_nn) > 0.5).astype(\"int32\")\n"
      ],
      "execution_count": 87,
      "outputs": []
    },
    {
      "cell_type": "code",
      "metadata": {
        "id": "Bf3DAZ0SEy9K"
      },
      "source": [
        "nn_prediction_valid = (model2.predict(valid_X_nn) > 0.5).astype(\"int32\")\n",
        "\n"
      ],
      "execution_count": 88,
      "outputs": []
    },
    {
      "cell_type": "code",
      "metadata": {
        "colab": {
          "base_uri": "https://localhost:8080/"
        },
        "id": "XTgHdniXE0wx",
        "outputId": "4a3646a9-021d-423d-bb6b-6c8c2dde7849"
      },
      "source": [
        "print(\"Accuracy on train is:\",accuracy_score(train_y_nn,nn_prediction_train))\n",
        "print(\"Accuracy on test is:\",accuracy_score(valid_y_nn,nn_prediction_valid))\n",
        "print(\"Precision_score train is:\",precision_score(train_y_nn,nn_prediction_train))\n",
        "print(\"Precision_score on test is:\",precision_score(valid_y_nn,nn_prediction_valid))\n",
        "print(\"Recall_score on train is:\",recall_score(train_y_nn,nn_prediction_train))\n",
        "print(\"Recall_score on test is:\",recall_score(valid_y_nn,nn_prediction_valid))\n",
        "print(\"f1_score on train is:\",f1_score(train_y_nn,nn_prediction_train))\n",
        "print(\"f1_score on test is:\",f1_score(valid_y_nn,nn_prediction_valid))\n",
        "\n",
        "from sklearn.metrics import roc_curve, auc\n",
        "fpr, tpr, thresholds = roc_curve(train_y_nn, y_pred)\n",
        "print(\"NeuralNetworks Train: \",str(auc(fpr, tpr)))\n",
        "#fpr, tpr, thresholds = roc_curve(valid_y,nn_prediction_valid)\n",
        "fpr, tpr, thresholds = roc_curve(valid_y_nn, y_pred_valid)\n",
        "print(\"NeuralNetworkss Valid: \",str(auc(fpr, tpr)),\"\\n\")"
      ],
      "execution_count": 89,
      "outputs": [
        {
          "output_type": "stream",
          "text": [
            "Accuracy on train is: 0.9439053972104305\n",
            "Accuracy on test is: 0.9406115133363205\n",
            "Precision_score train is: 0.9934226416154127\n",
            "Precision_score on test is: 0.990160062975597\n",
            "Recall_score on train is: 0.8937355035296852\n",
            "Recall_score on test is: 0.8900498861934357\n",
            "f1_score on train is: 0.9409461386222894\n",
            "f1_score on test is: 0.9374398340506667\n",
            "NeuralNetworks Train:  0.9779251957695518\n",
            "NeuralNetworkss Valid:  0.9708581716064311 \n",
            "\n"
          ],
          "name": "stdout"
        }
      ]
    },
    {
      "cell_type": "code",
      "metadata": {
        "id": "j7jLKDVcFaJE"
      },
      "source": [
        ""
      ],
      "execution_count": null,
      "outputs": []
    }
  ]
}