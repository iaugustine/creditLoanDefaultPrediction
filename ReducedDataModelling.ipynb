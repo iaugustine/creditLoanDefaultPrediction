{
  "nbformat": 4,
  "nbformat_minor": 0,
  "metadata": {
    "colab": {
      "name": "ReducedDataModelling.ipynb",
      "provenance": []
    },
    "kernelspec": {
      "name": "python3",
      "display_name": "Python 3"
    },
    "language_info": {
      "name": "python"
    }
  },
  "cells": [
    {
      "cell_type": "code",
      "metadata": {
        "id": "iH0So1E_Vh4B"
      },
      "source": [
        ""
      ],
      "execution_count": null,
      "outputs": []
    },
    {
      "cell_type": "code",
      "metadata": {
        "id": "9BJX4kLZmyI1"
      },
      "source": [
        "from google.colab import drive\n",
        "import pandas as pd\n",
        "pd.set_option('display.max_rows', 500)\n",
        "pd.set_option('display.max_columns', 500)\n",
        "pd.set_option('display.width', 1000)\n",
        "import seaborn as sns"
      ],
      "execution_count": 2,
      "outputs": []
    },
    {
      "cell_type": "code",
      "metadata": {
        "colab": {
          "base_uri": "https://localhost:8080/"
        },
        "id": "Ldsa5fxinTcQ",
        "outputId": "504234a9-d9a4-4757-b2c3-cc463ef91b86"
      },
      "source": [
        "drive.mount('/content/gdrive')"
      ],
      "execution_count": 147,
      "outputs": [
        {
          "output_type": "stream",
          "text": [
            "Drive already mounted at /content/gdrive; to attempt to forcibly remount, call drive.mount(\"/content/gdrive\", force_remount=True).\n"
          ],
          "name": "stdout"
        }
      ]
    },
    {
      "cell_type": "code",
      "metadata": {
        "colab": {
          "base_uri": "https://localhost:8080/"
        },
        "id": "jAe20yIfncyy",
        "outputId": "2c2ccc38-a20f-4080-d8a4-b36a3d12a2d2"
      },
      "source": [
        "!ls '/content/gdrive/MyDrive/datasets'"
      ],
      "execution_count": 5,
      "outputs": [
        {
          "output_type": "stream",
          "text": [
            "current_app.csv\n"
          ],
          "name": "stdout"
        }
      ]
    },
    {
      "cell_type": "code",
      "metadata": {
        "id": "B60q5Tdznt8f"
      },
      "source": [
        "df = pd.read_csv('/content/gdrive/MyDrive/datasets/current_app.csv')"
      ],
      "execution_count": 6,
      "outputs": []
    },
    {
      "cell_type": "code",
      "metadata": {
        "id": "_ESziaYkwhtw"
      },
      "source": [
        "import pandas as pd\n",
        "import numpy as np\n",
        "import seaborn as sns \n",
        "import matplotlib.pyplot as plt\n",
        "from pandas.plotting import scatter_matrix\n",
        "\n",
        "\n",
        "import xgboost as xgb\n",
        "from sklearn.model_selection import train_test_split, RandomizedSearchCV\n",
        "from sklearn.model_selection import cross_val_score\n",
        "from sklearn.model_selection import GridSearchCV\n",
        "from sklearn.metrics import confusion_matrix, classification_report\n",
        "from sklearn.preprocessing import LabelEncoder \n",
        "from sklearn.neighbors import KNeighborsClassifier\n",
        "from sklearn.impute import KNNImputer \n",
        "from sklearn.ensemble import RandomForestClassifier\n",
        "from sklearn import metrics \n",
        "\n",
        "from sklearn.metrics import precision_recall_curve, average_precision_score\n",
        "from sklearn.metrics import roc_curve, auc, roc_auc_score, silhouette_score\n",
        "from sklearn.decomposition import FastICA, PCA \n",
        "\n",
        "from sklearn.cluster import KMeans \n",
        "\n",
        "from sklearn.linear_model import LogisticRegression\n",
        "from sklearn.tree import DecisionTreeClassifier, plot_tree\n",
        "\n",
        "\n",
        "import warnings\n",
        "warnings.filterwarnings('ignore')\n",
        "\n",
        "from tqdm import tqdm\n",
        "import time"
      ],
      "execution_count": 8,
      "outputs": []
    },
    {
      "cell_type": "code",
      "metadata": {
        "id": "hAYGJG44wupj"
      },
      "source": [
        "df = pd.read_csv('/content/gdrive/MyDrive/datasets/current_app.csv')\n",
        "#df = pd.read_csv(\"current_app.csv\")\n",
        "df = df.drop('SK_ID_CURR', axis = 1)\n"
      ],
      "execution_count": 34,
      "outputs": []
    },
    {
      "cell_type": "code",
      "metadata": {
        "id": "XluBCWZ0dGfQ"
      },
      "source": [
        ""
      ],
      "execution_count": 34,
      "outputs": []
    },
    {
      "cell_type": "code",
      "metadata": {
        "colab": {
          "base_uri": "https://localhost:8080/",
          "height": 235
        },
        "id": "0slWdQ6SXgIg",
        "outputId": "0c46b0fd-4f79-4c3c-de01-32fcde132215"
      },
      "source": [
        "df.head()"
      ],
      "execution_count": 148,
      "outputs": [
        {
          "output_type": "execute_result",
          "data": {
            "text/html": [
              "<div>\n",
              "<style scoped>\n",
              "    .dataframe tbody tr th:only-of-type {\n",
              "        vertical-align: middle;\n",
              "    }\n",
              "\n",
              "    .dataframe tbody tr th {\n",
              "        vertical-align: top;\n",
              "    }\n",
              "\n",
              "    .dataframe thead th {\n",
              "        text-align: right;\n",
              "    }\n",
              "</style>\n",
              "<table border=\"1\" class=\"dataframe\">\n",
              "  <thead>\n",
              "    <tr style=\"text-align: right;\">\n",
              "      <th></th>\n",
              "      <th>ORGANIZATION_TYPE_Agriculture</th>\n",
              "      <th>ORGANIZATION_TYPE_Bank</th>\n",
              "      <th>ORGANIZATION_TYPE_Business Entity Type 1</th>\n",
              "      <th>ORGANIZATION_TYPE_Business Entity Type 2</th>\n",
              "      <th>ORGANIZATION_TYPE_Business Entity Type 3</th>\n",
              "      <th>ORGANIZATION_TYPE_Cleaning</th>\n",
              "      <th>ORGANIZATION_TYPE_Construction</th>\n",
              "      <th>ORGANIZATION_TYPE_Culture</th>\n",
              "      <th>ORGANIZATION_TYPE_Electricity</th>\n",
              "      <th>ORGANIZATION_TYPE_Emergency</th>\n",
              "      <th>ORGANIZATION_TYPE_Government</th>\n",
              "      <th>ORGANIZATION_TYPE_Hotel</th>\n",
              "      <th>ORGANIZATION_TYPE_Housing</th>\n",
              "      <th>ORGANIZATION_TYPE_Industry: type 1</th>\n",
              "      <th>ORGANIZATION_TYPE_Industry: type 10</th>\n",
              "      <th>ORGANIZATION_TYPE_Industry: type 11</th>\n",
              "      <th>ORGANIZATION_TYPE_Industry: type 12</th>\n",
              "      <th>ORGANIZATION_TYPE_Industry: type 13</th>\n",
              "      <th>ORGANIZATION_TYPE_Industry: type 2</th>\n",
              "      <th>ORGANIZATION_TYPE_Industry: type 3</th>\n",
              "      <th>ORGANIZATION_TYPE_Industry: type 4</th>\n",
              "      <th>ORGANIZATION_TYPE_Industry: type 5</th>\n",
              "      <th>ORGANIZATION_TYPE_Industry: type 6</th>\n",
              "      <th>ORGANIZATION_TYPE_Industry: type 7</th>\n",
              "      <th>ORGANIZATION_TYPE_Industry: type 8</th>\n",
              "      <th>ORGANIZATION_TYPE_Industry: type 9</th>\n",
              "      <th>ORGANIZATION_TYPE_Insurance</th>\n",
              "      <th>ORGANIZATION_TYPE_Kindergarten</th>\n",
              "      <th>ORGANIZATION_TYPE_Legal Services</th>\n",
              "      <th>ORGANIZATION_TYPE_Medicine</th>\n",
              "      <th>ORGANIZATION_TYPE_Military</th>\n",
              "      <th>ORGANIZATION_TYPE_Mobile</th>\n",
              "      <th>ORGANIZATION_TYPE_Other</th>\n",
              "      <th>ORGANIZATION_TYPE_Police</th>\n",
              "      <th>ORGANIZATION_TYPE_Postal</th>\n",
              "      <th>ORGANIZATION_TYPE_Realtor</th>\n",
              "      <th>ORGANIZATION_TYPE_Religion</th>\n",
              "      <th>ORGANIZATION_TYPE_Restaurant</th>\n",
              "      <th>ORGANIZATION_TYPE_School</th>\n",
              "      <th>ORGANIZATION_TYPE_Security</th>\n",
              "      <th>ORGANIZATION_TYPE_Security Ministries</th>\n",
              "      <th>ORGANIZATION_TYPE_Self-employed</th>\n",
              "      <th>ORGANIZATION_TYPE_Services</th>\n",
              "      <th>ORGANIZATION_TYPE_Telecom</th>\n",
              "      <th>ORGANIZATION_TYPE_Trade: type 1</th>\n",
              "      <th>ORGANIZATION_TYPE_Trade: type 2</th>\n",
              "      <th>ORGANIZATION_TYPE_Trade: type 3</th>\n",
              "      <th>ORGANIZATION_TYPE_Trade: type 4</th>\n",
              "      <th>ORGANIZATION_TYPE_Trade: type 5</th>\n",
              "      <th>ORGANIZATION_TYPE_Trade: type 6</th>\n",
              "      <th>ORGANIZATION_TYPE_Trade: type 7</th>\n",
              "      <th>ORGANIZATION_TYPE_Transport: type 1</th>\n",
              "      <th>ORGANIZATION_TYPE_Transport: type 2</th>\n",
              "      <th>ORGANIZATION_TYPE_Transport: type 3</th>\n",
              "      <th>ORGANIZATION_TYPE_Transport: type 4</th>\n",
              "      <th>ORGANIZATION_TYPE_University</th>\n",
              "      <th>ORGANIZATION_TYPE_XNA</th>\n",
              "    </tr>\n",
              "  </thead>\n",
              "  <tbody>\n",
              "    <tr>\n",
              "      <th>0</th>\n",
              "      <td>0</td>\n",
              "      <td>0</td>\n",
              "      <td>0</td>\n",
              "      <td>0</td>\n",
              "      <td>1</td>\n",
              "      <td>0</td>\n",
              "      <td>0</td>\n",
              "      <td>0</td>\n",
              "      <td>0</td>\n",
              "      <td>0</td>\n",
              "      <td>0</td>\n",
              "      <td>0</td>\n",
              "      <td>0</td>\n",
              "      <td>0</td>\n",
              "      <td>0</td>\n",
              "      <td>0</td>\n",
              "      <td>0</td>\n",
              "      <td>0</td>\n",
              "      <td>0</td>\n",
              "      <td>0</td>\n",
              "      <td>0</td>\n",
              "      <td>0</td>\n",
              "      <td>0</td>\n",
              "      <td>0</td>\n",
              "      <td>0</td>\n",
              "      <td>0</td>\n",
              "      <td>0</td>\n",
              "      <td>0</td>\n",
              "      <td>0</td>\n",
              "      <td>0</td>\n",
              "      <td>0</td>\n",
              "      <td>0</td>\n",
              "      <td>0</td>\n",
              "      <td>0</td>\n",
              "      <td>0</td>\n",
              "      <td>0</td>\n",
              "      <td>0</td>\n",
              "      <td>0</td>\n",
              "      <td>0</td>\n",
              "      <td>0</td>\n",
              "      <td>0</td>\n",
              "      <td>0</td>\n",
              "      <td>0</td>\n",
              "      <td>0</td>\n",
              "      <td>0</td>\n",
              "      <td>0</td>\n",
              "      <td>0</td>\n",
              "      <td>0</td>\n",
              "      <td>0</td>\n",
              "      <td>0</td>\n",
              "      <td>0</td>\n",
              "      <td>0</td>\n",
              "      <td>0</td>\n",
              "      <td>0</td>\n",
              "      <td>0</td>\n",
              "      <td>0</td>\n",
              "      <td>0</td>\n",
              "    </tr>\n",
              "    <tr>\n",
              "      <th>1</th>\n",
              "      <td>0</td>\n",
              "      <td>0</td>\n",
              "      <td>0</td>\n",
              "      <td>0</td>\n",
              "      <td>0</td>\n",
              "      <td>0</td>\n",
              "      <td>0</td>\n",
              "      <td>0</td>\n",
              "      <td>0</td>\n",
              "      <td>0</td>\n",
              "      <td>0</td>\n",
              "      <td>0</td>\n",
              "      <td>0</td>\n",
              "      <td>0</td>\n",
              "      <td>0</td>\n",
              "      <td>0</td>\n",
              "      <td>0</td>\n",
              "      <td>0</td>\n",
              "      <td>0</td>\n",
              "      <td>0</td>\n",
              "      <td>0</td>\n",
              "      <td>0</td>\n",
              "      <td>0</td>\n",
              "      <td>0</td>\n",
              "      <td>0</td>\n",
              "      <td>0</td>\n",
              "      <td>0</td>\n",
              "      <td>0</td>\n",
              "      <td>0</td>\n",
              "      <td>0</td>\n",
              "      <td>0</td>\n",
              "      <td>0</td>\n",
              "      <td>0</td>\n",
              "      <td>0</td>\n",
              "      <td>0</td>\n",
              "      <td>0</td>\n",
              "      <td>0</td>\n",
              "      <td>0</td>\n",
              "      <td>1</td>\n",
              "      <td>0</td>\n",
              "      <td>0</td>\n",
              "      <td>0</td>\n",
              "      <td>0</td>\n",
              "      <td>0</td>\n",
              "      <td>0</td>\n",
              "      <td>0</td>\n",
              "      <td>0</td>\n",
              "      <td>0</td>\n",
              "      <td>0</td>\n",
              "      <td>0</td>\n",
              "      <td>0</td>\n",
              "      <td>0</td>\n",
              "      <td>0</td>\n",
              "      <td>0</td>\n",
              "      <td>0</td>\n",
              "      <td>0</td>\n",
              "      <td>0</td>\n",
              "    </tr>\n",
              "    <tr>\n",
              "      <th>2</th>\n",
              "      <td>0</td>\n",
              "      <td>0</td>\n",
              "      <td>0</td>\n",
              "      <td>0</td>\n",
              "      <td>0</td>\n",
              "      <td>0</td>\n",
              "      <td>0</td>\n",
              "      <td>0</td>\n",
              "      <td>0</td>\n",
              "      <td>0</td>\n",
              "      <td>1</td>\n",
              "      <td>0</td>\n",
              "      <td>0</td>\n",
              "      <td>0</td>\n",
              "      <td>0</td>\n",
              "      <td>0</td>\n",
              "      <td>0</td>\n",
              "      <td>0</td>\n",
              "      <td>0</td>\n",
              "      <td>0</td>\n",
              "      <td>0</td>\n",
              "      <td>0</td>\n",
              "      <td>0</td>\n",
              "      <td>0</td>\n",
              "      <td>0</td>\n",
              "      <td>0</td>\n",
              "      <td>0</td>\n",
              "      <td>0</td>\n",
              "      <td>0</td>\n",
              "      <td>0</td>\n",
              "      <td>0</td>\n",
              "      <td>0</td>\n",
              "      <td>0</td>\n",
              "      <td>0</td>\n",
              "      <td>0</td>\n",
              "      <td>0</td>\n",
              "      <td>0</td>\n",
              "      <td>0</td>\n",
              "      <td>0</td>\n",
              "      <td>0</td>\n",
              "      <td>0</td>\n",
              "      <td>0</td>\n",
              "      <td>0</td>\n",
              "      <td>0</td>\n",
              "      <td>0</td>\n",
              "      <td>0</td>\n",
              "      <td>0</td>\n",
              "      <td>0</td>\n",
              "      <td>0</td>\n",
              "      <td>0</td>\n",
              "      <td>0</td>\n",
              "      <td>0</td>\n",
              "      <td>0</td>\n",
              "      <td>0</td>\n",
              "      <td>0</td>\n",
              "      <td>0</td>\n",
              "      <td>0</td>\n",
              "    </tr>\n",
              "    <tr>\n",
              "      <th>3</th>\n",
              "      <td>0</td>\n",
              "      <td>0</td>\n",
              "      <td>0</td>\n",
              "      <td>0</td>\n",
              "      <td>1</td>\n",
              "      <td>0</td>\n",
              "      <td>0</td>\n",
              "      <td>0</td>\n",
              "      <td>0</td>\n",
              "      <td>0</td>\n",
              "      <td>0</td>\n",
              "      <td>0</td>\n",
              "      <td>0</td>\n",
              "      <td>0</td>\n",
              "      <td>0</td>\n",
              "      <td>0</td>\n",
              "      <td>0</td>\n",
              "      <td>0</td>\n",
              "      <td>0</td>\n",
              "      <td>0</td>\n",
              "      <td>0</td>\n",
              "      <td>0</td>\n",
              "      <td>0</td>\n",
              "      <td>0</td>\n",
              "      <td>0</td>\n",
              "      <td>0</td>\n",
              "      <td>0</td>\n",
              "      <td>0</td>\n",
              "      <td>0</td>\n",
              "      <td>0</td>\n",
              "      <td>0</td>\n",
              "      <td>0</td>\n",
              "      <td>0</td>\n",
              "      <td>0</td>\n",
              "      <td>0</td>\n",
              "      <td>0</td>\n",
              "      <td>0</td>\n",
              "      <td>0</td>\n",
              "      <td>0</td>\n",
              "      <td>0</td>\n",
              "      <td>0</td>\n",
              "      <td>0</td>\n",
              "      <td>0</td>\n",
              "      <td>0</td>\n",
              "      <td>0</td>\n",
              "      <td>0</td>\n",
              "      <td>0</td>\n",
              "      <td>0</td>\n",
              "      <td>0</td>\n",
              "      <td>0</td>\n",
              "      <td>0</td>\n",
              "      <td>0</td>\n",
              "      <td>0</td>\n",
              "      <td>0</td>\n",
              "      <td>0</td>\n",
              "      <td>0</td>\n",
              "      <td>0</td>\n",
              "    </tr>\n",
              "    <tr>\n",
              "      <th>4</th>\n",
              "      <td>0</td>\n",
              "      <td>0</td>\n",
              "      <td>0</td>\n",
              "      <td>0</td>\n",
              "      <td>0</td>\n",
              "      <td>0</td>\n",
              "      <td>0</td>\n",
              "      <td>0</td>\n",
              "      <td>0</td>\n",
              "      <td>0</td>\n",
              "      <td>0</td>\n",
              "      <td>0</td>\n",
              "      <td>0</td>\n",
              "      <td>0</td>\n",
              "      <td>0</td>\n",
              "      <td>0</td>\n",
              "      <td>0</td>\n",
              "      <td>0</td>\n",
              "      <td>0</td>\n",
              "      <td>0</td>\n",
              "      <td>0</td>\n",
              "      <td>0</td>\n",
              "      <td>0</td>\n",
              "      <td>0</td>\n",
              "      <td>0</td>\n",
              "      <td>0</td>\n",
              "      <td>0</td>\n",
              "      <td>0</td>\n",
              "      <td>0</td>\n",
              "      <td>0</td>\n",
              "      <td>0</td>\n",
              "      <td>0</td>\n",
              "      <td>0</td>\n",
              "      <td>0</td>\n",
              "      <td>0</td>\n",
              "      <td>0</td>\n",
              "      <td>1</td>\n",
              "      <td>0</td>\n",
              "      <td>0</td>\n",
              "      <td>0</td>\n",
              "      <td>0</td>\n",
              "      <td>0</td>\n",
              "      <td>0</td>\n",
              "      <td>0</td>\n",
              "      <td>0</td>\n",
              "      <td>0</td>\n",
              "      <td>0</td>\n",
              "      <td>0</td>\n",
              "      <td>0</td>\n",
              "      <td>0</td>\n",
              "      <td>0</td>\n",
              "      <td>0</td>\n",
              "      <td>0</td>\n",
              "      <td>0</td>\n",
              "      <td>0</td>\n",
              "      <td>0</td>\n",
              "      <td>0</td>\n",
              "    </tr>\n",
              "  </tbody>\n",
              "</table>\n",
              "</div>"
            ],
            "text/plain": [
              "   ORGANIZATION_TYPE_Agriculture  ORGANIZATION_TYPE_Bank  ORGANIZATION_TYPE_Business Entity Type 1  ORGANIZATION_TYPE_Business Entity Type 2  ORGANIZATION_TYPE_Business Entity Type 3  ORGANIZATION_TYPE_Cleaning  ORGANIZATION_TYPE_Construction  ORGANIZATION_TYPE_Culture  ORGANIZATION_TYPE_Electricity  ORGANIZATION_TYPE_Emergency  ORGANIZATION_TYPE_Government  ORGANIZATION_TYPE_Hotel  ORGANIZATION_TYPE_Housing  ORGANIZATION_TYPE_Industry: type 1  ORGANIZATION_TYPE_Industry: type 10  ORGANIZATION_TYPE_Industry: type 11  ORGANIZATION_TYPE_Industry: type 12  ORGANIZATION_TYPE_Industry: type 13  ORGANIZATION_TYPE_Industry: type 2  ORGANIZATION_TYPE_Industry: type 3  ORGANIZATION_TYPE_Industry: type 4  ORGANIZATION_TYPE_Industry: type 5  ORGANIZATION_TYPE_Industry: type 6  ORGANIZATION_TYPE_Industry: type 7  ORGANIZATION_TYPE_Industry: type 8  ORGANIZATION_TYPE_Industry: type 9  ORGANIZATION_TYPE_Insurance  ORGANIZATION_TYPE_Kindergarten  ORGANIZATION_TYPE_Legal Services  \\\n",
              "0                              0                       0                                         0                                         0                                         1                           0                               0                          0                              0                            0                             0                        0                          0                                   0                                    0                                    0                                    0                                    0                                   0                                   0                                   0                                   0                                   0                                   0                                   0                                   0                            0                               0                                 0   \n",
              "1                              0                       0                                         0                                         0                                         0                           0                               0                          0                              0                            0                             0                        0                          0                                   0                                    0                                    0                                    0                                    0                                   0                                   0                                   0                                   0                                   0                                   0                                   0                                   0                            0                               0                                 0   \n",
              "2                              0                       0                                         0                                         0                                         0                           0                               0                          0                              0                            0                             1                        0                          0                                   0                                    0                                    0                                    0                                    0                                   0                                   0                                   0                                   0                                   0                                   0                                   0                                   0                            0                               0                                 0   \n",
              "3                              0                       0                                         0                                         0                                         1                           0                               0                          0                              0                            0                             0                        0                          0                                   0                                    0                                    0                                    0                                    0                                   0                                   0                                   0                                   0                                   0                                   0                                   0                                   0                            0                               0                                 0   \n",
              "4                              0                       0                                         0                                         0                                         0                           0                               0                          0                              0                            0                             0                        0                          0                                   0                                    0                                    0                                    0                                    0                                   0                                   0                                   0                                   0                                   0                                   0                                   0                                   0                            0                               0                                 0   \n",
              "\n",
              "   ORGANIZATION_TYPE_Medicine  ORGANIZATION_TYPE_Military  ORGANIZATION_TYPE_Mobile  ORGANIZATION_TYPE_Other  ORGANIZATION_TYPE_Police  ORGANIZATION_TYPE_Postal  ORGANIZATION_TYPE_Realtor  ORGANIZATION_TYPE_Religion  ORGANIZATION_TYPE_Restaurant  ORGANIZATION_TYPE_School  ORGANIZATION_TYPE_Security  ORGANIZATION_TYPE_Security Ministries  ORGANIZATION_TYPE_Self-employed  ORGANIZATION_TYPE_Services  ORGANIZATION_TYPE_Telecom  ORGANIZATION_TYPE_Trade: type 1  ORGANIZATION_TYPE_Trade: type 2  ORGANIZATION_TYPE_Trade: type 3  ORGANIZATION_TYPE_Trade: type 4  ORGANIZATION_TYPE_Trade: type 5  ORGANIZATION_TYPE_Trade: type 6  ORGANIZATION_TYPE_Trade: type 7  ORGANIZATION_TYPE_Transport: type 1  ORGANIZATION_TYPE_Transport: type 2  ORGANIZATION_TYPE_Transport: type 3  ORGANIZATION_TYPE_Transport: type 4  ORGANIZATION_TYPE_University  ORGANIZATION_TYPE_XNA  \n",
              "0                           0                           0                         0                        0                         0                         0                          0                           0                             0                         0                           0                                      0                                0                           0                          0                                0                                0                                0                                0                                0                                0                                0                                    0                                    0                                    0                                    0                             0                      0  \n",
              "1                           0                           0                         0                        0                         0                         0                          0                           0                             0                         1                           0                                      0                                0                           0                          0                                0                                0                                0                                0                                0                                0                                0                                    0                                    0                                    0                                    0                             0                      0  \n",
              "2                           0                           0                         0                        0                         0                         0                          0                           0                             0                         0                           0                                      0                                0                           0                          0                                0                                0                                0                                0                                0                                0                                0                                    0                                    0                                    0                                    0                             0                      0  \n",
              "3                           0                           0                         0                        0                         0                         0                          0                           0                             0                         0                           0                                      0                                0                           0                          0                                0                                0                                0                                0                                0                                0                                0                                    0                                    0                                    0                                    0                             0                      0  \n",
              "4                           0                           0                         0                        0                         0                         0                          0                           1                             0                         0                           0                                      0                                0                           0                          0                                0                                0                                0                                0                                0                                0                                0                                    0                                    0                                    0                                    0                             0                      0  "
            ]
          },
          "metadata": {
            "tags": []
          },
          "execution_count": 148
        }
      ]
    },
    {
      "cell_type": "code",
      "metadata": {
        "id": "a5QjXJevXyTV"
      },
      "source": [
        "data1 = df.copy()"
      ],
      "execution_count": 36,
      "outputs": []
    },
    {
      "cell_type": "code",
      "metadata": {
        "id": "CpvuLugUzN1N"
      },
      "source": [
        "# I will remove columns in steps in case you want to keep some of the groups"
      ],
      "execution_count": 37,
      "outputs": []
    },
    {
      "cell_type": "code",
      "metadata": {
        "id": "_2DmKwxXzN1N"
      },
      "source": [
        "# dropping columns - apartment/house features\n",
        "data1 = df.drop(['APARTMENTS_AVG',\n",
        "       'BASEMENTAREA_AVG', 'YEARS_BEGINEXPLUATATION_AVG',\n",
        "       'YEARS_BUILD_AVG', 'COMMONAREA_AVG', 'ELEVATORS_AVG',\n",
        "       'ENTRANCES_AVG', 'FLOORSMAX_AVG', 'FLOORSMIN_AVG', 'LANDAREA_AVG',\n",
        "       'LIVINGAPARTMENTS_AVG', 'LIVINGAREA_AVG',\n",
        "       'NONLIVINGAPARTMENTS_AVG', 'NONLIVINGAREA_AVG', 'APARTMENTS_MODE',\n",
        "       'BASEMENTAREA_MODE', 'YEARS_BEGINEXPLUATATION_MODE',\n",
        "       'YEARS_BUILD_MODE', 'COMMONAREA_MODE', 'ELEVATORS_MODE',\n",
        "       'ENTRANCES_MODE', 'FLOORSMAX_MODE', 'FLOORSMIN_MODE',\n",
        "       'LANDAREA_MODE', 'LIVINGAPARTMENTS_MODE', 'LIVINGAREA_MODE',\n",
        "       'NONLIVINGAPARTMENTS_MODE', 'NONLIVINGAREA_MODE',\n",
        "       'APARTMENTS_MEDI', 'BASEMENTAREA_MEDI',\n",
        "       'YEARS_BEGINEXPLUATATION_MEDI', 'YEARS_BUILD_MEDI',\n",
        "       'COMMONAREA_MEDI', 'ELEVATORS_MEDI', 'ENTRANCES_MEDI',\n",
        "       'FLOORSMAX_MEDI', 'FLOORSMIN_MEDI', 'LANDAREA_MEDI',\n",
        "       'LIVINGAPARTMENTS_MEDI', 'LIVINGAREA_MEDI',\n",
        "       'NONLIVINGAPARTMENTS_MEDI', 'NONLIVINGAREA_MEDI',\n",
        "       'FONDKAPREMONT_MODE', 'HOUSETYPE_MODE', 'TOTALAREA_MODE',\n",
        "       'WALLSMATERIAL_MODE', 'EMERGENCYSTATE_MODE'\n",
        "       ], axis=1)"
      ],
      "execution_count": 38,
      "outputs": []
    },
    {
      "cell_type": "code",
      "metadata": {
        "id": "qnuhsXAizN1O"
      },
      "source": [
        "# dropping columns - coded FLAGS features\n",
        "data1 = data1.drop(['FLAG_DOCUMENT_2', 'FLAG_DOCUMENT_3',\n",
        "       'FLAG_DOCUMENT_4', 'FLAG_DOCUMENT_5', 'FLAG_DOCUMENT_6',\n",
        "       'FLAG_DOCUMENT_7', 'FLAG_DOCUMENT_8', 'FLAG_DOCUMENT_9',\n",
        "       'FLAG_DOCUMENT_10', 'FLAG_DOCUMENT_11', 'FLAG_DOCUMENT_12',\n",
        "       'FLAG_DOCUMENT_13', 'FLAG_DOCUMENT_14', 'FLAG_DOCUMENT_15',\n",
        "       'FLAG_DOCUMENT_16', 'FLAG_DOCUMENT_17', 'FLAG_DOCUMENT_18',\n",
        "       'FLAG_DOCUMENT_19', 'FLAG_DOCUMENT_20', 'FLAG_DOCUMENT_21',\n",
        "       ], axis=1)"
      ],
      "execution_count": 39,
      "outputs": []
    },
    {
      "cell_type": "code",
      "metadata": {
        "id": "rfuXYPbBzN1O",
        "colab": {
          "base_uri": "https://localhost:8080/",
          "height": 35
        },
        "outputId": "619656e1-5295-4d71-ef58-5d4fcba8e018"
      },
      "source": [
        "# dropping columns - flags for contact information\n",
        "\"\"\"data1 = data1.drop(['FLAG_MOBIL', 'FLAG_EMP_PHONE', 'FLAG_WORK_PHONE',\n",
        "       'FLAG_CONT_MOBILE', 'FLAG_PHONE', 'FLAG_EMAIL'\n",
        "       ], axis=1)\"\"\""
      ],
      "execution_count": 40,
      "outputs": [
        {
          "output_type": "execute_result",
          "data": {
            "application/vnd.google.colaboratory.intrinsic+json": {
              "type": "string"
            },
            "text/plain": [
              "\"data1 = data1.drop(['FLAG_MOBIL', 'FLAG_EMP_PHONE', 'FLAG_WORK_PHONE',\\n       'FLAG_CONT_MOBILE', 'FLAG_PHONE', 'FLAG_EMAIL'\\n       ], axis=1)\""
            ]
          },
          "metadata": {
            "tags": []
          },
          "execution_count": 40
        }
      ]
    },
    {
      "cell_type": "code",
      "metadata": {
        "id": "AwSW2vo1zN1O"
      },
      "source": [
        "# I will also drop the columns that doesnt't make sense\n",
        "data1 = data1.drop(['WEEKDAY_APPR_PROCESS_START', 'HOUR_APPR_PROCESS_START'\n",
        "       ], axis=1)"
      ],
      "execution_count": 41,
      "outputs": []
    },
    {
      "cell_type": "code",
      "metadata": {
        "colab": {
          "base_uri": "https://localhost:8080/"
        },
        "id": "_v8HM4LRYyJX",
        "outputId": "dff4550b-300d-435d-a938-97fc958cb23e"
      },
      "source": [
        "data1.shape"
      ],
      "execution_count": 42,
      "outputs": [
        {
          "output_type": "execute_result",
          "data": {
            "text/plain": [
              "(307511, 52)"
            ]
          },
          "metadata": {
            "tags": []
          },
          "execution_count": 42
        }
      ]
    },
    {
      "cell_type": "code",
      "metadata": {
        "id": "lWgv5Z7lzN1P"
      },
      "source": [
        "# dropping columns\n",
        "data1 = data1.drop(['OWN_CAR_AGE'\n",
        "       ], axis=1)"
      ],
      "execution_count": 43,
      "outputs": []
    },
    {
      "cell_type": "code",
      "metadata": {
        "id": "z-rwOOMlzN1P",
        "colab": {
          "base_uri": "https://localhost:8080/"
        },
        "outputId": "af26c72b-f7df-4c2d-a5f3-26544a2e6eda"
      },
      "source": [
        "data1.OCCUPATION_TYPE.isnull().sum()"
      ],
      "execution_count": 44,
      "outputs": [
        {
          "output_type": "execute_result",
          "data": {
            "text/plain": [
              "96391"
            ]
          },
          "metadata": {
            "tags": []
          },
          "execution_count": 44
        }
      ]
    },
    {
      "cell_type": "code",
      "metadata": {
        "id": "x31Kd0y3zN1P"
      },
      "source": [
        "# I will also drop OCCUPATION_TYPE because too many missing values\n",
        "data1 = data1.drop(['OCCUPATION_TYPE'\n",
        "       ], axis=1)"
      ],
      "execution_count": 45,
      "outputs": []
    },
    {
      "cell_type": "code",
      "metadata": {
        "colab": {
          "base_uri": "https://localhost:8080/"
        },
        "id": "IZWE20E6ZZeh",
        "outputId": "b0422ed3-df48-4903-d793-9b8e100ef9a7"
      },
      "source": [
        "data1.shape"
      ],
      "execution_count": 46,
      "outputs": [
        {
          "output_type": "execute_result",
          "data": {
            "text/plain": [
              "(307511, 50)"
            ]
          },
          "metadata": {
            "tags": []
          },
          "execution_count": 46
        }
      ]
    },
    {
      "cell_type": "code",
      "metadata": {
        "id": "kRWi7Z5CZa74"
      },
      "source": [
        ""
      ],
      "execution_count": 46,
      "outputs": []
    },
    {
      "cell_type": "code",
      "metadata": {
        "id": "NTggUMFDIW6k",
        "colab": {
          "base_uri": "https://localhost:8080/"
        },
        "outputId": "a268cce7-93e1-4bb8-ced5-e36e6edb2252"
      },
      "source": [
        "# select the first 39 columns from dataset\n",
        "filtered = data1.copy()\n",
        "\n",
        "filtered.columns"
      ],
      "execution_count": 47,
      "outputs": [
        {
          "output_type": "execute_result",
          "data": {
            "text/plain": [
              "Index(['TARGET', 'NAME_CONTRACT_TYPE', 'CODE_GENDER', 'FLAG_OWN_CAR', 'FLAG_OWN_REALTY', 'CNT_CHILDREN', 'AMT_INCOME_TOTAL', 'AMT_CREDIT', 'AMT_ANNUITY', 'AMT_GOODS_PRICE', 'NAME_TYPE_SUITE', 'NAME_INCOME_TYPE', 'NAME_EDUCATION_TYPE', 'NAME_FAMILY_STATUS', 'NAME_HOUSING_TYPE', 'REGION_POPULATION_RELATIVE', 'DAYS_BIRTH', 'DAYS_EMPLOYED', 'DAYS_REGISTRATION', 'DAYS_ID_PUBLISH', 'FLAG_MOBIL', 'FLAG_EMP_PHONE', 'FLAG_WORK_PHONE', 'FLAG_CONT_MOBILE', 'FLAG_PHONE', 'FLAG_EMAIL', 'CNT_FAM_MEMBERS', 'REGION_RATING_CLIENT', 'REGION_RATING_CLIENT_W_CITY', 'REG_REGION_NOT_LIVE_REGION', 'REG_REGION_NOT_WORK_REGION', 'LIVE_REGION_NOT_WORK_REGION', 'REG_CITY_NOT_LIVE_CITY', 'REG_CITY_NOT_WORK_CITY', 'LIVE_CITY_NOT_WORK_CITY', 'ORGANIZATION_TYPE', 'EXT_SOURCE_1', 'EXT_SOURCE_2', 'EXT_SOURCE_3', 'OBS_30_CNT_SOCIAL_CIRCLE', 'DEF_30_CNT_SOCIAL_CIRCLE', 'OBS_60_CNT_SOCIAL_CIRCLE', 'DEF_60_CNT_SOCIAL_CIRCLE', 'DAYS_LAST_PHONE_CHANGE', 'AMT_REQ_CREDIT_BUREAU_HOUR', 'AMT_REQ_CREDIT_BUREAU_DAY',\n",
              "       'AMT_REQ_CREDIT_BUREAU_WEEK', 'AMT_REQ_CREDIT_BUREAU_MON', 'AMT_REQ_CREDIT_BUREAU_QRT', 'AMT_REQ_CREDIT_BUREAU_YEAR'],\n",
              "      dtype='object')"
            ]
          },
          "metadata": {
            "tags": []
          },
          "execution_count": 47
        }
      ]
    },
    {
      "cell_type": "code",
      "metadata": {
        "colab": {
          "base_uri": "https://localhost:8080/"
        },
        "id": "IEu3GNIWYNYQ",
        "outputId": "c07124d4-b7d4-4855-bfbf-fdb9dbed0a91"
      },
      "source": [
        "filtered.shape"
      ],
      "execution_count": 48,
      "outputs": [
        {
          "output_type": "execute_result",
          "data": {
            "text/plain": [
              "(307511, 50)"
            ]
          },
          "metadata": {
            "tags": []
          },
          "execution_count": 48
        }
      ]
    },
    {
      "cell_type": "code",
      "metadata": {
        "id": "vpIIOoX_IW6m"
      },
      "source": [
        "# extract columns names with numeric data.\n",
        "numeric_vars = filtered.select_dtypes(include=np.number).columns.tolist() \n",
        "\n",
        "filtered[numeric_vars]=filtered[numeric_vars].fillna(filtered[numeric_vars].median())"
      ],
      "execution_count": 49,
      "outputs": []
    },
    {
      "cell_type": "code",
      "metadata": {
        "id": "OCLwojivIW6m"
      },
      "source": [
        "cat_vars = [var for var in filtered.columns if var in ['FLAG_OWN_CAR', 'FLAG_OWN_REALTY', \n",
        "                                                       'NAME_INCOME_TYPE', 'NAME_EDUCATION_TYPE', 'NAME_FAMILY_STATUS',\n",
        "                                                       'NAME_TYPE_SUITE', 'NAME_HOUSING_TYPE', 'WEEKDAY_APPR_PROCESS_START',\n",
        "                                                       'NAME_CONTRACT_TYPE', 'CODE_GENDER', 'ORGANIZATION_TYPE'\n",
        "                                                      ]]\n",
        "for var in cat_vars:\n",
        "    df = pd.get_dummies(filtered[var], prefix = var, drop_first = True) \n",
        "    filtered = pd.concat([filtered, df], axis = 1)\n",
        "    del filtered[var] "
      ],
      "execution_count": 50,
      "outputs": []
    },
    {
      "cell_type": "code",
      "metadata": {
        "colab": {
          "base_uri": "https://localhost:8080/"
        },
        "id": "nVpLFUC9YUVB",
        "outputId": "d030e53d-5721-41db-9168-fbd26e436e5d"
      },
      "source": [
        "filtered.shape"
      ],
      "execution_count": 51,
      "outputs": [
        {
          "output_type": "execute_result",
          "data": {
            "text/plain": [
              "(307511, 129)"
            ]
          },
          "metadata": {
            "tags": []
          },
          "execution_count": 51
        }
      ]
    },
    {
      "cell_type": "code",
      "metadata": {
        "id": "FtOHpbb4IW6n"
      },
      "source": [
        ""
      ],
      "execution_count": 52,
      "outputs": []
    },
    {
      "cell_type": "code",
      "metadata": {
        "id": "7B2eGK89IW6n"
      },
      "source": [
        "x = filtered.drop(['TARGET'], axis = 1)\n",
        "y = filtered['TARGET']"
      ],
      "execution_count": 53,
      "outputs": []
    },
    {
      "cell_type": "code",
      "metadata": {
        "id": "sa5tZZ5T3wKW"
      },
      "source": [
        "columns = x.columns"
      ],
      "execution_count": 54,
      "outputs": []
    },
    {
      "cell_type": "code",
      "metadata": {
        "id": "tirk4wU6IW6o"
      },
      "source": [
        "# oversample = SMOTE()\n",
        "# x, y = oversample.fit_resample(x, y)"
      ],
      "execution_count": 55,
      "outputs": []
    },
    {
      "cell_type": "code",
      "metadata": {
        "id": "UJnlBIM5y-Tv"
      },
      "source": [
        ""
      ],
      "execution_count": 55,
      "outputs": []
    },
    {
      "cell_type": "code",
      "metadata": {
        "id": "ttf0o6qT1WOQ",
        "colab": {
          "base_uri": "https://localhost:8080/"
        },
        "outputId": "96d480a7-0de5-41b7-8153-3ace64f28844"
      },
      "source": [
        "x_train.shape"
      ],
      "execution_count": 58,
      "outputs": [
        {
          "output_type": "execute_result",
          "data": {
            "text/plain": [
              "(215257, 128)"
            ]
          },
          "metadata": {
            "tags": []
          },
          "execution_count": 58
        }
      ]
    },
    {
      "cell_type": "code",
      "metadata": {
        "id": "bFpwAL1tIW6o"
      },
      "source": [
        "x_train, x_valid, y_train, y_valid = train_test_split(x, y, test_size = 0.3, random_state = 42)"
      ],
      "execution_count": 57,
      "outputs": []
    },
    {
      "cell_type": "code",
      "metadata": {
        "colab": {
          "base_uri": "https://localhost:8080/"
        },
        "id": "R7XlhqfiZrfD",
        "outputId": "cbf73ffd-fbbd-460c-8f0b-21352d86d071"
      },
      "source": [
        "x_train.dtypes"
      ],
      "execution_count": 59,
      "outputs": [
        {
          "output_type": "execute_result",
          "data": {
            "text/plain": [
              "CNT_CHILDREN                                           int64\n",
              "AMT_INCOME_TOTAL                                     float64\n",
              "AMT_CREDIT                                           float64\n",
              "AMT_ANNUITY                                          float64\n",
              "AMT_GOODS_PRICE                                      float64\n",
              "REGION_POPULATION_RELATIVE                           float64\n",
              "DAYS_BIRTH                                             int64\n",
              "DAYS_EMPLOYED                                          int64\n",
              "DAYS_REGISTRATION                                    float64\n",
              "DAYS_ID_PUBLISH                                        int64\n",
              "FLAG_MOBIL                                             int64\n",
              "FLAG_EMP_PHONE                                         int64\n",
              "FLAG_WORK_PHONE                                        int64\n",
              "FLAG_CONT_MOBILE                                       int64\n",
              "FLAG_PHONE                                             int64\n",
              "FLAG_EMAIL                                             int64\n",
              "CNT_FAM_MEMBERS                                      float64\n",
              "REGION_RATING_CLIENT                                   int64\n",
              "REGION_RATING_CLIENT_W_CITY                            int64\n",
              "REG_REGION_NOT_LIVE_REGION                             int64\n",
              "REG_REGION_NOT_WORK_REGION                             int64\n",
              "LIVE_REGION_NOT_WORK_REGION                            int64\n",
              "REG_CITY_NOT_LIVE_CITY                                 int64\n",
              "REG_CITY_NOT_WORK_CITY                                 int64\n",
              "LIVE_CITY_NOT_WORK_CITY                                int64\n",
              "EXT_SOURCE_1                                         float64\n",
              "EXT_SOURCE_2                                         float64\n",
              "EXT_SOURCE_3                                         float64\n",
              "OBS_30_CNT_SOCIAL_CIRCLE                             float64\n",
              "DEF_30_CNT_SOCIAL_CIRCLE                             float64\n",
              "OBS_60_CNT_SOCIAL_CIRCLE                             float64\n",
              "DEF_60_CNT_SOCIAL_CIRCLE                             float64\n",
              "DAYS_LAST_PHONE_CHANGE                               float64\n",
              "AMT_REQ_CREDIT_BUREAU_HOUR                           float64\n",
              "AMT_REQ_CREDIT_BUREAU_DAY                            float64\n",
              "AMT_REQ_CREDIT_BUREAU_WEEK                           float64\n",
              "AMT_REQ_CREDIT_BUREAU_MON                            float64\n",
              "AMT_REQ_CREDIT_BUREAU_QRT                            float64\n",
              "AMT_REQ_CREDIT_BUREAU_YEAR                           float64\n",
              "NAME_CONTRACT_TYPE_Revolving loans                     uint8\n",
              "CODE_GENDER_M                                          uint8\n",
              "CODE_GENDER_XNA                                        uint8\n",
              "FLAG_OWN_CAR_Y                                         uint8\n",
              "FLAG_OWN_REALTY_Y                                      uint8\n",
              "NAME_TYPE_SUITE_Family                                 uint8\n",
              "NAME_TYPE_SUITE_Group of people                        uint8\n",
              "NAME_TYPE_SUITE_Other_A                                uint8\n",
              "NAME_TYPE_SUITE_Other_B                                uint8\n",
              "NAME_TYPE_SUITE_Spouse, partner                        uint8\n",
              "NAME_TYPE_SUITE_Unaccompanied                          uint8\n",
              "NAME_INCOME_TYPE_Commercial associate                  uint8\n",
              "NAME_INCOME_TYPE_Maternity leave                       uint8\n",
              "NAME_INCOME_TYPE_Pensioner                             uint8\n",
              "NAME_INCOME_TYPE_State servant                         uint8\n",
              "NAME_INCOME_TYPE_Student                               uint8\n",
              "NAME_INCOME_TYPE_Unemployed                            uint8\n",
              "NAME_INCOME_TYPE_Working                               uint8\n",
              "NAME_EDUCATION_TYPE_Higher education                   uint8\n",
              "NAME_EDUCATION_TYPE_Incomplete higher                  uint8\n",
              "NAME_EDUCATION_TYPE_Lower secondary                    uint8\n",
              "NAME_EDUCATION_TYPE_Secondary / secondary special      uint8\n",
              "NAME_FAMILY_STATUS_Married                             uint8\n",
              "NAME_FAMILY_STATUS_Separated                           uint8\n",
              "NAME_FAMILY_STATUS_Single / not married                uint8\n",
              "NAME_FAMILY_STATUS_Unknown                             uint8\n",
              "NAME_FAMILY_STATUS_Widow                               uint8\n",
              "NAME_HOUSING_TYPE_House / apartment                    uint8\n",
              "NAME_HOUSING_TYPE_Municipal apartment                  uint8\n",
              "NAME_HOUSING_TYPE_Office apartment                     uint8\n",
              "NAME_HOUSING_TYPE_Rented apartment                     uint8\n",
              "NAME_HOUSING_TYPE_With parents                         uint8\n",
              "ORGANIZATION_TYPE_Agriculture                          uint8\n",
              "ORGANIZATION_TYPE_Bank                                 uint8\n",
              "ORGANIZATION_TYPE_Business Entity Type 1               uint8\n",
              "ORGANIZATION_TYPE_Business Entity Type 2               uint8\n",
              "ORGANIZATION_TYPE_Business Entity Type 3               uint8\n",
              "ORGANIZATION_TYPE_Cleaning                             uint8\n",
              "ORGANIZATION_TYPE_Construction                         uint8\n",
              "ORGANIZATION_TYPE_Culture                              uint8\n",
              "ORGANIZATION_TYPE_Electricity                          uint8\n",
              "ORGANIZATION_TYPE_Emergency                            uint8\n",
              "ORGANIZATION_TYPE_Government                           uint8\n",
              "ORGANIZATION_TYPE_Hotel                                uint8\n",
              "ORGANIZATION_TYPE_Housing                              uint8\n",
              "ORGANIZATION_TYPE_Industry: type 1                     uint8\n",
              "ORGANIZATION_TYPE_Industry: type 10                    uint8\n",
              "ORGANIZATION_TYPE_Industry: type 11                    uint8\n",
              "ORGANIZATION_TYPE_Industry: type 12                    uint8\n",
              "ORGANIZATION_TYPE_Industry: type 13                    uint8\n",
              "ORGANIZATION_TYPE_Industry: type 2                     uint8\n",
              "ORGANIZATION_TYPE_Industry: type 3                     uint8\n",
              "ORGANIZATION_TYPE_Industry: type 4                     uint8\n",
              "ORGANIZATION_TYPE_Industry: type 5                     uint8\n",
              "ORGANIZATION_TYPE_Industry: type 6                     uint8\n",
              "ORGANIZATION_TYPE_Industry: type 7                     uint8\n",
              "ORGANIZATION_TYPE_Industry: type 8                     uint8\n",
              "ORGANIZATION_TYPE_Industry: type 9                     uint8\n",
              "ORGANIZATION_TYPE_Insurance                            uint8\n",
              "ORGANIZATION_TYPE_Kindergarten                         uint8\n",
              "ORGANIZATION_TYPE_Legal Services                       uint8\n",
              "ORGANIZATION_TYPE_Medicine                             uint8\n",
              "ORGANIZATION_TYPE_Military                             uint8\n",
              "ORGANIZATION_TYPE_Mobile                               uint8\n",
              "ORGANIZATION_TYPE_Other                                uint8\n",
              "ORGANIZATION_TYPE_Police                               uint8\n",
              "ORGANIZATION_TYPE_Postal                               uint8\n",
              "ORGANIZATION_TYPE_Realtor                              uint8\n",
              "ORGANIZATION_TYPE_Religion                             uint8\n",
              "ORGANIZATION_TYPE_Restaurant                           uint8\n",
              "ORGANIZATION_TYPE_School                               uint8\n",
              "ORGANIZATION_TYPE_Security                             uint8\n",
              "ORGANIZATION_TYPE_Security Ministries                  uint8\n",
              "ORGANIZATION_TYPE_Self-employed                        uint8\n",
              "ORGANIZATION_TYPE_Services                             uint8\n",
              "ORGANIZATION_TYPE_Telecom                              uint8\n",
              "ORGANIZATION_TYPE_Trade: type 1                        uint8\n",
              "ORGANIZATION_TYPE_Trade: type 2                        uint8\n",
              "ORGANIZATION_TYPE_Trade: type 3                        uint8\n",
              "ORGANIZATION_TYPE_Trade: type 4                        uint8\n",
              "ORGANIZATION_TYPE_Trade: type 5                        uint8\n",
              "ORGANIZATION_TYPE_Trade: type 6                        uint8\n",
              "ORGANIZATION_TYPE_Trade: type 7                        uint8\n",
              "ORGANIZATION_TYPE_Transport: type 1                    uint8\n",
              "ORGANIZATION_TYPE_Transport: type 2                    uint8\n",
              "ORGANIZATION_TYPE_Transport: type 3                    uint8\n",
              "ORGANIZATION_TYPE_Transport: type 4                    uint8\n",
              "ORGANIZATION_TYPE_University                           uint8\n",
              "ORGANIZATION_TYPE_XNA                                  uint8\n",
              "dtype: object"
            ]
          },
          "metadata": {
            "tags": []
          },
          "execution_count": 59
        }
      ]
    },
    {
      "cell_type": "markdown",
      "metadata": {
        "id": "zXvwouq3Z94Z"
      },
      "source": [
        "# Logistic Regression"
      ]
    },
    {
      "cell_type": "code",
      "metadata": {
        "id": "ZUpuyOasIW6o"
      },
      "source": [
        "# standardize the columns in train/validation datasets\n",
        "for field in x_train.columns:\n",
        "    standard_dev = x_train[field].std()\n",
        "    mean = x_train[field].mean()\n",
        "    \n",
        "    x_train[field] = (x_train[field] - mean) / standard_dev\n",
        "    x_valid[field] = (x_valid[field] - mean) / standard_dev"
      ],
      "execution_count": 93,
      "outputs": []
    },
    {
      "cell_type": "code",
      "metadata": {
        "id": "co8KBTYxIW6p",
        "colab": {
          "base_uri": "https://localhost:8080/"
        },
        "outputId": "9ad78b59-e477-46c1-83ef-fb3739669814"
      },
      "source": [
        "# fit logistic model\n",
        "logit_model = LogisticRegression(random_state=0).fit(x_train, y_train)\n",
        "\n",
        "# predict target from x_train/x_val dataset\n",
        "y_train_pred = logit_model.predict(x_train)\n",
        "y_val_pred = logit_model.predict(x_valid)\n",
        "\n",
        "# calculate accuracy in train and validation dataset\n",
        "print('accuracy in train dataset: ', metrics.accuracy_score(y_train, y_train_pred))\n",
        "print('accuracy in validation dataset: ',metrics.accuracy_score(y_valid, y_val_pred))\n",
        "\n",
        "# precision in train and validation dataset\n",
        "print('precision in train dataset: ', metrics.precision_score(y_train, y_train_pred))\n",
        "print('precision in validation dataset: ', metrics.precision_score(y_valid, y_val_pred))\n",
        "\n",
        "# recall in train and validation dataset\n",
        "print('recall in train dataset: ', metrics.recall_score(y_train, y_train_pred))\n",
        "print('recall in validation dataset: ', metrics.recall_score(y_valid, y_val_pred))\n",
        "\n",
        "# AUC\n",
        "y_train_prob = logit_model.predict_proba(x_train)\n",
        "y_val_prob = logit_model.predict_proba(x_valid)\n",
        "\n",
        "# AUC in train and validation dataset\n",
        "fpr, tpr, thresholds = metrics.roc_curve(y_train, y_train_prob[:,1], pos_label = 1)\n",
        "print('AUC in train dataset: ', metrics.auc(fpr, tpr))\n",
        "fpr, tpr, thresholds = metrics.roc_curve(y_valid, y_val_prob[:,1], pos_label = 1)\n",
        "print('AUC in validation dataset: ', metrics.auc(fpr, tpr))"
      ],
      "execution_count": 94,
      "outputs": [
        {
          "output_type": "stream",
          "text": [
            "accuracy in train dataset:  0.9191571005820949\n",
            "accuracy in validation dataset:  0.9194289678496326\n",
            "precision in train dataset:  0.5125628140703518\n",
            "precision in validation dataset:  0.44680851063829785\n",
            "recall in train dataset:  0.01171605789110958\n",
            "recall in validation dataset:  0.0113314447592068\n",
            "AUC in train dataset:  0.7458943450157413\n",
            "AUC in validation dataset:  0.7446268337439768\n"
          ],
          "name": "stdout"
        }
      ]
    },
    {
      "cell_type": "code",
      "metadata": {
        "id": "BJ0TkOcUIW6q"
      },
      "source": [
        "# map coefficient for each variable\n",
        "{col_name : coef for col_name, coef in zip(x_train.columns, logit_model.coef_[0])}"
      ],
      "execution_count": null,
      "outputs": []
    },
    {
      "cell_type": "code",
      "metadata": {
        "id": "20iEM3MWdqD7"
      },
      "source": [
        ""
      ],
      "execution_count": null,
      "outputs": []
    },
    {
      "cell_type": "markdown",
      "metadata": {
        "id": "BqSjmllW1861"
      },
      "source": [
        "# Decision Tree"
      ]
    },
    {
      "cell_type": "code",
      "metadata": {
        "id": "5iDtaiXbe0Zp"
      },
      "source": [
        "# Re-initiating training data as Trees don't need standardized data\n",
        "x_train, x_valid, y_train, y_valid = train_test_split(x, y, test_size = 0.3, random_state = 42)"
      ],
      "execution_count": 67,
      "outputs": []
    },
    {
      "cell_type": "code",
      "metadata": {
        "id": "e7TrjIR6IW6q"
      },
      "source": [
        "# # Used grid search / cross-validation to find the optimal set of parameters\n",
        "# parameters = {\"max_depth\":range(2, 8), \"min_samples_leaf\": range(5, 55, 5), \"min_samples_split\": range(10, 110, 5)}\n",
        "\n",
        "# clf = GridSearchCV(DecisionTreeClassifier(), parameters, n_jobs=4, scoring = \"roc_auc\", verbose=4)\n",
        "# clf.fit(x_train, y_train)\n",
        "\n",
        "# # best parameters\n",
        "# clf.best_estimator_\n",
        "\n",
        "# DecisionTreeClassifier(max_depth=5, min_samples_leaf=10, min_samples_split=95)"
      ],
      "execution_count": 68,
      "outputs": []
    },
    {
      "cell_type": "code",
      "metadata": {
        "colab": {
          "base_uri": "https://localhost:8080/"
        },
        "id": "_7_T7dhF29Of",
        "outputId": "ef0e4d40-d7b1-4447-f2b0-f6e832d0c3dd"
      },
      "source": [
        "clf = DecisionTreeClassifier(max_depth=5, min_samples_split=95, min_samples_leaf=10)\n",
        "clf.fit(x_train, y_train)"
      ],
      "execution_count": 69,
      "outputs": [
        {
          "output_type": "execute_result",
          "data": {
            "text/plain": [
              "DecisionTreeClassifier(ccp_alpha=0.0, class_weight=None, criterion='gini',\n",
              "                       max_depth=5, max_features=None, max_leaf_nodes=None,\n",
              "                       min_impurity_decrease=0.0, min_impurity_split=None,\n",
              "                       min_samples_leaf=10, min_samples_split=95,\n",
              "                       min_weight_fraction_leaf=0.0, presort='deprecated',\n",
              "                       random_state=None, splitter='best')"
            ]
          },
          "metadata": {
            "tags": []
          },
          "execution_count": 69
        }
      ]
    },
    {
      "cell_type": "code",
      "metadata": {
        "id": "fq9g5LDDIW6r",
        "colab": {
          "base_uri": "https://localhost:8080/"
        },
        "outputId": "d4206808-fdff-4789-fe9a-e7314230c242"
      },
      "source": [
        "y_train_pred = clf.predict(x_train)\n",
        "y_val_pred = clf.predict(x_valid)\n",
        "y_train_prob = clf.predict_proba(x_train)\n",
        "y_val_prob = clf.predict_proba(x_valid)\n",
        "print(\"Training accuracy: \", metrics.accuracy_score(y_train, y_train_pred))\n",
        "print(\"Validation accuracy: \", metrics.accuracy_score(y_valid, y_val_pred))\n",
        "print(\"\\n\")\n",
        "print(\"Training precision: \", metrics.precision_score(y_train, y_train_pred))\n",
        "print(\"Validation precision: \", metrics.precision_score(y_train, y_train_pred))\n",
        "print(\"\\n\")\n",
        "print(\"Training recall: \", metrics.recall_score(y_train, y_train_pred))\n",
        "print(\"Validation recall: \", metrics.recall_score(y_train, y_train_pred))\n",
        "print(\"\\n\")\n",
        "# auc\n",
        "fpr, tpr, thresholds = metrics.roc_curve(y_train, y_train_prob[:,1], pos_label = 1)\n",
        "print(\"Training AUC\", metrics.auc(fpr, tpr))\n",
        "fpr, tpr, thresholds = metrics.roc_curve(y_valid, y_val_prob[:,1], pos_label = 1)\n",
        "print(\"Validation AUC\", metrics.auc(fpr, tpr))"
      ],
      "execution_count": 70,
      "outputs": [
        {
          "output_type": "stream",
          "text": [
            "Training accuracy:  0.9191199357047622\n",
            "Validation accuracy:  0.9196674398942051\n",
            "\n",
            "\n",
            "Training precision:  0.6\n",
            "Validation precision:  0.6\n",
            "\n",
            "\n",
            "Training recall:  0.00034458993797381116\n",
            "Validation recall:  0.00034458993797381116\n",
            "\n",
            "\n",
            "Training AUC 0.7115133274390157\n",
            "Validation AUC 0.7067877757314385\n"
          ],
          "name": "stdout"
        }
      ]
    },
    {
      "cell_type": "code",
      "metadata": {
        "id": "qgeoLffzIW6r",
        "colab": {
          "base_uri": "https://localhost:8080/",
          "height": 288
        },
        "outputId": "644f77f3-312e-4061-b31b-dcd21119dbd7"
      },
      "source": [
        "# print out feature importance\n",
        "imp = pd.DataFrame()\n",
        "\n",
        "imp[\"var\"] = x_train.columns\n",
        "imp[\"imp\"] = clf.feature_importances_\n",
        "\n",
        "# sort the data frame by the feature importances in descending order - most important features at the top\n",
        "imp = imp.sort_values(\"imp\", ascending = False).reset_index(drop = True)\n",
        "\n",
        "# print out the data frame with imp greater than 0\n",
        "imp[imp['imp']>0]"
      ],
      "execution_count": 71,
      "outputs": [
        {
          "output_type": "execute_result",
          "data": {
            "text/html": [
              "<div>\n",
              "<style scoped>\n",
              "    .dataframe tbody tr th:only-of-type {\n",
              "        vertical-align: middle;\n",
              "    }\n",
              "\n",
              "    .dataframe tbody tr th {\n",
              "        vertical-align: top;\n",
              "    }\n",
              "\n",
              "    .dataframe thead th {\n",
              "        text-align: right;\n",
              "    }\n",
              "</style>\n",
              "<table border=\"1\" class=\"dataframe\">\n",
              "  <thead>\n",
              "    <tr style=\"text-align: right;\">\n",
              "      <th></th>\n",
              "      <th>var</th>\n",
              "      <th>imp</th>\n",
              "    </tr>\n",
              "  </thead>\n",
              "  <tbody>\n",
              "    <tr>\n",
              "      <th>0</th>\n",
              "      <td>EXT_SOURCE_3</td>\n",
              "      <td>0.479930</td>\n",
              "    </tr>\n",
              "    <tr>\n",
              "      <th>1</th>\n",
              "      <td>EXT_SOURCE_2</td>\n",
              "      <td>0.417819</td>\n",
              "    </tr>\n",
              "    <tr>\n",
              "      <th>2</th>\n",
              "      <td>EXT_SOURCE_1</td>\n",
              "      <td>0.057035</td>\n",
              "    </tr>\n",
              "    <tr>\n",
              "      <th>3</th>\n",
              "      <td>CODE_GENDER_M</td>\n",
              "      <td>0.031390</td>\n",
              "    </tr>\n",
              "    <tr>\n",
              "      <th>4</th>\n",
              "      <td>AMT_ANNUITY</td>\n",
              "      <td>0.004260</td>\n",
              "    </tr>\n",
              "    <tr>\n",
              "      <th>5</th>\n",
              "      <td>AMT_CREDIT</td>\n",
              "      <td>0.003518</td>\n",
              "    </tr>\n",
              "    <tr>\n",
              "      <th>6</th>\n",
              "      <td>REGION_RATING_CLIENT_W_CITY</td>\n",
              "      <td>0.003067</td>\n",
              "    </tr>\n",
              "    <tr>\n",
              "      <th>7</th>\n",
              "      <td>NAME_CONTRACT_TYPE_Revolving loans</td>\n",
              "      <td>0.002981</td>\n",
              "    </tr>\n",
              "  </tbody>\n",
              "</table>\n",
              "</div>"
            ],
            "text/plain": [
              "                                  var       imp\n",
              "0                        EXT_SOURCE_3  0.479930\n",
              "1                        EXT_SOURCE_2  0.417819\n",
              "2                        EXT_SOURCE_1  0.057035\n",
              "3                       CODE_GENDER_M  0.031390\n",
              "4                         AMT_ANNUITY  0.004260\n",
              "5                          AMT_CREDIT  0.003518\n",
              "6         REGION_RATING_CLIENT_W_CITY  0.003067\n",
              "7  NAME_CONTRACT_TYPE_Revolving loans  0.002981"
            ]
          },
          "metadata": {
            "tags": []
          },
          "execution_count": 71
        }
      ]
    },
    {
      "cell_type": "markdown",
      "metadata": {
        "id": "Zo-sUAfSIW6r"
      },
      "source": [
        "# XGBoost Model"
      ]
    },
    {
      "cell_type": "code",
      "metadata": {
        "id": "WFASkkaoqtne"
      },
      "source": [
        ""
      ],
      "execution_count": null,
      "outputs": []
    },
    {
      "cell_type": "code",
      "metadata": {
        "id": "5Xcur_b6qWgf"
      },
      "source": [
        "# parameters = {\n",
        "#         'max_depth': range(2, 6),\n",
        "#         'n_estimators': [50, 100, 150, 200, 250, 300],\n",
        "#         'subsample': [0.6, 0.7, 0.8],\n",
        "#         'colsample_bytree': [0.2, 0.4, 0.5, 0.6, 0.7, 0.8, 1],\n",
        "#         'colsample_bynode': [0.2, 0.4, 0.5, 0.6, 0.7, 0.8, 1],\n",
        "#         'gamma': [0, 5, 10, 15, 20],\n",
        "#         'learning_rate': [0.05, 0.1, 0.15, 0.2, 0.25, 0.3],\n",
        "#         'lambda': [0.1, 0.25, 0.5, 0.75, 1]\n",
        "# }\n",
        "\n",
        "# start = time.time() \n",
        "\n",
        "# clf = RandomizedSearchCV(xgb.XGBClassifier(use_label_encoder = False, eval_metric = \"logloss\"), \n",
        "#                          parameters, n_jobs=4, scoring = \"roc_auc\", n_iter = 120,\n",
        "#                          random_state = 123)\n",
        "\n",
        "# clf.fit(X_train, y_train)\n",
        "\n",
        "# end = time.time()\n",
        "\n",
        "# # print the number of seconds it takes to run the hyperparameter search\n",
        "# print(\"Total time in seconds ==> \", end - start)\n",
        "#clf.best_params_\n",
        "# {'subsample': 0.6,\n",
        "#  'n_estimators': 200,\n",
        "#  'max_depth': 5,\n",
        "#  'learning_rate': 0.3,\n",
        "#  'lambda': 1,\n",
        "#  'gamma': 0,\n",
        "#  'colsample_bytree': 0.8,\n",
        "#  'colsample_bynode': 1}"
      ],
      "execution_count": null,
      "outputs": []
    },
    {
      "cell_type": "code",
      "metadata": {
        "id": "X8-7yYHTpYZu"
      },
      "source": [
        "# Parameters calcualted using the randomized search above\n",
        "clf =xgb.XGBClassifier(use_label_encoder = False, eval_metric = \"logloss\",\n",
        "                                    subsample= 0.6, n_estimators= 200, max_depth= 5, \n",
        "                                    learning_rate= 0.3,gamma= 0, colsample_bytree= 0.8, \n",
        "                                    colsample_bynode= 1,reg_lambda=1)"
      ],
      "execution_count": 84,
      "outputs": []
    },
    {
      "cell_type": "code",
      "metadata": {
        "colab": {
          "base_uri": "https://localhost:8080/"
        },
        "id": "s146i5i0qz80",
        "outputId": "5405960a-afc6-4916-b9d2-2021ff513105"
      },
      "source": [
        "clf.fit(x_train, y_train)"
      ],
      "execution_count": 85,
      "outputs": [
        {
          "output_type": "execute_result",
          "data": {
            "text/plain": [
              "XGBClassifier(base_score=0.5, booster='gbtree', colsample_bylevel=1,\n",
              "              colsample_bynode=1, colsample_bytree=0.8, eval_metric='logloss',\n",
              "              gamma=0, learning_rate=0.3, max_delta_step=0, max_depth=5,\n",
              "              min_child_weight=1, missing=None, n_estimators=200, n_jobs=1,\n",
              "              nthread=None, objective='binary:logistic', random_state=0,\n",
              "              reg_alpha=0, reg_lambda=1, scale_pos_weight=1, seed=None,\n",
              "              silent=None, subsample=0.6, use_label_encoder=False, verbosity=1)"
            ]
          },
          "metadata": {
            "tags": []
          },
          "execution_count": 85
        }
      ]
    },
    {
      "cell_type": "code",
      "metadata": {
        "id": "_jisWMhnr16i"
      },
      "source": [
        ""
      ],
      "execution_count": null,
      "outputs": []
    },
    {
      "cell_type": "code",
      "metadata": {
        "id": "xiO54Uopq79G",
        "colab": {
          "base_uri": "https://localhost:8080/",
          "height": 1000
        },
        "outputId": "f108af5c-4c29-4f60-9fd4-56a9dcc077f6"
      },
      "source": [
        "imp = pd.DataFrame()\n",
        "\n",
        "# add a column for the variable names\n",
        "imp[\"var\"] = x_train.columns\n",
        "\n",
        "# add a column with the feature importances\n",
        "imp[\"imp\"] = clf.feature_importances_\n",
        "\n",
        "# sort the data frame by the feature importances in descending order - most important features at the top\n",
        "imp = imp.sort_values(\"imp\", ascending = False).reset_index(drop = True)\n",
        "\n",
        "# print out the data frame\n",
        "imp"
      ],
      "execution_count": 86,
      "outputs": [
        {
          "output_type": "execute_result",
          "data": {
            "text/html": [
              "<div>\n",
              "<style scoped>\n",
              "    .dataframe tbody tr th:only-of-type {\n",
              "        vertical-align: middle;\n",
              "    }\n",
              "\n",
              "    .dataframe tbody tr th {\n",
              "        vertical-align: top;\n",
              "    }\n",
              "\n",
              "    .dataframe thead th {\n",
              "        text-align: right;\n",
              "    }\n",
              "</style>\n",
              "<table border=\"1\" class=\"dataframe\">\n",
              "  <thead>\n",
              "    <tr style=\"text-align: right;\">\n",
              "      <th></th>\n",
              "      <th>var</th>\n",
              "      <th>imp</th>\n",
              "    </tr>\n",
              "  </thead>\n",
              "  <tbody>\n",
              "    <tr>\n",
              "      <th>0</th>\n",
              "      <td>EXT_SOURCE_3</td>\n",
              "      <td>0.024570</td>\n",
              "    </tr>\n",
              "    <tr>\n",
              "      <th>1</th>\n",
              "      <td>NAME_EDUCATION_TYPE_Higher education</td>\n",
              "      <td>0.020021</td>\n",
              "    </tr>\n",
              "    <tr>\n",
              "      <th>2</th>\n",
              "      <td>EXT_SOURCE_2</td>\n",
              "      <td>0.019671</td>\n",
              "    </tr>\n",
              "    <tr>\n",
              "      <th>3</th>\n",
              "      <td>FLAG_OWN_CAR_Y</td>\n",
              "      <td>0.018347</td>\n",
              "    </tr>\n",
              "    <tr>\n",
              "      <th>4</th>\n",
              "      <td>CODE_GENDER_M</td>\n",
              "      <td>0.017735</td>\n",
              "    </tr>\n",
              "    <tr>\n",
              "      <th>5</th>\n",
              "      <td>NAME_INCOME_TYPE_Working</td>\n",
              "      <td>0.017134</td>\n",
              "    </tr>\n",
              "    <tr>\n",
              "      <th>6</th>\n",
              "      <td>ORGANIZATION_TYPE_Transport: type 3</td>\n",
              "      <td>0.016081</td>\n",
              "    </tr>\n",
              "    <tr>\n",
              "      <th>7</th>\n",
              "      <td>NAME_CONTRACT_TYPE_Revolving loans</td>\n",
              "      <td>0.015961</td>\n",
              "    </tr>\n",
              "    <tr>\n",
              "      <th>8</th>\n",
              "      <td>NAME_EDUCATION_TYPE_Secondary / secondary special</td>\n",
              "      <td>0.015614</td>\n",
              "    </tr>\n",
              "    <tr>\n",
              "      <th>9</th>\n",
              "      <td>ORGANIZATION_TYPE_Trade: type 3</td>\n",
              "      <td>0.014915</td>\n",
              "    </tr>\n",
              "    <tr>\n",
              "      <th>10</th>\n",
              "      <td>AMT_GOODS_PRICE</td>\n",
              "      <td>0.012958</td>\n",
              "    </tr>\n",
              "    <tr>\n",
              "      <th>11</th>\n",
              "      <td>AMT_REQ_CREDIT_BUREAU_DAY</td>\n",
              "      <td>0.012614</td>\n",
              "    </tr>\n",
              "    <tr>\n",
              "      <th>12</th>\n",
              "      <td>EXT_SOURCE_1</td>\n",
              "      <td>0.012604</td>\n",
              "    </tr>\n",
              "    <tr>\n",
              "      <th>13</th>\n",
              "      <td>REGION_RATING_CLIENT_W_CITY</td>\n",
              "      <td>0.012579</td>\n",
              "    </tr>\n",
              "    <tr>\n",
              "      <th>14</th>\n",
              "      <td>REG_CITY_NOT_LIVE_CITY</td>\n",
              "      <td>0.011749</td>\n",
              "    </tr>\n",
              "    <tr>\n",
              "      <th>15</th>\n",
              "      <td>ORGANIZATION_TYPE_Industry: type 1</td>\n",
              "      <td>0.010646</td>\n",
              "    </tr>\n",
              "    <tr>\n",
              "      <th>16</th>\n",
              "      <td>NAME_FAMILY_STATUS_Married</td>\n",
              "      <td>0.010620</td>\n",
              "    </tr>\n",
              "    <tr>\n",
              "      <th>17</th>\n",
              "      <td>AMT_CREDIT</td>\n",
              "      <td>0.010501</td>\n",
              "    </tr>\n",
              "    <tr>\n",
              "      <th>18</th>\n",
              "      <td>NAME_EDUCATION_TYPE_Lower secondary</td>\n",
              "      <td>0.010478</td>\n",
              "    </tr>\n",
              "    <tr>\n",
              "      <th>19</th>\n",
              "      <td>ORGANIZATION_TYPE_Construction</td>\n",
              "      <td>0.010410</td>\n",
              "    </tr>\n",
              "    <tr>\n",
              "      <th>20</th>\n",
              "      <td>DEF_30_CNT_SOCIAL_CIRCLE</td>\n",
              "      <td>0.010394</td>\n",
              "    </tr>\n",
              "    <tr>\n",
              "      <th>21</th>\n",
              "      <td>ORGANIZATION_TYPE_Industry: type 9</td>\n",
              "      <td>0.010393</td>\n",
              "    </tr>\n",
              "    <tr>\n",
              "      <th>22</th>\n",
              "      <td>NAME_TYPE_SUITE_Spouse, partner</td>\n",
              "      <td>0.010375</td>\n",
              "    </tr>\n",
              "    <tr>\n",
              "      <th>23</th>\n",
              "      <td>NAME_HOUSING_TYPE_With parents</td>\n",
              "      <td>0.010064</td>\n",
              "    </tr>\n",
              "    <tr>\n",
              "      <th>24</th>\n",
              "      <td>DAYS_BIRTH</td>\n",
              "      <td>0.009971</td>\n",
              "    </tr>\n",
              "    <tr>\n",
              "      <th>25</th>\n",
              "      <td>ORGANIZATION_TYPE_Military</td>\n",
              "      <td>0.009970</td>\n",
              "    </tr>\n",
              "    <tr>\n",
              "      <th>26</th>\n",
              "      <td>NAME_HOUSING_TYPE_Office apartment</td>\n",
              "      <td>0.009946</td>\n",
              "    </tr>\n",
              "    <tr>\n",
              "      <th>27</th>\n",
              "      <td>ORGANIZATION_TYPE_Kindergarten</td>\n",
              "      <td>0.009936</td>\n",
              "    </tr>\n",
              "    <tr>\n",
              "      <th>28</th>\n",
              "      <td>DEF_60_CNT_SOCIAL_CIRCLE</td>\n",
              "      <td>0.009754</td>\n",
              "    </tr>\n",
              "    <tr>\n",
              "      <th>29</th>\n",
              "      <td>ORGANIZATION_TYPE_Realtor</td>\n",
              "      <td>0.009684</td>\n",
              "    </tr>\n",
              "    <tr>\n",
              "      <th>30</th>\n",
              "      <td>NAME_INCOME_TYPE_State servant</td>\n",
              "      <td>0.009526</td>\n",
              "    </tr>\n",
              "    <tr>\n",
              "      <th>31</th>\n",
              "      <td>AMT_ANNUITY</td>\n",
              "      <td>0.009489</td>\n",
              "    </tr>\n",
              "    <tr>\n",
              "      <th>32</th>\n",
              "      <td>ORGANIZATION_TYPE_Trade: type 7</td>\n",
              "      <td>0.009355</td>\n",
              "    </tr>\n",
              "    <tr>\n",
              "      <th>33</th>\n",
              "      <td>ORGANIZATION_TYPE_Transport: type 2</td>\n",
              "      <td>0.009327</td>\n",
              "    </tr>\n",
              "    <tr>\n",
              "      <th>34</th>\n",
              "      <td>ORGANIZATION_TYPE_Security</td>\n",
              "      <td>0.009178</td>\n",
              "    </tr>\n",
              "    <tr>\n",
              "      <th>35</th>\n",
              "      <td>DAYS_EMPLOYED</td>\n",
              "      <td>0.009090</td>\n",
              "    </tr>\n",
              "    <tr>\n",
              "      <th>36</th>\n",
              "      <td>ORGANIZATION_TYPE_Housing</td>\n",
              "      <td>0.008959</td>\n",
              "    </tr>\n",
              "    <tr>\n",
              "      <th>37</th>\n",
              "      <td>NAME_FAMILY_STATUS_Separated</td>\n",
              "      <td>0.008823</td>\n",
              "    </tr>\n",
              "    <tr>\n",
              "      <th>38</th>\n",
              "      <td>ORGANIZATION_TYPE_Industry: type 3</td>\n",
              "      <td>0.008814</td>\n",
              "    </tr>\n",
              "    <tr>\n",
              "      <th>39</th>\n",
              "      <td>ORGANIZATION_TYPE_Business Entity Type 2</td>\n",
              "      <td>0.008572</td>\n",
              "    </tr>\n",
              "    <tr>\n",
              "      <th>40</th>\n",
              "      <td>ORGANIZATION_TYPE_Business Entity Type 1</td>\n",
              "      <td>0.008527</td>\n",
              "    </tr>\n",
              "    <tr>\n",
              "      <th>41</th>\n",
              "      <td>NAME_FAMILY_STATUS_Single / not married</td>\n",
              "      <td>0.008467</td>\n",
              "    </tr>\n",
              "    <tr>\n",
              "      <th>42</th>\n",
              "      <td>DAYS_ID_PUBLISH</td>\n",
              "      <td>0.008424</td>\n",
              "    </tr>\n",
              "    <tr>\n",
              "      <th>43</th>\n",
              "      <td>NAME_HOUSING_TYPE_Rented apartment</td>\n",
              "      <td>0.008408</td>\n",
              "    </tr>\n",
              "    <tr>\n",
              "      <th>44</th>\n",
              "      <td>OBS_60_CNT_SOCIAL_CIRCLE</td>\n",
              "      <td>0.008402</td>\n",
              "    </tr>\n",
              "    <tr>\n",
              "      <th>45</th>\n",
              "      <td>ORGANIZATION_TYPE_Transport: type 4</td>\n",
              "      <td>0.008385</td>\n",
              "    </tr>\n",
              "    <tr>\n",
              "      <th>46</th>\n",
              "      <td>ORGANIZATION_TYPE_Police</td>\n",
              "      <td>0.008313</td>\n",
              "    </tr>\n",
              "    <tr>\n",
              "      <th>47</th>\n",
              "      <td>ORGANIZATION_TYPE_Industry: type 11</td>\n",
              "      <td>0.008244</td>\n",
              "    </tr>\n",
              "    <tr>\n",
              "      <th>48</th>\n",
              "      <td>ORGANIZATION_TYPE_Self-employed</td>\n",
              "      <td>0.008226</td>\n",
              "    </tr>\n",
              "    <tr>\n",
              "      <th>49</th>\n",
              "      <td>ORGANIZATION_TYPE_Bank</td>\n",
              "      <td>0.008149</td>\n",
              "    </tr>\n",
              "    <tr>\n",
              "      <th>50</th>\n",
              "      <td>ORGANIZATION_TYPE_Postal</td>\n",
              "      <td>0.008098</td>\n",
              "    </tr>\n",
              "    <tr>\n",
              "      <th>51</th>\n",
              "      <td>NAME_EDUCATION_TYPE_Incomplete higher</td>\n",
              "      <td>0.008098</td>\n",
              "    </tr>\n",
              "    <tr>\n",
              "      <th>52</th>\n",
              "      <td>DAYS_LAST_PHONE_CHANGE</td>\n",
              "      <td>0.008092</td>\n",
              "    </tr>\n",
              "    <tr>\n",
              "      <th>53</th>\n",
              "      <td>ORGANIZATION_TYPE_Medicine</td>\n",
              "      <td>0.008086</td>\n",
              "    </tr>\n",
              "    <tr>\n",
              "      <th>54</th>\n",
              "      <td>FLAG_WORK_PHONE</td>\n",
              "      <td>0.008060</td>\n",
              "    </tr>\n",
              "    <tr>\n",
              "      <th>55</th>\n",
              "      <td>NAME_INCOME_TYPE_Unemployed</td>\n",
              "      <td>0.008058</td>\n",
              "    </tr>\n",
              "    <tr>\n",
              "      <th>56</th>\n",
              "      <td>NAME_HOUSING_TYPE_Municipal apartment</td>\n",
              "      <td>0.008041</td>\n",
              "    </tr>\n",
              "    <tr>\n",
              "      <th>57</th>\n",
              "      <td>ORGANIZATION_TYPE_Business Entity Type 3</td>\n",
              "      <td>0.008028</td>\n",
              "    </tr>\n",
              "    <tr>\n",
              "      <th>58</th>\n",
              "      <td>ORGANIZATION_TYPE_Cleaning</td>\n",
              "      <td>0.008023</td>\n",
              "    </tr>\n",
              "    <tr>\n",
              "      <th>59</th>\n",
              "      <td>FLAG_PHONE</td>\n",
              "      <td>0.007943</td>\n",
              "    </tr>\n",
              "    <tr>\n",
              "      <th>60</th>\n",
              "      <td>ORGANIZATION_TYPE_Restaurant</td>\n",
              "      <td>0.007943</td>\n",
              "    </tr>\n",
              "    <tr>\n",
              "      <th>61</th>\n",
              "      <td>ORGANIZATION_TYPE_Mobile</td>\n",
              "      <td>0.007884</td>\n",
              "    </tr>\n",
              "    <tr>\n",
              "      <th>62</th>\n",
              "      <td>AMT_REQ_CREDIT_BUREAU_QRT</td>\n",
              "      <td>0.007812</td>\n",
              "    </tr>\n",
              "    <tr>\n",
              "      <th>63</th>\n",
              "      <td>ORGANIZATION_TYPE_Trade: type 2</td>\n",
              "      <td>0.007757</td>\n",
              "    </tr>\n",
              "    <tr>\n",
              "      <th>64</th>\n",
              "      <td>DAYS_REGISTRATION</td>\n",
              "      <td>0.007723</td>\n",
              "    </tr>\n",
              "    <tr>\n",
              "      <th>65</th>\n",
              "      <td>AMT_REQ_CREDIT_BUREAU_YEAR</td>\n",
              "      <td>0.007699</td>\n",
              "    </tr>\n",
              "    <tr>\n",
              "      <th>66</th>\n",
              "      <td>REGION_POPULATION_RELATIVE</td>\n",
              "      <td>0.007657</td>\n",
              "    </tr>\n",
              "    <tr>\n",
              "      <th>67</th>\n",
              "      <td>NAME_TYPE_SUITE_Other_A</td>\n",
              "      <td>0.007636</td>\n",
              "    </tr>\n",
              "    <tr>\n",
              "      <th>68</th>\n",
              "      <td>ORGANIZATION_TYPE_Industry: type 7</td>\n",
              "      <td>0.007517</td>\n",
              "    </tr>\n",
              "    <tr>\n",
              "      <th>69</th>\n",
              "      <td>ORGANIZATION_TYPE_University</td>\n",
              "      <td>0.007513</td>\n",
              "    </tr>\n",
              "    <tr>\n",
              "      <th>70</th>\n",
              "      <td>AMT_INCOME_TOTAL</td>\n",
              "      <td>0.007401</td>\n",
              "    </tr>\n",
              "    <tr>\n",
              "      <th>71</th>\n",
              "      <td>FLAG_OWN_REALTY_Y</td>\n",
              "      <td>0.007386</td>\n",
              "    </tr>\n",
              "    <tr>\n",
              "      <th>72</th>\n",
              "      <td>ORGANIZATION_TYPE_Security Ministries</td>\n",
              "      <td>0.007366</td>\n",
              "    </tr>\n",
              "    <tr>\n",
              "      <th>73</th>\n",
              "      <td>OBS_30_CNT_SOCIAL_CIRCLE</td>\n",
              "      <td>0.007262</td>\n",
              "    </tr>\n",
              "    <tr>\n",
              "      <th>74</th>\n",
              "      <td>REG_CITY_NOT_WORK_CITY</td>\n",
              "      <td>0.007230</td>\n",
              "    </tr>\n",
              "    <tr>\n",
              "      <th>75</th>\n",
              "      <td>NAME_FAMILY_STATUS_Widow</td>\n",
              "      <td>0.007097</td>\n",
              "    </tr>\n",
              "    <tr>\n",
              "      <th>76</th>\n",
              "      <td>LIVE_REGION_NOT_WORK_REGION</td>\n",
              "      <td>0.007069</td>\n",
              "    </tr>\n",
              "    <tr>\n",
              "      <th>77</th>\n",
              "      <td>NAME_TYPE_SUITE_Family</td>\n",
              "      <td>0.007043</td>\n",
              "    </tr>\n",
              "    <tr>\n",
              "      <th>78</th>\n",
              "      <td>CNT_FAM_MEMBERS</td>\n",
              "      <td>0.006970</td>\n",
              "    </tr>\n",
              "    <tr>\n",
              "      <th>79</th>\n",
              "      <td>ORGANIZATION_TYPE_Legal Services</td>\n",
              "      <td>0.006939</td>\n",
              "    </tr>\n",
              "    <tr>\n",
              "      <th>80</th>\n",
              "      <td>AMT_REQ_CREDIT_BUREAU_MON</td>\n",
              "      <td>0.006937</td>\n",
              "    </tr>\n",
              "    <tr>\n",
              "      <th>81</th>\n",
              "      <td>ORGANIZATION_TYPE_Agriculture</td>\n",
              "      <td>0.006927</td>\n",
              "    </tr>\n",
              "    <tr>\n",
              "      <th>82</th>\n",
              "      <td>ORGANIZATION_TYPE_Telecom</td>\n",
              "      <td>0.006879</td>\n",
              "    </tr>\n",
              "    <tr>\n",
              "      <th>83</th>\n",
              "      <td>FLAG_CONT_MOBILE</td>\n",
              "      <td>0.006878</td>\n",
              "    </tr>\n",
              "    <tr>\n",
              "      <th>84</th>\n",
              "      <td>ORGANIZATION_TYPE_Trade: type 6</td>\n",
              "      <td>0.006872</td>\n",
              "    </tr>\n",
              "    <tr>\n",
              "      <th>85</th>\n",
              "      <td>NAME_INCOME_TYPE_Pensioner</td>\n",
              "      <td>0.006705</td>\n",
              "    </tr>\n",
              "    <tr>\n",
              "      <th>86</th>\n",
              "      <td>ORGANIZATION_TYPE_Other</td>\n",
              "      <td>0.006676</td>\n",
              "    </tr>\n",
              "    <tr>\n",
              "      <th>87</th>\n",
              "      <td>REG_REGION_NOT_WORK_REGION</td>\n",
              "      <td>0.006672</td>\n",
              "    </tr>\n",
              "    <tr>\n",
              "      <th>88</th>\n",
              "      <td>CNT_CHILDREN</td>\n",
              "      <td>0.006646</td>\n",
              "    </tr>\n",
              "    <tr>\n",
              "      <th>89</th>\n",
              "      <td>AMT_REQ_CREDIT_BUREAU_HOUR</td>\n",
              "      <td>0.006627</td>\n",
              "    </tr>\n",
              "    <tr>\n",
              "      <th>90</th>\n",
              "      <td>ORGANIZATION_TYPE_Electricity</td>\n",
              "      <td>0.006599</td>\n",
              "    </tr>\n",
              "    <tr>\n",
              "      <th>91</th>\n",
              "      <td>NAME_INCOME_TYPE_Commercial associate</td>\n",
              "      <td>0.006570</td>\n",
              "    </tr>\n",
              "    <tr>\n",
              "      <th>92</th>\n",
              "      <td>ORGANIZATION_TYPE_Industry: type 5</td>\n",
              "      <td>0.006566</td>\n",
              "    </tr>\n",
              "    <tr>\n",
              "      <th>93</th>\n",
              "      <td>NAME_TYPE_SUITE_Other_B</td>\n",
              "      <td>0.006533</td>\n",
              "    </tr>\n",
              "    <tr>\n",
              "      <th>94</th>\n",
              "      <td>ORGANIZATION_TYPE_Industry: type 12</td>\n",
              "      <td>0.006431</td>\n",
              "    </tr>\n",
              "    <tr>\n",
              "      <th>95</th>\n",
              "      <td>REG_REGION_NOT_LIVE_REGION</td>\n",
              "      <td>0.006421</td>\n",
              "    </tr>\n",
              "    <tr>\n",
              "      <th>96</th>\n",
              "      <td>NAME_TYPE_SUITE_Unaccompanied</td>\n",
              "      <td>0.006356</td>\n",
              "    </tr>\n",
              "    <tr>\n",
              "      <th>97</th>\n",
              "      <td>REGION_RATING_CLIENT</td>\n",
              "      <td>0.006336</td>\n",
              "    </tr>\n",
              "    <tr>\n",
              "      <th>98</th>\n",
              "      <td>FLAG_EMAIL</td>\n",
              "      <td>0.006285</td>\n",
              "    </tr>\n",
              "    <tr>\n",
              "      <th>99</th>\n",
              "      <td>NAME_HOUSING_TYPE_House / apartment</td>\n",
              "      <td>0.006139</td>\n",
              "    </tr>\n",
              "    <tr>\n",
              "      <th>100</th>\n",
              "      <td>ORGANIZATION_TYPE_Industry: type 2</td>\n",
              "      <td>0.006092</td>\n",
              "    </tr>\n",
              "    <tr>\n",
              "      <th>101</th>\n",
              "      <td>FLAG_EMP_PHONE</td>\n",
              "      <td>0.005978</td>\n",
              "    </tr>\n",
              "    <tr>\n",
              "      <th>102</th>\n",
              "      <td>AMT_REQ_CREDIT_BUREAU_WEEK</td>\n",
              "      <td>0.005867</td>\n",
              "    </tr>\n",
              "    <tr>\n",
              "      <th>103</th>\n",
              "      <td>LIVE_CITY_NOT_WORK_CITY</td>\n",
              "      <td>0.005811</td>\n",
              "    </tr>\n",
              "    <tr>\n",
              "      <th>104</th>\n",
              "      <td>ORGANIZATION_TYPE_Government</td>\n",
              "      <td>0.005730</td>\n",
              "    </tr>\n",
              "    <tr>\n",
              "      <th>105</th>\n",
              "      <td>ORGANIZATION_TYPE_Industry: type 4</td>\n",
              "      <td>0.005622</td>\n",
              "    </tr>\n",
              "    <tr>\n",
              "      <th>106</th>\n",
              "      <td>NAME_TYPE_SUITE_Group of people</td>\n",
              "      <td>0.005580</td>\n",
              "    </tr>\n",
              "    <tr>\n",
              "      <th>107</th>\n",
              "      <td>ORGANIZATION_TYPE_School</td>\n",
              "      <td>0.005276</td>\n",
              "    </tr>\n",
              "    <tr>\n",
              "      <th>108</th>\n",
              "      <td>ORGANIZATION_TYPE_Services</td>\n",
              "      <td>0.005128</td>\n",
              "    </tr>\n",
              "    <tr>\n",
              "      <th>109</th>\n",
              "      <td>ORGANIZATION_TYPE_Insurance</td>\n",
              "      <td>0.005063</td>\n",
              "    </tr>\n",
              "    <tr>\n",
              "      <th>110</th>\n",
              "      <td>ORGANIZATION_TYPE_Industry: type 10</td>\n",
              "      <td>0.004139</td>\n",
              "    </tr>\n",
              "    <tr>\n",
              "      <th>111</th>\n",
              "      <td>ORGANIZATION_TYPE_Hotel</td>\n",
              "      <td>0.004041</td>\n",
              "    </tr>\n",
              "    <tr>\n",
              "      <th>112</th>\n",
              "      <td>ORGANIZATION_TYPE_Trade: type 1</td>\n",
              "      <td>0.003813</td>\n",
              "    </tr>\n",
              "    <tr>\n",
              "      <th>113</th>\n",
              "      <td>ORGANIZATION_TYPE_Transport: type 1</td>\n",
              "      <td>0.000000</td>\n",
              "    </tr>\n",
              "    <tr>\n",
              "      <th>114</th>\n",
              "      <td>ORGANIZATION_TYPE_Trade: type 4</td>\n",
              "      <td>0.000000</td>\n",
              "    </tr>\n",
              "    <tr>\n",
              "      <th>115</th>\n",
              "      <td>ORGANIZATION_TYPE_Trade: type 5</td>\n",
              "      <td>0.000000</td>\n",
              "    </tr>\n",
              "    <tr>\n",
              "      <th>116</th>\n",
              "      <td>NAME_FAMILY_STATUS_Unknown</td>\n",
              "      <td>0.000000</td>\n",
              "    </tr>\n",
              "    <tr>\n",
              "      <th>117</th>\n",
              "      <td>ORGANIZATION_TYPE_Religion</td>\n",
              "      <td>0.000000</td>\n",
              "    </tr>\n",
              "    <tr>\n",
              "      <th>118</th>\n",
              "      <td>ORGANIZATION_TYPE_Industry: type 8</td>\n",
              "      <td>0.000000</td>\n",
              "    </tr>\n",
              "    <tr>\n",
              "      <th>119</th>\n",
              "      <td>ORGANIZATION_TYPE_Industry: type 6</td>\n",
              "      <td>0.000000</td>\n",
              "    </tr>\n",
              "    <tr>\n",
              "      <th>120</th>\n",
              "      <td>ORGANIZATION_TYPE_Industry: type 13</td>\n",
              "      <td>0.000000</td>\n",
              "    </tr>\n",
              "    <tr>\n",
              "      <th>121</th>\n",
              "      <td>ORGANIZATION_TYPE_Emergency</td>\n",
              "      <td>0.000000</td>\n",
              "    </tr>\n",
              "    <tr>\n",
              "      <th>122</th>\n",
              "      <td>ORGANIZATION_TYPE_Culture</td>\n",
              "      <td>0.000000</td>\n",
              "    </tr>\n",
              "    <tr>\n",
              "      <th>123</th>\n",
              "      <td>NAME_INCOME_TYPE_Student</td>\n",
              "      <td>0.000000</td>\n",
              "    </tr>\n",
              "    <tr>\n",
              "      <th>124</th>\n",
              "      <td>NAME_INCOME_TYPE_Maternity leave</td>\n",
              "      <td>0.000000</td>\n",
              "    </tr>\n",
              "    <tr>\n",
              "      <th>125</th>\n",
              "      <td>CODE_GENDER_XNA</td>\n",
              "      <td>0.000000</td>\n",
              "    </tr>\n",
              "    <tr>\n",
              "      <th>126</th>\n",
              "      <td>FLAG_MOBIL</td>\n",
              "      <td>0.000000</td>\n",
              "    </tr>\n",
              "    <tr>\n",
              "      <th>127</th>\n",
              "      <td>ORGANIZATION_TYPE_XNA</td>\n",
              "      <td>0.000000</td>\n",
              "    </tr>\n",
              "  </tbody>\n",
              "</table>\n",
              "</div>"
            ],
            "text/plain": [
              "                                                   var       imp\n",
              "0                                         EXT_SOURCE_3  0.024570\n",
              "1                 NAME_EDUCATION_TYPE_Higher education  0.020021\n",
              "2                                         EXT_SOURCE_2  0.019671\n",
              "3                                       FLAG_OWN_CAR_Y  0.018347\n",
              "4                                        CODE_GENDER_M  0.017735\n",
              "5                             NAME_INCOME_TYPE_Working  0.017134\n",
              "6                  ORGANIZATION_TYPE_Transport: type 3  0.016081\n",
              "7                   NAME_CONTRACT_TYPE_Revolving loans  0.015961\n",
              "8    NAME_EDUCATION_TYPE_Secondary / secondary special  0.015614\n",
              "9                      ORGANIZATION_TYPE_Trade: type 3  0.014915\n",
              "10                                     AMT_GOODS_PRICE  0.012958\n",
              "11                           AMT_REQ_CREDIT_BUREAU_DAY  0.012614\n",
              "12                                        EXT_SOURCE_1  0.012604\n",
              "13                         REGION_RATING_CLIENT_W_CITY  0.012579\n",
              "14                              REG_CITY_NOT_LIVE_CITY  0.011749\n",
              "15                  ORGANIZATION_TYPE_Industry: type 1  0.010646\n",
              "16                          NAME_FAMILY_STATUS_Married  0.010620\n",
              "17                                          AMT_CREDIT  0.010501\n",
              "18                 NAME_EDUCATION_TYPE_Lower secondary  0.010478\n",
              "19                      ORGANIZATION_TYPE_Construction  0.010410\n",
              "20                            DEF_30_CNT_SOCIAL_CIRCLE  0.010394\n",
              "21                  ORGANIZATION_TYPE_Industry: type 9  0.010393\n",
              "22                     NAME_TYPE_SUITE_Spouse, partner  0.010375\n",
              "23                      NAME_HOUSING_TYPE_With parents  0.010064\n",
              "24                                          DAYS_BIRTH  0.009971\n",
              "25                          ORGANIZATION_TYPE_Military  0.009970\n",
              "26                  NAME_HOUSING_TYPE_Office apartment  0.009946\n",
              "27                      ORGANIZATION_TYPE_Kindergarten  0.009936\n",
              "28                            DEF_60_CNT_SOCIAL_CIRCLE  0.009754\n",
              "29                           ORGANIZATION_TYPE_Realtor  0.009684\n",
              "30                      NAME_INCOME_TYPE_State servant  0.009526\n",
              "31                                         AMT_ANNUITY  0.009489\n",
              "32                     ORGANIZATION_TYPE_Trade: type 7  0.009355\n",
              "33                 ORGANIZATION_TYPE_Transport: type 2  0.009327\n",
              "34                          ORGANIZATION_TYPE_Security  0.009178\n",
              "35                                       DAYS_EMPLOYED  0.009090\n",
              "36                           ORGANIZATION_TYPE_Housing  0.008959\n",
              "37                        NAME_FAMILY_STATUS_Separated  0.008823\n",
              "38                  ORGANIZATION_TYPE_Industry: type 3  0.008814\n",
              "39            ORGANIZATION_TYPE_Business Entity Type 2  0.008572\n",
              "40            ORGANIZATION_TYPE_Business Entity Type 1  0.008527\n",
              "41             NAME_FAMILY_STATUS_Single / not married  0.008467\n",
              "42                                     DAYS_ID_PUBLISH  0.008424\n",
              "43                  NAME_HOUSING_TYPE_Rented apartment  0.008408\n",
              "44                            OBS_60_CNT_SOCIAL_CIRCLE  0.008402\n",
              "45                 ORGANIZATION_TYPE_Transport: type 4  0.008385\n",
              "46                            ORGANIZATION_TYPE_Police  0.008313\n",
              "47                 ORGANIZATION_TYPE_Industry: type 11  0.008244\n",
              "48                     ORGANIZATION_TYPE_Self-employed  0.008226\n",
              "49                              ORGANIZATION_TYPE_Bank  0.008149\n",
              "50                            ORGANIZATION_TYPE_Postal  0.008098\n",
              "51               NAME_EDUCATION_TYPE_Incomplete higher  0.008098\n",
              "52                              DAYS_LAST_PHONE_CHANGE  0.008092\n",
              "53                          ORGANIZATION_TYPE_Medicine  0.008086\n",
              "54                                     FLAG_WORK_PHONE  0.008060\n",
              "55                         NAME_INCOME_TYPE_Unemployed  0.008058\n",
              "56               NAME_HOUSING_TYPE_Municipal apartment  0.008041\n",
              "57            ORGANIZATION_TYPE_Business Entity Type 3  0.008028\n",
              "58                          ORGANIZATION_TYPE_Cleaning  0.008023\n",
              "59                                          FLAG_PHONE  0.007943\n",
              "60                        ORGANIZATION_TYPE_Restaurant  0.007943\n",
              "61                            ORGANIZATION_TYPE_Mobile  0.007884\n",
              "62                           AMT_REQ_CREDIT_BUREAU_QRT  0.007812\n",
              "63                     ORGANIZATION_TYPE_Trade: type 2  0.007757\n",
              "64                                   DAYS_REGISTRATION  0.007723\n",
              "65                          AMT_REQ_CREDIT_BUREAU_YEAR  0.007699\n",
              "66                          REGION_POPULATION_RELATIVE  0.007657\n",
              "67                             NAME_TYPE_SUITE_Other_A  0.007636\n",
              "68                  ORGANIZATION_TYPE_Industry: type 7  0.007517\n",
              "69                        ORGANIZATION_TYPE_University  0.007513\n",
              "70                                    AMT_INCOME_TOTAL  0.007401\n",
              "71                                   FLAG_OWN_REALTY_Y  0.007386\n",
              "72               ORGANIZATION_TYPE_Security Ministries  0.007366\n",
              "73                            OBS_30_CNT_SOCIAL_CIRCLE  0.007262\n",
              "74                              REG_CITY_NOT_WORK_CITY  0.007230\n",
              "75                            NAME_FAMILY_STATUS_Widow  0.007097\n",
              "76                         LIVE_REGION_NOT_WORK_REGION  0.007069\n",
              "77                              NAME_TYPE_SUITE_Family  0.007043\n",
              "78                                     CNT_FAM_MEMBERS  0.006970\n",
              "79                    ORGANIZATION_TYPE_Legal Services  0.006939\n",
              "80                           AMT_REQ_CREDIT_BUREAU_MON  0.006937\n",
              "81                       ORGANIZATION_TYPE_Agriculture  0.006927\n",
              "82                           ORGANIZATION_TYPE_Telecom  0.006879\n",
              "83                                    FLAG_CONT_MOBILE  0.006878\n",
              "84                     ORGANIZATION_TYPE_Trade: type 6  0.006872\n",
              "85                          NAME_INCOME_TYPE_Pensioner  0.006705\n",
              "86                             ORGANIZATION_TYPE_Other  0.006676\n",
              "87                          REG_REGION_NOT_WORK_REGION  0.006672\n",
              "88                                        CNT_CHILDREN  0.006646\n",
              "89                          AMT_REQ_CREDIT_BUREAU_HOUR  0.006627\n",
              "90                       ORGANIZATION_TYPE_Electricity  0.006599\n",
              "91               NAME_INCOME_TYPE_Commercial associate  0.006570\n",
              "92                  ORGANIZATION_TYPE_Industry: type 5  0.006566\n",
              "93                             NAME_TYPE_SUITE_Other_B  0.006533\n",
              "94                 ORGANIZATION_TYPE_Industry: type 12  0.006431\n",
              "95                          REG_REGION_NOT_LIVE_REGION  0.006421\n",
              "96                       NAME_TYPE_SUITE_Unaccompanied  0.006356\n",
              "97                                REGION_RATING_CLIENT  0.006336\n",
              "98                                          FLAG_EMAIL  0.006285\n",
              "99                 NAME_HOUSING_TYPE_House / apartment  0.006139\n",
              "100                 ORGANIZATION_TYPE_Industry: type 2  0.006092\n",
              "101                                     FLAG_EMP_PHONE  0.005978\n",
              "102                         AMT_REQ_CREDIT_BUREAU_WEEK  0.005867\n",
              "103                            LIVE_CITY_NOT_WORK_CITY  0.005811\n",
              "104                       ORGANIZATION_TYPE_Government  0.005730\n",
              "105                 ORGANIZATION_TYPE_Industry: type 4  0.005622\n",
              "106                    NAME_TYPE_SUITE_Group of people  0.005580\n",
              "107                           ORGANIZATION_TYPE_School  0.005276\n",
              "108                         ORGANIZATION_TYPE_Services  0.005128\n",
              "109                        ORGANIZATION_TYPE_Insurance  0.005063\n",
              "110                ORGANIZATION_TYPE_Industry: type 10  0.004139\n",
              "111                            ORGANIZATION_TYPE_Hotel  0.004041\n",
              "112                    ORGANIZATION_TYPE_Trade: type 1  0.003813\n",
              "113                ORGANIZATION_TYPE_Transport: type 1  0.000000\n",
              "114                    ORGANIZATION_TYPE_Trade: type 4  0.000000\n",
              "115                    ORGANIZATION_TYPE_Trade: type 5  0.000000\n",
              "116                         NAME_FAMILY_STATUS_Unknown  0.000000\n",
              "117                         ORGANIZATION_TYPE_Religion  0.000000\n",
              "118                 ORGANIZATION_TYPE_Industry: type 8  0.000000\n",
              "119                 ORGANIZATION_TYPE_Industry: type 6  0.000000\n",
              "120                ORGANIZATION_TYPE_Industry: type 13  0.000000\n",
              "121                        ORGANIZATION_TYPE_Emergency  0.000000\n",
              "122                          ORGANIZATION_TYPE_Culture  0.000000\n",
              "123                           NAME_INCOME_TYPE_Student  0.000000\n",
              "124                   NAME_INCOME_TYPE_Maternity leave  0.000000\n",
              "125                                    CODE_GENDER_XNA  0.000000\n",
              "126                                         FLAG_MOBIL  0.000000\n",
              "127                              ORGANIZATION_TYPE_XNA  0.000000"
            ]
          },
          "metadata": {
            "tags": []
          },
          "execution_count": 86
        }
      ]
    },
    {
      "cell_type": "code",
      "metadata": {
        "id": "NandIWbYqxOL",
        "colab": {
          "base_uri": "https://localhost:8080/",
          "height": 312
        },
        "outputId": "d7d19ecc-cb95-4653-db26-66b5945169b0"
      },
      "source": [
        "xgb.plot_importance(clf, importance_type = \"gain\", xlabel = \"Feature importance score\")"
      ],
      "execution_count": 87,
      "outputs": [
        {
          "output_type": "execute_result",
          "data": {
            "text/plain": [
              "<matplotlib.axes._subplots.AxesSubplot at 0x7f969928e190>"
            ]
          },
          "metadata": {
            "tags": []
          },
          "execution_count": 87
        },
        {
          "output_type": "display_data",
          "data": {
            "image/png": "[encoded data removed]",
            "text/plain": [
              "<Figure size 432x288 with 1 Axes>"
            ]
          },
          "metadata": {
            "tags": [],
            "needs_background": "light"
          }
        }
      ]
    },
    {
      "cell_type": "code",
      "metadata": {
        "id": "fQOVfI2QrAAg"
      },
      "source": [
        "train_pred = clf.predict(x_train)\n",
        "val_pred = clf.predict(x_valid)"
      ],
      "execution_count": 88,
      "outputs": []
    },
    {
      "cell_type": "code",
      "metadata": {
        "id": "JY277MqZrHRD",
        "colab": {
          "base_uri": "https://localhost:8080/"
        },
        "outputId": "f03661be-4c3b-4538-a62e-c0a3adb0f0c5"
      },
      "source": [
        "print(\"Training recall: \", metrics.recall_score(y_train, train_pred))\n",
        "print(\"Validation recall: \", metrics.recall_score(y_valid, val_pred))\n",
        "\n",
        "print(\"\\n\")\n",
        "\n",
        "print(\"Training precision: \", metrics.precision_score(y_train, train_pred))\n",
        "print(\"Validation precision: \", metrics.precision_score(y_valid, val_pred))\n",
        "\n",
        "print(\"\\n\")\n",
        "\n",
        "print(\"Training accuracy: \", metrics.accuracy_score(y_train, train_pred))\n",
        "print(\"Validation accuracy: \", metrics.accuracy_score(y_valid, val_pred))\n",
        "\n",
        "print(\"\\n\")\n",
        "\n",
        "y_train_prob = clf.predict_proba(x_train)\n",
        "y_val_prob = clf.predict_proba(x_valid)\n",
        "\n",
        "fpr, tpr, thresholds = metrics.roc_curve(y_train, y_train_prob[:,1], pos_label = 1)\n",
        "print(\"Training AUC: \", metrics.auc(fpr, tpr))\n",
        "\n",
        "fpr, tpr, thresholds = metrics.roc_curve(y_valid, y_val_prob[:,1], pos_label = 1)\n",
        "print(\"Validation AUC: \", metrics.auc(fpr, tpr))"
      ],
      "execution_count": 90,
      "outputs": [
        {
          "output_type": "stream",
          "text": [
            "Training recall:  0.0855731679301631\n",
            "Validation recall:  0.04451639012545528\n",
            "\n",
            "\n",
            "Training precision:  0.7621483375959079\n",
            "Validation precision:  0.4465493910690122\n",
            "\n",
            "\n",
            "Training accuracy:  0.9238723943936783\n",
            "Validation accuracy:  0.9187894291846423\n",
            "\n",
            "\n",
            "Training AUC:  0.8435066218355758\n",
            "Validation AUC:  0.7441292460559128\n"
          ],
          "name": "stdout"
        }
      ]
    },
    {
      "cell_type": "code",
      "metadata": {
        "id": "JKQcRU3UrHxo"
      },
      "source": [
        ""
      ],
      "execution_count": 85,
      "outputs": []
    },
    {
      "cell_type": "markdown",
      "metadata": {
        "id": "IqfyZR73pPKP"
      },
      "source": [
        "# Random Forest"
      ]
    },
    {
      "cell_type": "code",
      "metadata": {
        "id": "Fqri57odpOcl"
      },
      "source": [
        "# Used grid for hyperparameters tuning\n",
        "# parameters = {\"max_depth\":range(2, 8), \"min_samples_leaf\": range(5, 100, 5), \"min_samples_split\": range(10, 550, 5),\n",
        "#               \"max_samples\":[0.1, 0.15, 0.2, 0.25, 0.3, 0.35, 0.4], \"max_features\": [5, 10, 20, 25, 30],\n",
        "#               \"n_estimators\": [100, 150, 200, 250, 300, 350, 400]}\n",
        "\n",
        "# clf = RandomizedSearchCV(RandomForestClassifier(), parameters, n_jobs=4, scoring = \"roc_auc\", n_iter = 200,\n",
        "#                         random_state = 0)\n",
        "\n",
        "# clf.fit(x_train, y_train)"
      ],
      "execution_count": 95,
      "outputs": []
    },
    {
      "cell_type": "code",
      "metadata": {
        "id": "_vsIqn4PvewA"
      },
      "source": [
        "#clf.best_params_\n",
        "# Best Parameters:\n",
        "# {'n_estimators': 400,\n",
        "#'min_samples_split': 520,\n",
        "# 'min_samples_leaf': 55,\n",
        "# 'max_samples': 0.3,\n",
        "# 'max_features': 5,\n",
        "# 'max_depth': 7}"
      ],
      "execution_count": 96,
      "outputs": []
    },
    {
      "cell_type": "code",
      "metadata": {
        "id": "snEiYa2hvx9e"
      },
      "source": [
        "x_train, x_valid, y_train, y_valid = train_test_split(x, y, test_size = 0.3, random_state = 42)"
      ],
      "execution_count": 97,
      "outputs": []
    },
    {
      "cell_type": "code",
      "metadata": {
        "id": "yMjv5b2Ov9nx"
      },
      "source": [
        "clf1 = RandomForestClassifier(n_estimators=400,min_samples_split=520,min_samples_leaf=55,max_samples=0.3, max_features=5, max_depth=7, n_jobs=4)"
      ],
      "execution_count": 102,
      "outputs": []
    },
    {
      "cell_type": "code",
      "metadata": {
        "colab": {
          "base_uri": "https://localhost:8080/"
        },
        "id": "92lkl8VXweY6",
        "outputId": "03d0755e-db85-40cc-b899-dca5e76cd5a5"
      },
      "source": [
        "clf1.fit(x_train, y_train)"
      ],
      "execution_count": 103,
      "outputs": [
        {
          "output_type": "execute_result",
          "data": {
            "text/plain": [
              "RandomForestClassifier(bootstrap=True, ccp_alpha=0.0, class_weight=None,\n",
              "                       criterion='gini', max_depth=7, max_features=5,\n",
              "                       max_leaf_nodes=None, max_samples=0.3,\n",
              "                       min_impurity_decrease=0.0, min_impurity_split=None,\n",
              "                       min_samples_leaf=55, min_samples_split=520,\n",
              "                       min_weight_fraction_leaf=0.0, n_estimators=400, n_jobs=4,\n",
              "                       oob_score=False, random_state=None, verbose=0,\n",
              "                       warm_start=False)"
            ]
          },
          "metadata": {
            "tags": []
          },
          "execution_count": 103
        }
      ]
    },
    {
      "cell_type": "code",
      "metadata": {
        "id": "-V0dM7MhwgZu"
      },
      "source": [
        ""
      ],
      "execution_count": null,
      "outputs": []
    },
    {
      "cell_type": "code",
      "metadata": {
        "id": "H_ns2wlFwq80"
      },
      "source": [
        "train_pred = clf1.predict(x_train)\n",
        "val_pred = clf1.predict(x_valid)"
      ],
      "execution_count": 104,
      "outputs": []
    },
    {
      "cell_type": "code",
      "metadata": {
        "colab": {
          "base_uri": "https://localhost:8080/"
        },
        "id": "LidoHBunwq81",
        "outputId": "f710999d-be94-41d7-aa53-2534cd50f2f9"
      },
      "source": [
        "print(\"Training recall: \", metrics.recall_score(y_train, train_pred))\n",
        "print(\"Validation recall: \", metrics.recall_score(y_valid, val_pred))\n",
        "\n",
        "print(\"\\n\")\n",
        "\n",
        "print(\"Training precision: \", metrics.precision_score(y_train, train_pred))\n",
        "print(\"Validation precision: \", metrics.precision_score(y_valid, val_pred))\n",
        "\n",
        "print(\"\\n\")\n",
        "\n",
        "print(\"Training accuracy: \", metrics.accuracy_score(y_train, train_pred))\n",
        "print(\"Validation accuracy: \", metrics.accuracy_score(y_valid, val_pred))\n",
        "\n",
        "print(\"\\n\")\n",
        "\n",
        "y_train_prob = clf.predict_proba(x_train)\n",
        "y_val_prob = clf.predict_proba(x_valid)\n",
        "\n",
        "fpr, tpr, thresholds = metrics.roc_curve(y_train, y_train_prob[:,1], pos_label = 1)\n",
        "print(\"Training AUC: \", metrics.auc(fpr, tpr))\n",
        "\n",
        "fpr, tpr, thresholds = metrics.roc_curve(y_valid, y_val_prob[:,1], pos_label = 1)\n",
        "print(\"Validation AUC: \", metrics.auc(fpr, tpr))"
      ],
      "execution_count": 105,
      "outputs": [
        {
          "output_type": "stream",
          "text": [
            "Training recall:  0.0\n",
            "Validation recall:  0.0\n",
            "\n",
            "\n",
            "Training precision:  0.0\n",
            "Validation precision:  0.0\n",
            "\n",
            "\n",
            "Training accuracy:  0.919110644485429\n",
            "Validation accuracy:  0.9196457606174258\n",
            "\n",
            "\n",
            "Training AUC:  0.7316822207482268\n",
            "Validation AUC:  0.7244330155913508\n"
          ],
          "name": "stdout"
        }
      ]
    },
    {
      "cell_type": "code",
      "metadata": {
        "id": "TZemf_ejwrhQ"
      },
      "source": [
        ""
      ],
      "execution_count": null,
      "outputs": []
    },
    {
      "cell_type": "markdown",
      "metadata": {
        "id": "nwGELvPpxskj"
      },
      "source": [
        "# Neural Network"
      ]
    },
    {
      "cell_type": "code",
      "metadata": {
        "id": "L_2lb-ghxPaz"
      },
      "source": [
        "import tensorflow as tf\n",
        "from tensorflow import keras"
      ],
      "execution_count": 106,
      "outputs": []
    },
    {
      "cell_type": "code",
      "metadata": {
        "colab": {
          "base_uri": "https://localhost:8080/"
        },
        "id": "wpiKmfejFpev",
        "outputId": "f837917d-f50d-4d5b-b5b5-5dd127683682"
      },
      "source": [
        "\n",
        "from sklearn.preprocessing import MinMaxScaler\n",
        "scaler = MinMaxScaler()\n",
        "X_scale=scaler.fit_transform(x)\n",
        "X_scale.shape"
      ],
      "execution_count": 107,
      "outputs": [
        {
          "output_type": "execute_result",
          "data": {
            "text/plain": [
              "(307511, 128)"
            ]
          },
          "metadata": {
            "tags": []
          },
          "execution_count": 107
        }
      ]
    },
    {
      "cell_type": "code",
      "metadata": {
        "id": "9T6IQ9vVFyHI"
      },
      "source": [
        "train_X_nn, valid_X_nn, train_y_nn, valid_y_nn = train_test_split(X_scale, y, test_size=0.3, random_state=1)"
      ],
      "execution_count": 108,
      "outputs": []
    },
    {
      "cell_type": "code",
      "metadata": {
        "id": "RUbpEGyyF3CM"
      },
      "source": [
        ""
      ],
      "execution_count": 108,
      "outputs": []
    },
    {
      "cell_type": "code",
      "metadata": {
        "id": "A7llGikQF5aT"
      },
      "source": [
        "model1 = tf.keras.Sequential([ tf.keras.layers.Flatten(),\n",
        "                             tf.keras.layers.Dense(units=128, activation=tf.nn.relu),\n",
        "                             tf.keras.layers.Dense(units=1,activation=tf.nn.sigmoid)])"
      ],
      "execution_count": 109,
      "outputs": []
    },
    {
      "cell_type": "code",
      "metadata": {
        "id": "O53oZ2nXF719"
      },
      "source": [
        "model1.compile(optimizer= tf.optimizers.Adam(),\n",
        "              loss = tf.losses.binary_crossentropy,\n",
        "              metrics = ['accuracy'])"
      ],
      "execution_count": 110,
      "outputs": []
    },
    {
      "cell_type": "code",
      "metadata": {
        "colab": {
          "base_uri": "https://localhost:8080/"
        },
        "id": "RenfvEYHF-Tg",
        "outputId": "44658f5e-3ae6-4fab-c16c-d5ba1e04cb12"
      },
      "source": [
        "model1.fit(train_X_nn, train_y_nn, epochs = 15)"
      ],
      "execution_count": 111,
      "outputs": [
        {
          "output_type": "stream",
          "text": [
            "Epoch 1/15\n",
            "6727/6727 [==============================] - 11s 2ms/step - loss: 0.2632 - accuracy: 0.9184\n",
            "Epoch 2/15\n",
            "6727/6727 [==============================] - 11s 2ms/step - loss: 0.2532 - accuracy: 0.9191\n",
            "Epoch 3/15\n",
            "6727/6727 [==============================] - 11s 2ms/step - loss: 0.2514 - accuracy: 0.9189\n",
            "Epoch 4/15\n",
            "6727/6727 [==============================] - 11s 2ms/step - loss: 0.2499 - accuracy: 0.9199\n",
            "Epoch 5/15\n",
            "6727/6727 [==============================] - 11s 2ms/step - loss: 0.2520 - accuracy: 0.9188\n",
            "Epoch 6/15\n",
            "6727/6727 [==============================] - 11s 2ms/step - loss: 0.2496 - accuracy: 0.9198\n",
            "Epoch 7/15\n",
            "6727/6727 [==============================] - 11s 2ms/step - loss: 0.2483 - accuracy: 0.9198\n",
            "Epoch 8/15\n",
            "6727/6727 [==============================] - 11s 2ms/step - loss: 0.2488 - accuracy: 0.9194\n",
            "Epoch 9/15\n",
            "6727/6727 [==============================] - 11s 2ms/step - loss: 0.2463 - accuracy: 0.9198\n",
            "Epoch 10/15\n",
            "6727/6727 [==============================] - 11s 2ms/step - loss: 0.2471 - accuracy: 0.9194\n",
            "Epoch 11/15\n",
            "6727/6727 [==============================] - 11s 2ms/step - loss: 0.2440 - accuracy: 0.9207\n",
            "Epoch 12/15\n",
            "6727/6727 [==============================] - 11s 2ms/step - loss: 0.2457 - accuracy: 0.9201\n",
            "Epoch 13/15\n",
            "6727/6727 [==============================] - 11s 2ms/step - loss: 0.2467 - accuracy: 0.9193\n",
            "Epoch 14/15\n",
            "6727/6727 [==============================] - 11s 2ms/step - loss: 0.2462 - accuracy: 0.9195\n",
            "Epoch 15/15\n",
            "6727/6727 [==============================] - 11s 2ms/step - loss: 0.2424 - accuracy: 0.9212\n"
          ],
          "name": "stdout"
        },
        {
          "output_type": "execute_result",
          "data": {
            "text/plain": [
              "<tensorflow.python.keras.callbacks.History at 0x7f96602880d0>"
            ]
          },
          "metadata": {
            "tags": []
          },
          "execution_count": 111
        }
      ]
    },
    {
      "cell_type": "code",
      "metadata": {
        "id": "wCqISCAsGBNL",
        "colab": {
          "base_uri": "https://localhost:8080/"
        },
        "outputId": "6d3cb6e8-b11a-4c22-e5fc-8a9c99c21cfe"
      },
      "source": [
        "model1.evaluate(valid_X_nn, valid_y_nn)"
      ],
      "execution_count": 112,
      "outputs": [
        {
          "output_type": "stream",
          "text": [
            "2883/2883 [==============================] - 3s 1ms/step - loss: 0.2554 - accuracy: 0.9189\n"
          ],
          "name": "stdout"
        },
        {
          "output_type": "execute_result",
          "data": {
            "text/plain": [
              "[0.25540891289711, 0.9188761711120605]"
            ]
          },
          "metadata": {
            "tags": []
          },
          "execution_count": 112
        }
      ]
    },
    {
      "cell_type": "code",
      "metadata": {
        "id": "iEucWZttGIjm"
      },
      "source": [
        "y_pred_valid = model1.predict(valid_X_nn).ravel()\n",
        "y_pred = model1.predict(train_X_nn).ravel()"
      ],
      "execution_count": 113,
      "outputs": []
    },
    {
      "cell_type": "code",
      "metadata": {
        "id": "IAxyu-CtGI3E",
        "colab": {
          "base_uri": "https://localhost:8080/"
        },
        "outputId": "ccb99445-3d56-4113-b4b5-7572c465ff25"
      },
      "source": [
        "\n",
        "from sklearn.metrics import accuracy_score, precision_score,recall_score,f1_score,roc_auc_score,classification_report, confusion_matrix\n",
        "# predict probabilities for test set\n",
        "prediction_probs = model1.predict(valid_X_nn)\n",
        "# predict classes\n",
        "nn_prediction_train = (model1.predict(train_X_nn) > 0.5).astype(\"int32\")\n",
        "nn_prediction_valid = (model1.predict(valid_X_nn) > 0.5).astype(\"int32\")\n",
        "\n",
        "print(\"Accuracy on train is:\",accuracy_score(train_y_nn,nn_prediction_train))\n",
        "print(\"Accuracy on test is:\",accuracy_score(valid_y_nn,nn_prediction_valid))\n",
        "print(\"Precision_score train is:\",precision_score(train_y_nn,nn_prediction_train))\n",
        "print(\"Precision_score on test is:\",precision_score(valid_y_nn,nn_prediction_valid))\n",
        "print(\"Recall_score on train is:\",recall_score(train_y_nn,nn_prediction_train))\n",
        "print(\"Recall_score on test is:\",recall_score(valid_y_nn,nn_prediction_valid))\n",
        "print(\"f1_score on train is:\",f1_score(train_y_nn,nn_prediction_train))\n",
        "print(\"f1_score on test is:\",f1_score(valid_y_nn,nn_prediction_valid))"
      ],
      "execution_count": 114,
      "outputs": [
        {
          "output_type": "stream",
          "text": [
            "Accuracy on train is: 0.9197889034967504\n",
            "Accuracy on test is: 0.9188761462917597\n",
            "Precision_score train is: 0.6900826446280992\n",
            "Precision_score on test is: 0.3950617283950617\n",
            "Recall_score on train is: 0.009620924069593272\n",
            "Recall_score on test is: 0.0042855229677246556\n",
            "f1_score on train is: 0.018977272727272728\n",
            "f1_score on test is: 0.008479067302596715\n"
          ],
          "name": "stdout"
        }
      ]
    },
    {
      "cell_type": "code",
      "metadata": {
        "id": "SYd5m3ubHU3x",
        "colab": {
          "base_uri": "https://localhost:8080/"
        },
        "outputId": "04acf5e7-a460-4926-8411-288063fb085c"
      },
      "source": [
        "from sklearn.metrics import roc_curve, auc\n",
        "fpr, tpr, thresholds = roc_curve(train_y_nn, y_pred)\n",
        "print(\"NeuralNetworks Train: \",str(auc(fpr, tpr)))\n",
        "#fpr, tpr, thresholds = roc_curve(valid_y,nn_prediction_valid)\n",
        "fpr, tpr, thresholds = roc_curve(valid_y_nn, y_pred_valid)\n",
        "print(\"NeuralNetworkss Valid: \",str(auc(fpr, tpr)),\"\\n\")"
      ],
      "execution_count": 115,
      "outputs": [
        {
          "output_type": "stream",
          "text": [
            "NeuralNetworks Train:  0.7675668838468075\n",
            "NeuralNetworkss Valid:  0.7365149736592707 \n",
            "\n"
          ],
          "name": "stdout"
        }
      ]
    },
    {
      "cell_type": "markdown",
      "metadata": {
        "id": "3a0gtS9HzQXr"
      },
      "source": [
        "# SMOTE Testing"
      ]
    },
    {
      "cell_type": "code",
      "metadata": {
        "id": "_zbhxfdaxnqV"
      },
      "source": [
        ""
      ],
      "execution_count": null,
      "outputs": []
    },
    {
      "cell_type": "code",
      "metadata": {
        "id": "lN4BVLZ7z0IT"
      },
      "source": [
        ""
      ],
      "execution_count": null,
      "outputs": []
    },
    {
      "cell_type": "code",
      "metadata": {
        "id": "nbHSu0VaziHY"
      },
      "source": [
        "from imblearn.over_sampling import SMOTE"
      ],
      "execution_count": 118,
      "outputs": []
    },
    {
      "cell_type": "code",
      "metadata": {
        "id": "hdvtOJGiziHZ"
      },
      "source": [
        "x = filtered.drop(['TARGET'], axis = 1)\n",
        "y = filtered['TARGET']"
      ],
      "execution_count": 119,
      "outputs": []
    },
    {
      "cell_type": "code",
      "metadata": {
        "id": "Wsxl-9aCziHa"
      },
      "source": [
        "oversample = SMOTE()\n",
        "x, y = oversample.fit_resample(x, y)"
      ],
      "execution_count": 120,
      "outputs": []
    },
    {
      "cell_type": "code",
      "metadata": {
        "id": "MruR6OHiziHa"
      },
      "source": [
        "x_train, x_valid, y_train, y_valid = train_test_split(x, y, test_size = 0.3, random_state = 42)"
      ],
      "execution_count": 121,
      "outputs": []
    },
    {
      "cell_type": "code",
      "metadata": {
        "colab": {
          "base_uri": "https://localhost:8080/"
        },
        "id": "_Yka1Is_zk4y",
        "outputId": "3573d3be-b368-4f7b-aa6f-e45c9fc1a492"
      },
      "source": [
        "x_train.shape"
      ],
      "execution_count": 122,
      "outputs": [
        {
          "output_type": "execute_result",
          "data": {
            "text/plain": [
              "(395760, 128)"
            ]
          },
          "metadata": {
            "tags": []
          },
          "execution_count": 122
        }
      ]
    },
    {
      "cell_type": "markdown",
      "metadata": {
        "id": "4PQMxnMCz8Tn"
      },
      "source": [
        "# Logistic Regression with SMOTE"
      ]
    },
    {
      "cell_type": "code",
      "metadata": {
        "colab": {
          "base_uri": "https://localhost:8080/"
        },
        "id": "jqUeyhKZz2gh",
        "outputId": "68dc858f-9008-4eed-c8ab-435d0507f926"
      },
      "source": [
        "\n",
        "from sklearn.preprocessing import MinMaxScaler\n",
        "scaler = MinMaxScaler()\n",
        "x_train=scaler.fit_transform(x_train)\n",
        "x_valid=scaler.fit_transform(x_valid)\n",
        "x_train.shape"
      ],
      "execution_count": 123,
      "outputs": [
        {
          "output_type": "execute_result",
          "data": {
            "text/plain": [
              "(395760, 128)"
            ]
          },
          "metadata": {
            "tags": []
          },
          "execution_count": 123
        }
      ]
    },
    {
      "cell_type": "code",
      "metadata": {
        "colab": {
          "base_uri": "https://localhost:8080/"
        },
        "id": "TjaCUGaU0Pab",
        "outputId": "69df141b-9a58-4307-b6b6-9d7a714c6a80"
      },
      "source": [
        "# fit logistic model\n",
        "logit_model = LogisticRegression(random_state=0).fit(x_train, y_train)\n",
        "\n",
        "# predict target from x_train/x_val dataset\n",
        "y_train_pred = logit_model.predict(x_train)\n",
        "y_val_pred = logit_model.predict(x_valid)\n",
        "\n",
        "# calculate accuracy in train and validation dataset\n",
        "print('accuracy in train dataset: ', metrics.accuracy_score(y_train, y_train_pred))\n",
        "print('accuracy in validation dataset: ',metrics.accuracy_score(y_valid, y_val_pred))\n",
        "\n",
        "# precision in train and validation dataset\n",
        "print('precision in train dataset: ', metrics.precision_score(y_train, y_train_pred))\n",
        "print('precision in validation dataset: ', metrics.precision_score(y_valid, y_val_pred))\n",
        "\n",
        "# recall in train and validation dataset\n",
        "print('recall in train dataset: ', metrics.recall_score(y_train, y_train_pred))\n",
        "print('recall in validation dataset: ', metrics.recall_score(y_valid, y_val_pred))\n",
        "\n",
        "# AUC\n",
        "y_train_prob = logit_model.predict_proba(x_train)\n",
        "y_val_prob = logit_model.predict_proba(x_valid)\n",
        "\n",
        "# AUC in train and validation dataset\n",
        "fpr, tpr, thresholds = metrics.roc_curve(y_train, y_train_prob[:,1], pos_label = 1)\n",
        "print('AUC in train dataset: ', metrics.auc(fpr, tpr))\n",
        "fpr, tpr, thresholds = metrics.roc_curve(y_valid, y_val_prob[:,1], pos_label = 1)\n",
        "print('AUC in validation dataset: ', metrics.auc(fpr, tpr))"
      ],
      "execution_count": 124,
      "outputs": [
        {
          "output_type": "stream",
          "text": [
            "accuracy in train dataset:  0.6977385284010511\n",
            "accuracy in validation dataset:  0.6526778765653374\n",
            "precision in train dataset:  0.6964965115695427\n",
            "precision in validation dataset:  0.7476012640045964\n",
            "recall in train dataset:  0.7011100500709886\n",
            "recall in validation dataset:  0.4605093963452759\n",
            "AUC in train dataset:  0.7638834875081868\n",
            "AUC in validation dataset:  0.7608313958490298\n"
          ],
          "name": "stdout"
        }
      ]
    },
    {
      "cell_type": "code",
      "metadata": {
        "id": "QZtl-wJp0e6E"
      },
      "source": [
        ""
      ],
      "execution_count": null,
      "outputs": []
    },
    {
      "cell_type": "code",
      "metadata": {
        "id": "HHxsltKE1USP"
      },
      "source": [
        ""
      ],
      "execution_count": null,
      "outputs": []
    },
    {
      "cell_type": "markdown",
      "metadata": {
        "id": "y2WnNXoG1VU-"
      },
      "source": [
        "# Decision Tree SMOTE"
      ]
    },
    {
      "cell_type": "code",
      "metadata": {
        "id": "1oiSqX371Z8_"
      },
      "source": [
        ""
      ],
      "execution_count": null,
      "outputs": []
    },
    {
      "cell_type": "code",
      "metadata": {
        "id": "dw9O9eat14bX"
      },
      "source": [
        "x = filtered.drop(['TARGET'], axis = 1)\n",
        "y = filtered['TARGET']"
      ],
      "execution_count": null,
      "outputs": []
    },
    {
      "cell_type": "code",
      "metadata": {
        "id": "c83MbxeK14bX"
      },
      "source": [
        "oversample = SMOTE()\n",
        "x, y = oversample.fit_resample(x, y)"
      ],
      "execution_count": null,
      "outputs": []
    },
    {
      "cell_type": "code",
      "metadata": {
        "id": "iuzEPIwi14bY"
      },
      "source": [
        "x_train, x_valid, y_train, y_valid = train_test_split(x, y, test_size = 0.3, random_state = 42)"
      ],
      "execution_count": null,
      "outputs": []
    },
    {
      "cell_type": "code",
      "metadata": {
        "id": "CRhC4RL414bY"
      },
      "source": [
        ""
      ],
      "execution_count": 127,
      "outputs": []
    },
    {
      "cell_type": "code",
      "metadata": {
        "colab": {
          "base_uri": "https://localhost:8080/"
        },
        "id": "KN4PL-Hi1mSN",
        "outputId": "ad4d8832-cdb6-4856-d43e-00961d04f682"
      },
      "source": [
        "clf = DecisionTreeClassifier(max_depth=5, min_samples_split=95, min_samples_leaf=10)\n",
        "clf.fit(x_train, y_train)"
      ],
      "execution_count": 128,
      "outputs": [
        {
          "output_type": "execute_result",
          "data": {
            "text/plain": [
              "DecisionTreeClassifier(ccp_alpha=0.0, class_weight=None, criterion='gini',\n",
              "                       max_depth=5, max_features=None, max_leaf_nodes=None,\n",
              "                       min_impurity_decrease=0.0, min_impurity_split=None,\n",
              "                       min_samples_leaf=10, min_samples_split=95,\n",
              "                       min_weight_fraction_leaf=0.0, presort='deprecated',\n",
              "                       random_state=None, splitter='best')"
            ]
          },
          "metadata": {
            "tags": []
          },
          "execution_count": 128
        }
      ]
    },
    {
      "cell_type": "code",
      "metadata": {
        "colab": {
          "base_uri": "https://localhost:8080/"
        },
        "id": "1AGfDNfj1mSO",
        "outputId": "c05d83f1-8e53-42e3-c86b-21ffdd545c9b"
      },
      "source": [
        "y_train_pred = clf.predict(x_train)\n",
        "y_val_pred = clf.predict(x_valid)\n",
        "y_train_prob = clf.predict_proba(x_train)\n",
        "y_val_prob = clf.predict_proba(x_valid)\n",
        "print(\"Training accuracy: \", metrics.accuracy_score(y_train, y_train_pred))\n",
        "print(\"Validation accuracy: \", metrics.accuracy_score(y_valid, y_val_pred))\n",
        "print(\"\\n\")\n",
        "print(\"Training precision: \", metrics.precision_score(y_train, y_train_pred))\n",
        "print(\"Validation precision: \", metrics.precision_score(y_train, y_train_pred))\n",
        "print(\"\\n\")\n",
        "print(\"Training recall: \", metrics.recall_score(y_train, y_train_pred))\n",
        "print(\"Validation recall: \", metrics.recall_score(y_train, y_train_pred))\n",
        "print(\"\\n\")\n",
        "# auc\n",
        "fpr, tpr, thresholds = metrics.roc_curve(y_train, y_train_prob[:,1], pos_label = 1)\n",
        "print(\"Training AUC\", metrics.auc(fpr, tpr))\n",
        "fpr, tpr, thresholds = metrics.roc_curve(y_valid, y_val_prob[:,1], pos_label = 1)\n",
        "print(\"Validation AUC\", metrics.auc(fpr, tpr))"
      ],
      "execution_count": 129,
      "outputs": [
        {
          "output_type": "stream",
          "text": [
            "Training accuracy:  0.809760966242167\n",
            "Validation accuracy:  0.8112810414357474\n",
            "\n",
            "\n",
            "Training precision:  0.8109185318905104\n",
            "Validation precision:  0.8109185318905104\n",
            "\n",
            "\n",
            "Training recall:  0.8079972109802495\n",
            "Validation recall:  0.8079972109802495\n",
            "\n",
            "\n",
            "Training AUC 0.8902077119295421\n",
            "Validation AUC 0.890833804972335\n"
          ],
          "name": "stdout"
        }
      ]
    },
    {
      "cell_type": "code",
      "metadata": {
        "id": "WdOdff_r1mSO"
      },
      "source": [
        ""
      ],
      "execution_count": null,
      "outputs": []
    },
    {
      "cell_type": "markdown",
      "metadata": {
        "id": "7q4zNZaJ2_85"
      },
      "source": [
        "# XGBoost SMOTE"
      ]
    },
    {
      "cell_type": "code",
      "metadata": {
        "id": "KAgU1GZJ3ATx"
      },
      "source": [
        ""
      ],
      "execution_count": 129,
      "outputs": []
    },
    {
      "cell_type": "code",
      "metadata": {
        "id": "Vs0LpA4E20Zn"
      },
      "source": [
        "# Parameters calcualted using the randomized search above\n",
        "clf2 =xgb.XGBClassifier(use_label_encoder = False, eval_metric = \"logloss\",\n",
        "                                    subsample= 0.6, n_estimators= 200, max_depth= 5, \n",
        "                                    learning_rate= 0.3,gamma= 0, colsample_bytree= 0.8, \n",
        "                                    colsample_bynode= 1,reg_lambda=1)"
      ],
      "execution_count": 130,
      "outputs": []
    },
    {
      "cell_type": "code",
      "metadata": {
        "colab": {
          "base_uri": "https://localhost:8080/"
        },
        "id": "pYMs6Qnt20Zn",
        "outputId": "09db264c-2633-4b74-c492-065829e5587d"
      },
      "source": [
        "clf2.fit(x_train, y_train)"
      ],
      "execution_count": 131,
      "outputs": [
        {
          "output_type": "execute_result",
          "data": {
            "text/plain": [
              "XGBClassifier(base_score=0.5, booster='gbtree', colsample_bylevel=1,\n",
              "              colsample_bynode=1, colsample_bytree=0.8, eval_metric='logloss',\n",
              "              gamma=0, learning_rate=0.3, max_delta_step=0, max_depth=5,\n",
              "              min_child_weight=1, missing=None, n_estimators=200, n_jobs=1,\n",
              "              nthread=None, objective='binary:logistic', random_state=0,\n",
              "              reg_alpha=0, reg_lambda=1, scale_pos_weight=1, seed=None,\n",
              "              silent=None, subsample=0.6, use_label_encoder=False, verbosity=1)"
            ]
          },
          "metadata": {
            "tags": []
          },
          "execution_count": 131
        }
      ]
    },
    {
      "cell_type": "code",
      "metadata": {
        "id": "cXvbToYm20Zo"
      },
      "source": [
        "train_pred = clf2.predict(x_train)\n",
        "val_pred = clf2.predict(x_valid)"
      ],
      "execution_count": 132,
      "outputs": []
    },
    {
      "cell_type": "code",
      "metadata": {
        "colab": {
          "base_uri": "https://localhost:8080/"
        },
        "id": "PAUM7ix-20Zp",
        "outputId": "7f0bf275-7ace-49bf-9b2e-e42fa6a9d839"
      },
      "source": [
        "\n",
        "print(\"Training accuracy: \", metrics.accuracy_score(y_train, train_pred))\n",
        "print(\"Validation accuracy: \", metrics.accuracy_score(y_valid, val_pred), '\\n')\n",
        "\n",
        "print(\"Training recall: \", metrics.recall_score(y_train, train_pred))\n",
        "print(\"Validation recall: \", metrics.recall_score(y_valid, val_pred))\n",
        "\n",
        "print(\"\\n\")\n",
        "\n",
        "print(\"Training precision: \", metrics.precision_score(y_train, train_pred))\n",
        "print(\"Validation precision: \", metrics.precision_score(y_valid, val_pred))\n",
        "\n",
        "print(\"\\n\")\n",
        "\n",
        "\n",
        "print(\"\\n\")\n",
        "\n",
        "y_train_prob = clf.predict_proba(x_train)\n",
        "y_val_prob = clf.predict_proba(x_valid)\n",
        "\n",
        "fpr, tpr, thresholds = metrics.roc_curve(y_train, y_train_prob[:,1], pos_label = 1)\n",
        "print(\"Training AUC: \", metrics.auc(fpr, tpr))\n",
        "\n",
        "fpr, tpr, thresholds = metrics.roc_curve(y_valid, y_val_prob[:,1], pos_label = 1)\n",
        "print(\"Validation AUC: \", metrics.auc(fpr, tpr))"
      ],
      "execution_count": 133,
      "outputs": [
        {
          "output_type": "stream",
          "text": [
            "Training accuracy:  0.9577546998180716\n",
            "Validation accuracy:  0.9554276820036318 \n",
            "\n",
            "Training recall:  0.9179512831006624\n",
            "Validation recall:  0.9152972265150353\n",
            "\n",
            "\n",
            "Training precision:  0.997364953886693\n",
            "Validation precision:  0.9951261431118293\n",
            "\n",
            "\n",
            "\n",
            "\n",
            "Training AUC:  0.8902077119295421\n",
            "Validation AUC:  0.890833804972335\n"
          ],
          "name": "stdout"
        }
      ]
    },
    {
      "cell_type": "code",
      "metadata": {
        "id": "-APwLaM83GX4"
      },
      "source": [
        ""
      ],
      "execution_count": null,
      "outputs": []
    },
    {
      "cell_type": "markdown",
      "metadata": {
        "id": "ggCbaDNo519q"
      },
      "source": [
        "# Random Forest SMOTE"
      ]
    },
    {
      "cell_type": "code",
      "metadata": {
        "id": "Pfq5R_Jr52Mg"
      },
      "source": [
        ""
      ],
      "execution_count": null,
      "outputs": []
    },
    {
      "cell_type": "code",
      "metadata": {
        "id": "G8JkebrO508A"
      },
      "source": [
        ""
      ],
      "execution_count": null,
      "outputs": []
    },
    {
      "cell_type": "code",
      "metadata": {
        "id": "2W5Znvyn6Ciq"
      },
      "source": [
        "clf3 = RandomForestClassifier(n_estimators=400,min_samples_split=520,min_samples_leaf=55,max_samples=0.3, max_features=5, max_depth=7, n_jobs=4)"
      ],
      "execution_count": 134,
      "outputs": []
    },
    {
      "cell_type": "code",
      "metadata": {
        "colab": {
          "base_uri": "https://localhost:8080/"
        },
        "id": "0dI2aABA6Cir",
        "outputId": "6e8dc45d-af78-47e0-9e7a-b413ca050798"
      },
      "source": [
        "clf3.fit(x_train, y_train)"
      ],
      "execution_count": 135,
      "outputs": [
        {
          "output_type": "execute_result",
          "data": {
            "text/plain": [
              "RandomForestClassifier(bootstrap=True, ccp_alpha=0.0, class_weight=None,\n",
              "                       criterion='gini', max_depth=7, max_features=5,\n",
              "                       max_leaf_nodes=None, max_samples=0.3,\n",
              "                       min_impurity_decrease=0.0, min_impurity_split=None,\n",
              "                       min_samples_leaf=55, min_samples_split=520,\n",
              "                       min_weight_fraction_leaf=0.0, n_estimators=400, n_jobs=4,\n",
              "                       oob_score=False, random_state=None, verbose=0,\n",
              "                       warm_start=False)"
            ]
          },
          "metadata": {
            "tags": []
          },
          "execution_count": 135
        }
      ]
    },
    {
      "cell_type": "code",
      "metadata": {
        "id": "FrpNzlMS6Cis"
      },
      "source": [
        ""
      ],
      "execution_count": 135,
      "outputs": []
    },
    {
      "cell_type": "code",
      "metadata": {
        "id": "E3lb_cfl6Cis"
      },
      "source": [
        "train_pred = clf3.predict(x_train)\n",
        "val_pred = clf3.predict(x_valid)"
      ],
      "execution_count": 136,
      "outputs": []
    },
    {
      "cell_type": "code",
      "metadata": {
        "colab": {
          "base_uri": "https://localhost:8080/"
        },
        "id": "Gl51zZu66Ci0",
        "outputId": "ec13f544-8961-4735-df18-75873a46d7bf"
      },
      "source": [
        "print(\"Training recall: \", metrics.recall_score(y_train, train_pred))\n",
        "print(\"Validation recall: \", metrics.recall_score(y_valid, val_pred))\n",
        "\n",
        "print(\"\\n\")\n",
        "\n",
        "print(\"Training precision: \", metrics.precision_score(y_train, train_pred))\n",
        "print(\"Validation precision: \", metrics.precision_score(y_valid, val_pred))\n",
        "\n",
        "print(\"\\n\")\n",
        "\n",
        "print(\"Training accuracy: \", metrics.accuracy_score(y_train, train_pred))\n",
        "print(\"Validation accuracy: \", metrics.accuracy_score(y_valid, val_pred))\n",
        "\n",
        "print(\"\\n\")\n",
        "\n",
        "y_train_prob = clf.predict_proba(x_train)\n",
        "y_val_prob = clf.predict_proba(x_valid)\n",
        "\n",
        "fpr, tpr, thresholds = metrics.roc_curve(y_train, y_train_prob[:,1], pos_label = 1)\n",
        "print(\"Training AUC: \", metrics.auc(fpr, tpr))\n",
        "\n",
        "fpr, tpr, thresholds = metrics.roc_curve(y_valid, y_val_prob[:,1], pos_label = 1)\n",
        "print(\"Validation AUC: \", metrics.auc(fpr, tpr))"
      ],
      "execution_count": 137,
      "outputs": [
        {
          "output_type": "stream",
          "text": [
            "Training recall:  0.8772932361218478\n",
            "Validation recall:  0.8766972996567061\n",
            "\n",
            "\n",
            "Training precision:  0.9453221977830528\n",
            "Validation precision:  0.9450385950633926\n",
            "\n",
            "\n",
            "Training accuracy:  0.913258035172832\n",
            "Validation accuracy:  0.9128953140108012\n",
            "\n",
            "\n",
            "Training AUC:  0.8902077119295421\n",
            "Validation AUC:  0.890833804972335\n"
          ],
          "name": "stdout"
        }
      ]
    },
    {
      "cell_type": "code",
      "metadata": {
        "id": "EUnTJ1sj6YE8"
      },
      "source": [
        ""
      ],
      "execution_count": null,
      "outputs": []
    },
    {
      "cell_type": "markdown",
      "metadata": {
        "id": "2nMQAPZ46Ci1"
      },
      "source": [
        "# Neural Network Smote"
      ]
    },
    {
      "cell_type": "code",
      "metadata": {
        "id": "4lFiPksK7SPg"
      },
      "source": [
        ""
      ],
      "execution_count": null,
      "outputs": []
    },
    {
      "cell_type": "code",
      "metadata": {
        "colab": {
          "base_uri": "https://localhost:8080/"
        },
        "id": "5avv_qiY6Ci1",
        "outputId": "2124b29c-d6c2-4bf7-dec6-7928d93ca907"
      },
      "source": [
        "\n",
        "from sklearn.preprocessing import MinMaxScaler\n",
        "scaler = MinMaxScaler()\n",
        "X_scale=scaler.fit_transform(x)\n",
        "X_scale.shape"
      ],
      "execution_count": 138,
      "outputs": [
        {
          "output_type": "execute_result",
          "data": {
            "text/plain": [
              "(565372, 128)"
            ]
          },
          "metadata": {
            "tags": []
          },
          "execution_count": 138
        }
      ]
    },
    {
      "cell_type": "code",
      "metadata": {
        "id": "VrDTqWuu6Ci2"
      },
      "source": [
        "train_X_nn, valid_X_nn, train_y_nn, valid_y_nn = train_test_split(X_scale, y, test_size=0.3, random_state=1)"
      ],
      "execution_count": 139,
      "outputs": []
    },
    {
      "cell_type": "code",
      "metadata": {
        "id": "atWSxCLK6Ci2"
      },
      "source": [
        ""
      ],
      "execution_count": 139,
      "outputs": []
    },
    {
      "cell_type": "code",
      "metadata": {
        "id": "XP8dJUB46Ci2"
      },
      "source": [
        "model2 = tf.keras.Sequential([ tf.keras.layers.Flatten(),\n",
        "                             tf.keras.layers.Dense(units=128, activation=tf.nn.relu),\n",
        "                             tf.keras.layers.Dense(units=1,activation=tf.nn.sigmoid)])"
      ],
      "execution_count": 140,
      "outputs": []
    },
    {
      "cell_type": "code",
      "metadata": {
        "id": "e3iwZjiQ6Ci2"
      },
      "source": [
        "model2.compile(optimizer= tf.optimizers.Adam(),\n",
        "              loss = tf.losses.binary_crossentropy,\n",
        "              metrics = ['accuracy'])"
      ],
      "execution_count": 141,
      "outputs": []
    },
    {
      "cell_type": "code",
      "metadata": {
        "colab": {
          "base_uri": "https://localhost:8080/"
        },
        "id": "g4fz-HTI6Ci3",
        "outputId": "2465a713-68a9-466e-87f3-f098440495bd"
      },
      "source": [
        "model2.fit(train_X_nn, train_y_nn, epochs = 15)"
      ],
      "execution_count": 142,
      "outputs": [
        {
          "output_type": "stream",
          "text": [
            "Epoch 1/15\n",
            "12368/12368 [==============================] - 20s 2ms/step - loss: 0.4557 - accuracy: 0.7842\n",
            "Epoch 2/15\n",
            "12368/12368 [==============================] - 20s 2ms/step - loss: 0.2546 - accuracy: 0.8978\n",
            "Epoch 3/15\n",
            "12368/12368 [==============================] - 21s 2ms/step - loss: 0.2204 - accuracy: 0.9139\n",
            "Epoch 4/15\n",
            "12368/12368 [==============================] - 20s 2ms/step - loss: 0.2077 - accuracy: 0.9207\n",
            "Epoch 5/15\n",
            "12368/12368 [==============================] - 19s 2ms/step - loss: 0.2006 - accuracy: 0.9249\n",
            "Epoch 6/15\n",
            "12368/12368 [==============================] - 19s 2ms/step - loss: 0.1948 - accuracy: 0.9276\n",
            "Epoch 7/15\n",
            "12368/12368 [==============================] - 19s 2ms/step - loss: 0.1923 - accuracy: 0.9287\n",
            "Epoch 8/15\n",
            "12368/12368 [==============================] - 19s 2ms/step - loss: 0.1890 - accuracy: 0.9302\n",
            "Epoch 9/15\n",
            "12368/12368 [==============================] - 19s 2ms/step - loss: 0.1857 - accuracy: 0.9324\n",
            "Epoch 10/15\n",
            "12368/12368 [==============================] - 19s 2ms/step - loss: 0.1839 - accuracy: 0.9334\n",
            "Epoch 11/15\n",
            "12368/12368 [==============================] - 19s 2ms/step - loss: 0.1826 - accuracy: 0.9336\n",
            "Epoch 12/15\n",
            "12368/12368 [==============================] - 20s 2ms/step - loss: 0.1802 - accuracy: 0.9350\n",
            "Epoch 13/15\n",
            "12368/12368 [==============================] - 20s 2ms/step - loss: 0.1783 - accuracy: 0.9353\n",
            "Epoch 14/15\n",
            "12368/12368 [==============================] - 20s 2ms/step - loss: 0.1778 - accuracy: 0.9356\n",
            "Epoch 15/15\n",
            "12368/12368 [==============================] - 20s 2ms/step - loss: 0.1758 - accuracy: 0.9367\n"
          ],
          "name": "stdout"
        },
        {
          "output_type": "execute_result",
          "data": {
            "text/plain": [
              "<tensorflow.python.keras.callbacks.History at 0x7f965ef97310>"
            ]
          },
          "metadata": {
            "tags": []
          },
          "execution_count": 142
        }
      ]
    },
    {
      "cell_type": "code",
      "metadata": {
        "colab": {
          "base_uri": "https://localhost:8080/"
        },
        "id": "KjlxN_dA6Ci3",
        "outputId": "fe967976-214a-484e-b166-144e193c93c1"
      },
      "source": [
        "model2.evaluate(valid_X_nn, valid_y_nn)"
      ],
      "execution_count": 143,
      "outputs": [
        {
          "output_type": "stream",
          "text": [
            "5301/5301 [==============================] - 6s 1ms/step - loss: 0.2062 - accuracy: 0.9322\n"
          ],
          "name": "stdout"
        },
        {
          "output_type": "execute_result",
          "data": {
            "text/plain": [
              "[0.20616698265075684, 0.932192325592041]"
            ]
          },
          "metadata": {
            "tags": []
          },
          "execution_count": 143
        }
      ]
    },
    {
      "cell_type": "code",
      "metadata": {
        "id": "vhdoSrHK6Ci3"
      },
      "source": [
        "y_pred_valid = model2.predict(valid_X_nn).ravel()\n",
        "y_pred = model2.predict(train_X_nn).ravel()"
      ],
      "execution_count": 144,
      "outputs": []
    },
    {
      "cell_type": "code",
      "metadata": {
        "colab": {
          "base_uri": "https://localhost:8080/"
        },
        "id": "qJ0L2XRP6Ci3",
        "outputId": "be6471e5-5bc3-4a39-99e7-6c0364044d80"
      },
      "source": [
        "\n",
        "from sklearn.metrics import accuracy_score, precision_score,recall_score,f1_score,roc_auc_score,classification_report, confusion_matrix\n",
        "# predict probabilities for test set\n",
        "prediction_probs = model2.predict(valid_X_nn)\n",
        "# predict classes\n",
        "nn_prediction_train = (model2.predict(train_X_nn) > 0.5).astype(\"int32\")\n",
        "nn_prediction_valid = (model2.predict(valid_X_nn) > 0.5).astype(\"int32\")\n",
        "\n",
        "print(\"Accuracy on train is:\",accuracy_score(train_y_nn,nn_prediction_train))\n",
        "print(\"Accuracy on test is:\",accuracy_score(valid_y_nn,nn_prediction_valid))\n",
        "print(\"Precision_score train is:\",precision_score(train_y_nn,nn_prediction_train))\n",
        "print(\"Precision_score on test is:\",precision_score(valid_y_nn,nn_prediction_valid))\n",
        "print(\"Recall_score on train is:\",recall_score(train_y_nn,nn_prediction_train))\n",
        "print(\"Recall_score on test is:\",recall_score(valid_y_nn,nn_prediction_valid))\n",
        "print(\"f1_score on train is:\",f1_score(train_y_nn,nn_prediction_train))\n",
        "print(\"f1_score on test is:\",f1_score(valid_y_nn,nn_prediction_valid))\n",
        "\n",
        "from sklearn.metrics import roc_curve, auc\n",
        "fpr, tpr, thresholds = roc_curve(train_y_nn, y_pred)\n",
        "print(\"NeuralNetworks Train  AUC: \",str(auc(fpr, tpr)))\n",
        "#fpr, tpr, thresholds = roc_curve(valid_y,nn_prediction_valid)\n",
        "fpr, tpr, thresholds = roc_curve(valid_y_nn, y_pred_valid)\n",
        "print(\"NeuralNetworkss Valid AUC: \",str(auc(fpr, tpr)),\"\\n\")"
      ],
      "execution_count": 146,
      "outputs": [
        {
          "output_type": "stream",
          "text": [
            "Accuracy on train is: 0.9345310289064079\n",
            "Accuracy on test is: 0.9321922977147843\n",
            "Precision_score train is: 0.9969142044830714\n",
            "Precision_score on test is: 0.9952697588928533\n",
            "Recall_score on train is: 0.871769087335075\n",
            "Recall_score on test is: 0.868491502836319\n",
            "f1_score on train is: 0.9301511818495514\n",
            "f1_score on test is: 0.9275687250055106\n",
            "NeuralNetworks Train  AUC:  0.9739343302166217\n",
            "NeuralNetworkss Valid AUC:  0.9686052345888465 \n",
            "\n"
          ],
          "name": "stdout"
        }
      ]
    },
    {
      "cell_type": "code",
      "metadata": {
        "id": "D_kD-LAa6Ci4"
      },
      "source": [
        ""
      ],
      "execution_count": 148,
      "outputs": []
    }
  ]
}